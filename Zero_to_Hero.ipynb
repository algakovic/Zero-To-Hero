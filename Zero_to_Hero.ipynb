{
 "cells": [
  {
   "cell_type": "markdown",
   "metadata": {},
   "source": [
    "# Zero to Hero : An Overwatch Hero Recommender"
   ]
  },
  {
   "cell_type": "markdown",
   "metadata": {},
   "source": [
    "# Table of Contents:\n",
    "\n",
    "1. **Data and Functions Import**  \n",
    "2. **Cleaning and Reformating Data into Relevant Structure**  \n",
    "3. **Role Category Implementation**  \n",
    "4. **Implementing the Recommendation System**  \n",
    "    4.1 Training the model  \n",
    "5. **Making a Recommendation**  \n",
    "    5.1 Interactive user_rating input  \n",
    "    5.2 Making predictions with new user ratings"
   ]
  },
  {
   "cell_type": "markdown",
   "metadata": {},
   "source": [
    "## Executive Summary\n",
    "Zero to Hero is a recommendation system that offers users who play the popular eSports title: Overwatch a way to choose a hero to play with. In Overwatch, two teams of 6 players go head to head in a heated contest. With a growing pool of 31 heroes to choose from in 3 different roles, new and veteran users can benefit from this hero recommender. \n",
    "\n",
    "Often players will be stuck single-mindedly on a hero unwilling to choose a new hero to play. This can put enormous pressure on the team. These users will be able to get a hero recommended to them using Zero to hero. Older players who have played a long time and want to diversify their hero pool can also benefit. \n",
    "\n",
    "The system falls in line with the game developers encouragement to players of choosing heroes that they enjoy playing or at the very least providing some variety in their hero choices."
   ]
  },
  {
   "cell_type": "markdown",
   "metadata": {},
   "source": [
    "## 1. Data and Functions Import"
   ]
  },
  {
   "cell_type": "code",
   "execution_count": 1,
   "metadata": {},
   "outputs": [
    {
     "ename": "ModuleNotFoundError",
     "evalue": "No module named 'surprise'",
     "output_type": "error",
     "traceback": [
      "\u001b[1;31m---------------------------------------------------------------------------\u001b[0m",
      "\u001b[1;31mModuleNotFoundError\u001b[0m                       Traceback (most recent call last)",
      "\u001b[1;32m<ipython-input-1-237a8610a5ee>\u001b[0m in \u001b[0;36m<module>\u001b[1;34m\u001b[0m\n\u001b[0;32m      1\u001b[0m \u001b[1;31m# Import all local functions from the source py file:\u001b[0m\u001b[1;33m\u001b[0m\u001b[1;33m\u001b[0m\u001b[1;33m\u001b[0m\u001b[0m\n\u001b[1;32m----> 2\u001b[1;33m \u001b[1;32mfrom\u001b[0m \u001b[0mrecommender_utils\u001b[0m \u001b[1;32mimport\u001b[0m \u001b[1;33m*\u001b[0m\u001b[1;33m\u001b[0m\u001b[1;33m\u001b[0m\u001b[0m\n\u001b[0m",
      "\u001b[1;32m~\\code\\learn\\Zero-To-Hero\\recommender_utils.py\u001b[0m in \u001b[0;36m<module>\u001b[1;34m\u001b[0m\n\u001b[0;32m      5\u001b[0m \u001b[1;32mimport\u001b[0m \u001b[0mpandas\u001b[0m \u001b[1;32mas\u001b[0m \u001b[0mpd\u001b[0m\u001b[1;33m\u001b[0m\u001b[1;33m\u001b[0m\u001b[0m\n\u001b[0;32m      6\u001b[0m \u001b[1;32mimport\u001b[0m \u001b[0mnumpy\u001b[0m \u001b[1;32mas\u001b[0m \u001b[0mnp\u001b[0m\u001b[1;33m\u001b[0m\u001b[1;33m\u001b[0m\u001b[0m\n\u001b[1;32m----> 7\u001b[1;33m \u001b[1;32mfrom\u001b[0m \u001b[0msurprise\u001b[0m \u001b[1;32mimport\u001b[0m \u001b[0mReader\u001b[0m\u001b[1;33m,\u001b[0m \u001b[0mDataset\u001b[0m\u001b[1;33m,\u001b[0m \u001b[0maccuracy\u001b[0m\u001b[1;33m\u001b[0m\u001b[1;33m\u001b[0m\u001b[0m\n\u001b[0m\u001b[0;32m      8\u001b[0m \u001b[1;32mfrom\u001b[0m \u001b[0msurprise\u001b[0m\u001b[1;33m.\u001b[0m\u001b[0mprediction_algorithms\u001b[0m \u001b[1;32mimport\u001b[0m \u001b[0mKNNWithMeans\u001b[0m\u001b[1;33m,\u001b[0m \u001b[0mKNNBasic\u001b[0m\u001b[1;33m,\u001b[0m \u001b[0mKNNBaseline\u001b[0m\u001b[1;33m\u001b[0m\u001b[1;33m\u001b[0m\u001b[0m\n\u001b[0;32m      9\u001b[0m \u001b[1;33m\u001b[0m\u001b[0m\n",
      "\u001b[1;31mModuleNotFoundError\u001b[0m: No module named 'surprise'"
     ]
    }
   ],
   "source": [
    "# Import all local functions from the source py file:\n",
    "from recommender_utils import *"
   ]
  },
  {
   "cell_type": "code",
   "execution_count": null,
   "metadata": {},
   "outputs": [],
   "source": [
    "# Read in the top5 heroes data for 60k users:\n",
    "top5 = pd.read_csv('60k_Top5_heroes.csv')\n",
    "top5"
   ]
  },
  {
   "cell_type": "markdown",
   "metadata": {},
   "source": [
    "## 2. Cleaning and formatting Data"
   ]
  },
  {
   "cell_type": "code",
   "execution_count": 2,
   "metadata": {},
   "outputs": [
    {
     "ename": "NameError",
     "evalue": "name 'preprocessing' is not defined",
     "output_type": "error",
     "traceback": [
      "\u001b[1;31m---------------------------------------------------------------------------\u001b[0m",
      "\u001b[1;31mNameError\u001b[0m                                 Traceback (most recent call last)",
      "\u001b[1;32m<ipython-input-2-becd9ecf2aee>\u001b[0m in \u001b[0;36m<module>\u001b[1;34m\u001b[0m\n\u001b[0;32m      1\u001b[0m \u001b[1;31m# Apply preprocessing and curation to clean missing values, format data as Dummies\u001b[0m\u001b[1;33m\u001b[0m\u001b[1;33m\u001b[0m\u001b[1;33m\u001b[0m\u001b[0m\n\u001b[0;32m      2\u001b[0m \u001b[1;31m# and apply ratings to the top5 heroes:\u001b[0m\u001b[1;33m\u001b[0m\u001b[1;33m\u001b[0m\u001b[1;33m\u001b[0m\u001b[0m\n\u001b[1;32m----> 3\u001b[1;33m \u001b[0mheroes_preprocessed\u001b[0m \u001b[1;33m=\u001b[0m \u001b[0mpreprocessing\u001b[0m\u001b[1;33m(\u001b[0m\u001b[0mtop5\u001b[0m\u001b[1;33m)\u001b[0m\u001b[1;33m\u001b[0m\u001b[1;33m\u001b[0m\u001b[0m\n\u001b[0m\u001b[0;32m      4\u001b[0m \u001b[0mheroes_curated\u001b[0m \u001b[1;33m=\u001b[0m \u001b[0mapply_curation\u001b[0m\u001b[1;33m(\u001b[0m\u001b[0mheroes_preprocessed\u001b[0m\u001b[1;33m)\u001b[0m\u001b[1;33m\u001b[0m\u001b[1;33m\u001b[0m\u001b[0m\n",
      "\u001b[1;31mNameError\u001b[0m: name 'preprocessing' is not defined"
     ]
    }
   ],
   "source": [
    "# Apply preprocessing and curation to clean missing values, format data as Dummies\n",
    "# and apply ratings to the top5 heroes:\n",
    "heroes_preprocessed = preprocessing(top5)\n",
    "heroes_curated = apply_curation(heroes_preprocessed)"
   ]
  },
  {
   "cell_type": "code",
   "execution_count": 4,
   "metadata": {},
   "outputs": [
    {
     "data": {
      "text/html": [
       "<div>\n",
       "<style scoped>\n",
       "    .dataframe tbody tr th:only-of-type {\n",
       "        vertical-align: middle;\n",
       "    }\n",
       "\n",
       "    .dataframe tbody tr th {\n",
       "        vertical-align: top;\n",
       "    }\n",
       "\n",
       "    .dataframe thead th {\n",
       "        text-align: right;\n",
       "    }\n",
       "</style>\n",
       "<table border=\"1\" class=\"dataframe\">\n",
       "  <thead>\n",
       "    <tr style=\"text-align: right;\">\n",
       "      <th></th>\n",
       "      <th>Battle_Tag</th>\n",
       "      <th>Hero</th>\n",
       "      <th>Ratings</th>\n",
       "    </tr>\n",
       "  </thead>\n",
       "  <tbody>\n",
       "    <tr>\n",
       "      <td>0</td>\n",
       "      <td>Morellio-1416</td>\n",
       "      <td>Ana</td>\n",
       "      <td>0.0</td>\n",
       "    </tr>\n",
       "    <tr>\n",
       "      <td>1</td>\n",
       "      <td>Zinux-1251</td>\n",
       "      <td>Ana</td>\n",
       "      <td>4.8</td>\n",
       "    </tr>\n",
       "    <tr>\n",
       "      <td>2</td>\n",
       "      <td>BluePillow-21338</td>\n",
       "      <td>Ana</td>\n",
       "      <td>0.0</td>\n",
       "    </tr>\n",
       "    <tr>\n",
       "      <td>3</td>\n",
       "      <td>Miyuna-21516</td>\n",
       "      <td>Ana</td>\n",
       "      <td>0.0</td>\n",
       "    </tr>\n",
       "    <tr>\n",
       "      <td>4</td>\n",
       "      <td>Mood-21538</td>\n",
       "      <td>Ana</td>\n",
       "      <td>4.4</td>\n",
       "    </tr>\n",
       "    <tr>\n",
       "      <td>...</td>\n",
       "      <td>...</td>\n",
       "      <td>...</td>\n",
       "      <td>...</td>\n",
       "    </tr>\n",
       "    <tr>\n",
       "      <td>1870783</td>\n",
       "      <td>Dot-11883</td>\n",
       "      <td>Zenyatta</td>\n",
       "      <td>0.0</td>\n",
       "    </tr>\n",
       "    <tr>\n",
       "      <td>1870784</td>\n",
       "      <td>hanayarawa55-1556</td>\n",
       "      <td>Zenyatta</td>\n",
       "      <td>4.8</td>\n",
       "    </tr>\n",
       "    <tr>\n",
       "      <td>1870785</td>\n",
       "      <td>blowedglass-1740</td>\n",
       "      <td>Zenyatta</td>\n",
       "      <td>0.0</td>\n",
       "    </tr>\n",
       "    <tr>\n",
       "      <td>1870786</td>\n",
       "      <td>FlashedDusk-2754</td>\n",
       "      <td>Zenyatta</td>\n",
       "      <td>0.0</td>\n",
       "    </tr>\n",
       "    <tr>\n",
       "      <td>1870787</td>\n",
       "      <td>HandOfOdin-1208</td>\n",
       "      <td>Zenyatta</td>\n",
       "      <td>0.0</td>\n",
       "    </tr>\n",
       "  </tbody>\n",
       "</table>\n",
       "<p>1870788 rows × 3 columns</p>\n",
       "</div>"
      ],
      "text/plain": [
       "                Battle_Tag      Hero  Ratings\n",
       "0            Morellio-1416       Ana      0.0\n",
       "1               Zinux-1251       Ana      4.8\n",
       "2         BluePillow-21338       Ana      0.0\n",
       "3             Miyuna-21516       Ana      0.0\n",
       "4               Mood-21538       Ana      4.4\n",
       "...                    ...       ...      ...\n",
       "1870783          Dot-11883  Zenyatta      0.0\n",
       "1870784  hanayarawa55-1556  Zenyatta      4.8\n",
       "1870785   blowedglass-1740  Zenyatta      0.0\n",
       "1870786   FlashedDusk-2754  Zenyatta      0.0\n",
       "1870787    HandOfOdin-1208  Zenyatta      0.0\n",
       "\n",
       "[1870788 rows x 3 columns]"
      ]
     },
     "execution_count": 4,
     "metadata": {},
     "output_type": "execute_result"
    }
   ],
   "source": [
    "# Melt the dummy data into the corect format for the recommendation engine:\n",
    "heroes = concat_melt(heroes_curated)\n",
    "# Rename the columns of the dataframe:\n",
    "heroes.rename(columns={\"variable\":\"Hero\", \"value\":\"Ratings\"}, inplace = True)\n",
    "heroes"
   ]
  },
  {
   "cell_type": "markdown",
   "metadata": {},
   "source": [
    "## 3. Role Category Implementation"
   ]
  },
  {
   "cell_type": "code",
   "execution_count": 4,
   "metadata": {},
   "outputs": [],
   "source": [
    "# Create Role category for each Hero;\n",
    "tanks = ['D.Va','Orisa', 'Reinhardt', 'Roadhog', 'Sigma', 'Winston', 'Wrecking Ball', 'Zarya']\n",
    "damage = ['Ashe','Bastion','Doomfist','Genji','Hanzo','Junkrat','McCree','Mei','Pharah','Reaper','Soldier: 76','Sombra','Symmetra','Torbjörn','Tracer','Widowmaker']\n",
    "support = ['Ana','Baptiste','Brigitte','Lúcio','Mercy','Moira','Zenyatta']\n",
    "\n",
    "# Create list of all heroes to use in predict function later\n",
    "all_heroes = tanks+damage+support\n",
    "# create roles df and apply role column adding in the role of the hero. To be used in interactive input function later\n",
    "roles = heroes.copy()\n",
    "roles['Role'] = ['Tank' if x in tanks else 'Damage' if x in damage else 'Support' for x in heroes['Hero']] \n"
   ]
  },
  {
   "cell_type": "code",
   "execution_count": 5,
   "metadata": {},
   "outputs": [],
   "source": [
    "# check the state of the dataframes: \n",
    "# heroes\n",
    "# roles"
   ]
  },
  {
   "cell_type": "markdown",
   "metadata": {},
   "source": [
    "## 4. Implementing the Recommendation system"
   ]
  },
  {
   "cell_type": "code",
   "execution_count": 6,
   "metadata": {},
   "outputs": [],
   "source": [
    "# importing relevant libraries\n",
    "from surprise import Reader, Dataset, accuracy\n",
    "from surprise.model_selection import train_test_split\n",
    "\n",
    "# from surprise.model_selection import cross_validate\n",
    "# from surprise.prediction_algorithms import SVD\n",
    "from surprise.prediction_algorithms import KNNWithMeans, KNNBasic, KNNBaseline\n",
    "# from surprise.model_selection import GridSearchCV\n",
    "\n",
    "\n",
    "#Read in Values as a Surprise Dataset:\n",
    "reader = Reader(rating_scale=(1,5))\n",
    "\n",
    "train_data = Dataset.load_from_df(heroes[['Battle_Tag', 'Hero', 'Ratings']], reader)\n",
    "\n",
    "# Train test split the dataset \n",
    "trainset, testset = train_test_split(train_data, test_size=.25)\n"
   ]
  },
  {
   "cell_type": "markdown",
   "metadata": {},
   "source": [
    "### 4.1 Training the Model"
   ]
  },
  {
   "cell_type": "code",
   "execution_count": 5,
   "metadata": {},
   "outputs": [
    {
     "ename": "NameError",
     "evalue": "name 'trainset' is not defined",
     "output_type": "error",
     "traceback": [
      "\u001b[0;31m---------------------------------------------------------------------------\u001b[0m",
      "\u001b[0;31mNameError\u001b[0m                                 Traceback (most recent call last)",
      "\u001b[0;32m<ipython-input-5-e883d001716d>\u001b[0m in \u001b[0;36m<module>\u001b[0;34m\u001b[0m\n\u001b[1;32m      3\u001b[0m \u001b[0;34m\u001b[0m\u001b[0m\n\u001b[1;32m      4\u001b[0m \u001b[0malgobaseitems\u001b[0m \u001b[0;34m=\u001b[0m \u001b[0mKNNBaseline\u001b[0m\u001b[0;34m(\u001b[0m\u001b[0msim_options\u001b[0m\u001b[0;34m=\u001b[0m\u001b[0;34m{\u001b[0m\u001b[0;34m'name'\u001b[0m\u001b[0;34m:\u001b[0m\u001b[0;34m'cosine'\u001b[0m\u001b[0;34m,\u001b[0m \u001b[0;34m'user_based'\u001b[0m\u001b[0;34m:\u001b[0m\u001b[0;32mFalse\u001b[0m\u001b[0;34m}\u001b[0m\u001b[0;34m)\u001b[0m\u001b[0;34m\u001b[0m\u001b[0;34m\u001b[0m\u001b[0m\n\u001b[0;32m----> 5\u001b[0;31m \u001b[0malgobaseitems\u001b[0m\u001b[0;34m.\u001b[0m\u001b[0mfit\u001b[0m\u001b[0;34m(\u001b[0m\u001b[0mtrainset\u001b[0m\u001b[0;34m)\u001b[0m\u001b[0;34m\u001b[0m\u001b[0;34m\u001b[0m\u001b[0m\n\u001b[0m\u001b[1;32m      6\u001b[0m \u001b[0mpredictions\u001b[0m \u001b[0;34m=\u001b[0m \u001b[0malgobaseitems\u001b[0m\u001b[0;34m.\u001b[0m\u001b[0mtest\u001b[0m\u001b[0;34m(\u001b[0m\u001b[0mtestset\u001b[0m\u001b[0;34m)\u001b[0m\u001b[0;34m\u001b[0m\u001b[0;34m\u001b[0m\u001b[0m\n\u001b[1;32m      7\u001b[0m \u001b[0maccuracy\u001b[0m\u001b[0;34m.\u001b[0m\u001b[0mrmse\u001b[0m\u001b[0;34m(\u001b[0m\u001b[0mpredictions\u001b[0m\u001b[0;34m)\u001b[0m\u001b[0;34m\u001b[0m\u001b[0;34m\u001b[0m\u001b[0m\n",
      "\u001b[0;31mNameError\u001b[0m: name 'trainset' is not defined"
     ]
    }
   ],
   "source": [
    "# # Instantiate KNN Baseline memory based model:\n",
    "# # ⏰ This cell may take a couple of minutes to run\n",
    "\n",
    "algobaseitems = KNNBaseline(sim_options={'name':'cosine', 'user_based':False})\n",
    "algobaseitems.fit(trainset)\n",
    "\n",
    "# Evaluating the model performance on testset and observing the model accuracy:\n",
    "predictions = algobaseitems.test(testset)\n",
    "accuracy.rmse(predictions)\n"
   ]
  },
  {
   "cell_type": "markdown",
   "metadata": {},
   "source": [
    "## 5. Making a Recommendation\n"
   ]
  },
  {
   "cell_type": "markdown",
   "metadata": {},
   "source": [
    "### 5.1 Interactive User Rating Input"
   ]
  },
  {
   "cell_type": "code",
   "execution_count": 8,
   "metadata": {},
   "outputs": [
    {
     "name": "stdout",
     "output_type": "stream",
     "text": [
      "             Hero     Role\n",
      "1838193  Zenyatta  Support\n"
     ]
    },
    {
     "name": "stdin",
     "output_type": "stream",
     "text": [
      "How do you rate this Hero on a scale of 1-5?, press n if you do not want to give a rating :\n",
      " 5\n"
     ]
    },
    {
     "name": "stdout",
     "output_type": "stream",
     "text": [
      "         Hero    Role\n",
      "428071  Genji  Damage\n"
     ]
    },
    {
     "name": "stdin",
     "output_type": "stream",
     "text": [
      "How do you rate this Hero on a scale of 1-5?, press n if you do not want to give a rating :\n",
      " 1\n"
     ]
    },
    {
     "name": "stdout",
     "output_type": "stream",
     "text": [
      "          Hero  Role\n",
      "1750391  Zarya  Tank\n"
     ]
    },
    {
     "name": "stdin",
     "output_type": "stream",
     "text": [
      "How do you rate this Hero on a scale of 1-5?, press n if you do not want to give a rating :\n",
      " 5\n"
     ]
    },
    {
     "name": "stdout",
     "output_type": "stream",
     "text": [
      "         Hero  Role\n",
      "950490  Orisa  Tank\n"
     ]
    },
    {
     "name": "stdin",
     "output_type": "stream",
     "text": [
      "How do you rate this Hero on a scale of 1-5?, press n if you do not want to give a rating :\n",
      " 4\n"
     ]
    },
    {
     "name": "stdout",
     "output_type": "stream",
     "text": [
      "             Hero    Role\n",
      "1421058  Symmetra  Damage\n"
     ]
    },
    {
     "name": "stdin",
     "output_type": "stream",
     "text": [
      "How do you rate this Hero on a scale of 1-5?, press n if you do not want to give a rating :\n",
      " 5\n"
     ]
    }
   ],
   "source": [
    "## try out the interactive user rating function here!\n",
    "user_rating = hero_rater('Newuser2', roles, 5)"
   ]
  },
  {
   "cell_type": "code",
   "execution_count": 9,
   "metadata": {},
   "outputs": [
    {
     "data": {
      "text/plain": [
       "[{'Battle_Tag': 'Newuser2', 'Hero': 'Zenyatta', 'Ratings': '5'},\n",
       " {'Battle_Tag': 'Newuser2', 'Hero': 'Genji', 'Ratings': '1'},\n",
       " {'Battle_Tag': 'Newuser2', 'Hero': 'Zarya', 'Ratings': '5'},\n",
       " {'Battle_Tag': 'Newuser2', 'Hero': 'Orisa', 'Ratings': '4'},\n",
       " {'Battle_Tag': 'Newuser2', 'Hero': 'Symmetra', 'Ratings': '5'}]"
      ]
     },
     "execution_count": 9,
     "metadata": {},
     "output_type": "execute_result"
    }
   ],
   "source": [
    "# check the format of our user_rating\n",
    "user_rating"
   ]
  },
  {
   "cell_type": "markdown",
   "metadata": {},
   "source": [
    "### 5.2 Making Predictions with the new user ratings\n"
   ]
  },
  {
   "cell_type": "code",
   "execution_count": 15,
   "metadata": {},
   "outputs": [
    {
     "name": "stdout",
     "output_type": "stream",
     "text": [
      "['Mercy', 'Moira', 'Orisa', 'Reinhardt', 'Winston']\n"
     ]
    },
    {
     "data": {
      "text/plain": [
       "[('Widowmaker', 1.1902253735881367),\n",
       " ('D.Va', 1.128029866688412),\n",
       " ('Ana', 1.0694060701969643),\n",
       " ('Hanzo', 1.0239084283666222),\n",
       " ('Genji', 0.9557899106566432),\n",
       " ('McCree', 0.8964564280769183),\n",
       " ('Lúcio', 0.8434863775075112),\n",
       " ('Zenyatta', 0.8072269794176803),\n",
       " ('Soldier: 76', 0.788818310085804),\n",
       " ('Roadhog', 0.6632566388655392),\n",
       " ('Brigitte', 0.6079452210204122),\n",
       " ('Junkrat', 0.6042837495737843),\n",
       " ('Zarya', 0.5246616770865432),\n",
       " ('Mei', 0.44627281879928665),\n",
       " ('Tracer', 0.4419836940485421),\n",
       " ('Pharah', 0.43270907168780937),\n",
       " ('Symmetra', 0.42751362987780417),\n",
       " ('Baptiste', 0.3842956779515646),\n",
       " ('Bastion', 0.34846166754378877),\n",
       " ('Sigma', 0.2947251408349301),\n",
       " ('Reaper', 0.27000918857572),\n",
       " ('Torbjörn', 0.2265075961635747),\n",
       " ('Wrecking Ball', 0.20937704959807615),\n",
       " ('Sombra', 0.05031639482956751),\n",
       " ('Ashe', -0.036750109464269015),\n",
       " ('Doomfist', -0.3020762525752598)]"
      ]
     },
     "execution_count": 15,
     "metadata": {},
     "output_type": "execute_result"
    }
   ],
   "source": [
    "# Call our prediction function to predict a new hero for a new user\n",
    "prediction(True, user_rating, heroes, algobaseitems, all_heroes, reader)"
   ]
  }
 ],
 "metadata": {
  "kernelspec": {
   "display_name": "Python 3",
   "language": "python",
   "name": "python3"
  },
  "language_info": {
   "codemirror_mode": {
    "name": "ipython",
    "version": 3
   },
   "file_extension": ".py",
   "mimetype": "text/x-python",
   "name": "python",
   "nbconvert_exporter": "python",
   "pygments_lexer": "ipython3",
   "version": "3.7.6"
  }
 },
 "nbformat": 4,
 "nbformat_minor": 4
}
