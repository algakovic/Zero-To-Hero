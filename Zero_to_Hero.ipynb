{
 "cells": [
  {
   "cell_type": "markdown",
   "metadata": {},
   "source": [
    "# Zero to Hero : An Overwatch Hero Recommender"
   ]
  },
  {
   "cell_type": "markdown",
   "metadata": {},
   "source": [
    "# Table of Contents:\n",
    "\n",
    "1. **Data and Functions Import**  \n",
    "2. **Cleaning and Reformating Data into Relevant Structure**  \n",
    "3. **Role Category Implementation**  \n",
    "4. **Implementing the Recommendation System**  \n",
    "    4.1 Training the model  \n",
    "5. **Making a Recommendation**  \n",
    "    5.1 Interactive user_rating input  \n",
    "    5.2 Making predictions with new user ratings"
   ]
  },
  {
   "cell_type": "markdown",
   "metadata": {},
   "source": [
    "## Executive Summary\n",
    "Zero to Hero is a recommendation system that offers users who play the popular eSports title: Overwatch a way to choose a hero to play with. In Overwatch, two teams of 6 players go head to head in a heated contest. With a growing pool of 31 heroes to choose from in 3 different roles, new and veteran users can benefit from this hero recommender. \n",
    "\n",
    "Often players will be stuck single-mindedly on a hero unwilling to choose a new hero to play. This can put enormous pressure on the team. These users will be able to get a hero recommended to them using Zero to hero. Older players who have played a long time and want to diversify their hero pool can also benefit. \n",
    "\n",
    "The system falls in line with the game developers encouragement to players of choosing heroes that they enjoy playing or at the very least providing some variety in their hero choices."
   ]
  },
  {
   "cell_type": "markdown",
   "metadata": {},
   "source": [
    "## 1. Data and Functions Import"
   ]
  },
  {
   "cell_type": "code",
   "execution_count": 3,
   "metadata": {},
   "outputs": [],
   "source": [
    "# Import all local functions from the source py file:\n",
    "from recommender_utils import *"
   ]
  },
  {
   "cell_type": "code",
   "execution_count": 4,
   "metadata": {},
   "outputs": [
    {
     "data": {
      "text/html": [
       "<div>\n",
       "<style scoped>\n",
       "    .dataframe tbody tr th:only-of-type {\n",
       "        vertical-align: middle;\n",
       "    }\n",
       "\n",
       "    .dataframe tbody tr th {\n",
       "        vertical-align: top;\n",
       "    }\n",
       "\n",
       "    .dataframe thead th {\n",
       "        text-align: right;\n",
       "    }\n",
       "</style>\n",
       "<table border=\"1\" class=\"dataframe\">\n",
       "  <thead>\n",
       "    <tr style=\"text-align: right;\">\n",
       "      <th></th>\n",
       "      <th>Battle_Tag</th>\n",
       "      <th>Hero1</th>\n",
       "      <th>Hero2</th>\n",
       "      <th>Hero3</th>\n",
       "      <th>Hero4</th>\n",
       "      <th>Hero5</th>\n",
       "    </tr>\n",
       "  </thead>\n",
       "  <tbody>\n",
       "    <tr>\n",
       "      <th>0</th>\n",
       "      <td>Morellio-1416</td>\n",
       "      <td>Mercy</td>\n",
       "      <td>Reinhardt</td>\n",
       "      <td>Orisa</td>\n",
       "      <td>Moira</td>\n",
       "      <td>Winston</td>\n",
       "    </tr>\n",
       "    <tr>\n",
       "      <th>1</th>\n",
       "      <td>Zinux-1251</td>\n",
       "      <td>Hanzo</td>\n",
       "      <td>Ana</td>\n",
       "      <td>Torbjörn</td>\n",
       "      <td>Soldier: 76</td>\n",
       "      <td>Lúcio</td>\n",
       "    </tr>\n",
       "    <tr>\n",
       "      <th>2</th>\n",
       "      <td>BluePillow-21338</td>\n",
       "      <td>Hanzo</td>\n",
       "      <td>Genji</td>\n",
       "      <td>Widowmaker</td>\n",
       "      <td>McCree</td>\n",
       "      <td>Tracer</td>\n",
       "    </tr>\n",
       "    <tr>\n",
       "      <th>3</th>\n",
       "      <td>Miyuna-21516</td>\n",
       "      <td>Widowmaker</td>\n",
       "      <td>Reinhardt</td>\n",
       "      <td>Pharah</td>\n",
       "      <td>Genji</td>\n",
       "      <td>Hanzo</td>\n",
       "    </tr>\n",
       "    <tr>\n",
       "      <th>4</th>\n",
       "      <td>Mood-21538</td>\n",
       "      <td>Widowmaker</td>\n",
       "      <td>Tracer</td>\n",
       "      <td>Hanzo</td>\n",
       "      <td>Ana</td>\n",
       "      <td>Zenyatta</td>\n",
       "    </tr>\n",
       "    <tr>\n",
       "      <th>...</th>\n",
       "      <td>...</td>\n",
       "      <td>...</td>\n",
       "      <td>...</td>\n",
       "      <td>...</td>\n",
       "      <td>...</td>\n",
       "      <td>...</td>\n",
       "    </tr>\n",
       "    <tr>\n",
       "      <th>64228</th>\n",
       "      <td>Dot-11883</td>\n",
       "      <td>Lúcio</td>\n",
       "      <td>Hanzo</td>\n",
       "      <td>Ana</td>\n",
       "      <td>Widowmaker</td>\n",
       "      <td>Genji</td>\n",
       "    </tr>\n",
       "    <tr>\n",
       "      <th>64229</th>\n",
       "      <td>hanayarawa55-1556</td>\n",
       "      <td>Ana</td>\n",
       "      <td>Zenyatta</td>\n",
       "      <td>Sigma</td>\n",
       "      <td>Moira</td>\n",
       "      <td>Lúcio</td>\n",
       "    </tr>\n",
       "    <tr>\n",
       "      <th>64230</th>\n",
       "      <td>blowedglass-1740</td>\n",
       "      <td>Winston</td>\n",
       "      <td>Reinhardt</td>\n",
       "      <td>Roadhog</td>\n",
       "      <td>D.Va</td>\n",
       "      <td>Hanzo</td>\n",
       "    </tr>\n",
       "    <tr>\n",
       "      <th>64231</th>\n",
       "      <td>FlashedDusk-2754</td>\n",
       "      <td>Genji</td>\n",
       "      <td>Ana</td>\n",
       "      <td>Reaper</td>\n",
       "      <td>Moira</td>\n",
       "      <td>Ashe</td>\n",
       "    </tr>\n",
       "    <tr>\n",
       "      <th>64232</th>\n",
       "      <td>HandOfOdin-1208</td>\n",
       "      <td>Reinhardt</td>\n",
       "      <td>Reaper</td>\n",
       "      <td>Bastion</td>\n",
       "      <td>Soldier: 76</td>\n",
       "      <td>Zarya</td>\n",
       "    </tr>\n",
       "  </tbody>\n",
       "</table>\n",
       "<p>64233 rows × 6 columns</p>\n",
       "</div>"
      ],
      "text/plain": [
       "              Battle_Tag       Hero1      Hero2       Hero3        Hero4  \\\n",
       "0          Morellio-1416       Mercy  Reinhardt       Orisa        Moira   \n",
       "1             Zinux-1251       Hanzo        Ana    Torbjörn  Soldier: 76   \n",
       "2       BluePillow-21338       Hanzo      Genji  Widowmaker       McCree   \n",
       "3           Miyuna-21516  Widowmaker  Reinhardt      Pharah        Genji   \n",
       "4             Mood-21538  Widowmaker     Tracer       Hanzo          Ana   \n",
       "...                  ...         ...        ...         ...          ...   \n",
       "64228          Dot-11883       Lúcio      Hanzo         Ana   Widowmaker   \n",
       "64229  hanayarawa55-1556         Ana   Zenyatta       Sigma        Moira   \n",
       "64230   blowedglass-1740     Winston  Reinhardt     Roadhog         D.Va   \n",
       "64231   FlashedDusk-2754       Genji        Ana      Reaper        Moira   \n",
       "64232    HandOfOdin-1208   Reinhardt     Reaper     Bastion  Soldier: 76   \n",
       "\n",
       "          Hero5  \n",
       "0       Winston  \n",
       "1         Lúcio  \n",
       "2        Tracer  \n",
       "3         Hanzo  \n",
       "4      Zenyatta  \n",
       "...         ...  \n",
       "64228     Genji  \n",
       "64229     Lúcio  \n",
       "64230     Hanzo  \n",
       "64231      Ashe  \n",
       "64232     Zarya  \n",
       "\n",
       "[64233 rows x 6 columns]"
      ]
     },
     "execution_count": 4,
     "metadata": {},
     "output_type": "execute_result"
    }
   ],
   "source": [
    "# Read in the top5 heroes data for 60k users:\n",
    "df_top5 = pd.read_csv('60k_Top5_heroes.csv')\n",
    "df_top5"
   ]
  },
  {
   "cell_type": "markdown",
   "metadata": {},
   "source": [
    "## 2. Cleaning and formatting Data"
   ]
  },
  {
   "cell_type": "code",
   "execution_count": 5,
   "metadata": {},
   "outputs": [],
   "source": [
    "# Apply preprocessing and curation to clean missing values, format data as Dummies\n",
    "# and apply ratings to the top5 heroes:\n",
    "heroes_preprocessed = preprocessing(df_top5)\n",
    "heroes_curated = apply_curation(heroes_preprocessed)"
   ]
  },
  {
   "cell_type": "code",
   "execution_count": 6,
   "metadata": {},
   "outputs": [
    {
     "data": {
      "text/html": [
       "<div>\n",
       "<style scoped>\n",
       "    .dataframe tbody tr th:only-of-type {\n",
       "        vertical-align: middle;\n",
       "    }\n",
       "\n",
       "    .dataframe tbody tr th {\n",
       "        vertical-align: top;\n",
       "    }\n",
       "\n",
       "    .dataframe thead th {\n",
       "        text-align: right;\n",
       "    }\n",
       "</style>\n",
       "<table border=\"1\" class=\"dataframe\">\n",
       "  <thead>\n",
       "    <tr style=\"text-align: right;\">\n",
       "      <th></th>\n",
       "      <th>Battle_Tag</th>\n",
       "      <th>Hero</th>\n",
       "      <th>Ratings</th>\n",
       "    </tr>\n",
       "  </thead>\n",
       "  <tbody>\n",
       "    <tr>\n",
       "      <th>0</th>\n",
       "      <td>Morellio-1416</td>\n",
       "      <td>Ana</td>\n",
       "      <td>0.0</td>\n",
       "    </tr>\n",
       "    <tr>\n",
       "      <th>1</th>\n",
       "      <td>Zinux-1251</td>\n",
       "      <td>Ana</td>\n",
       "      <td>4.8</td>\n",
       "    </tr>\n",
       "    <tr>\n",
       "      <th>2</th>\n",
       "      <td>BluePillow-21338</td>\n",
       "      <td>Ana</td>\n",
       "      <td>0.0</td>\n",
       "    </tr>\n",
       "    <tr>\n",
       "      <th>3</th>\n",
       "      <td>Miyuna-21516</td>\n",
       "      <td>Ana</td>\n",
       "      <td>0.0</td>\n",
       "    </tr>\n",
       "    <tr>\n",
       "      <th>4</th>\n",
       "      <td>Mood-21538</td>\n",
       "      <td>Ana</td>\n",
       "      <td>4.4</td>\n",
       "    </tr>\n",
       "    <tr>\n",
       "      <th>...</th>\n",
       "      <td>...</td>\n",
       "      <td>...</td>\n",
       "      <td>...</td>\n",
       "    </tr>\n",
       "    <tr>\n",
       "      <th>1870783</th>\n",
       "      <td>Dot-11883</td>\n",
       "      <td>Zenyatta</td>\n",
       "      <td>0.0</td>\n",
       "    </tr>\n",
       "    <tr>\n",
       "      <th>1870784</th>\n",
       "      <td>hanayarawa55-1556</td>\n",
       "      <td>Zenyatta</td>\n",
       "      <td>4.8</td>\n",
       "    </tr>\n",
       "    <tr>\n",
       "      <th>1870785</th>\n",
       "      <td>blowedglass-1740</td>\n",
       "      <td>Zenyatta</td>\n",
       "      <td>0.0</td>\n",
       "    </tr>\n",
       "    <tr>\n",
       "      <th>1870786</th>\n",
       "      <td>FlashedDusk-2754</td>\n",
       "      <td>Zenyatta</td>\n",
       "      <td>0.0</td>\n",
       "    </tr>\n",
       "    <tr>\n",
       "      <th>1870787</th>\n",
       "      <td>HandOfOdin-1208</td>\n",
       "      <td>Zenyatta</td>\n",
       "      <td>0.0</td>\n",
       "    </tr>\n",
       "  </tbody>\n",
       "</table>\n",
       "<p>1870788 rows × 3 columns</p>\n",
       "</div>"
      ],
      "text/plain": [
       "                Battle_Tag      Hero  Ratings\n",
       "0            Morellio-1416       Ana      0.0\n",
       "1               Zinux-1251       Ana      4.8\n",
       "2         BluePillow-21338       Ana      0.0\n",
       "3             Miyuna-21516       Ana      0.0\n",
       "4               Mood-21538       Ana      4.4\n",
       "...                    ...       ...      ...\n",
       "1870783          Dot-11883  Zenyatta      0.0\n",
       "1870784  hanayarawa55-1556  Zenyatta      4.8\n",
       "1870785   blowedglass-1740  Zenyatta      0.0\n",
       "1870786   FlashedDusk-2754  Zenyatta      0.0\n",
       "1870787    HandOfOdin-1208  Zenyatta      0.0\n",
       "\n",
       "[1870788 rows x 3 columns]"
      ]
     },
     "execution_count": 6,
     "metadata": {},
     "output_type": "execute_result"
    }
   ],
   "source": [
    "# Melt the dummy data into the corect format for the recommendation engine:\n",
    "heroes = concat_melt(heroes_curated)\n",
    "# Rename the columns of the dataframe:\n",
    "heroes.rename(columns={\"variable\":\"Hero\", \"value\":\"Ratings\"}, inplace = True)\n",
    "heroes"
   ]
  },
  {
   "cell_type": "markdown",
   "metadata": {},
   "source": [
    "## 3. Role Category Implementation"
   ]
  },
  {
   "cell_type": "code",
   "execution_count": 7,
   "metadata": {},
   "outputs": [],
   "source": [
    "# Create Role category for each Hero;\n",
    "tanks = ['D.Va','Orisa', 'Reinhardt', 'Roadhog', 'Sigma', 'Winston', 'Wrecking Ball', 'Zarya']\n",
    "damage = ['Ashe','Bastion','Doomfist','Genji','Hanzo','Junkrat','McCree','Mei','Pharah','Reaper','Soldier: 76','Sombra','Symmetra','Torbjörn','Tracer','Widowmaker']\n",
    "support = ['Ana','Baptiste','Brigitte','Lúcio','Mercy','Moira','Zenyatta']\n",
    "\n",
    "# Create list of all heroes to use in predict function later\n",
    "all_heroes = tanks+damage+support\n",
    "# create roles df and apply role column adding in the role of the hero. To be used in interactive input function later\n",
    "roles = heroes.copy()\n",
    "roles['Role'] = ['Tank' if x in tanks else 'Damage' if x in damage else 'Support' for x in heroes['Hero']] \n"
   ]
  },
  {
   "cell_type": "markdown",
   "metadata": {},
   "source": [
    "## 4. Implementing the Recommendation system"
   ]
  },
  {
   "cell_type": "code",
   "execution_count": 8,
   "metadata": {},
   "outputs": [],
   "source": [
    "# importing relevant libraries\n",
    "from surprise import Reader, Dataset, accuracy\n",
    "from surprise.model_selection import train_test_split\n",
    "\n",
    "# from surprise.model_selection import cross_validate\n",
    "# from surprise.prediction_algorithms import SVD\n",
    "from surprise.prediction_algorithms import KNNWithMeans, KNNBasic, KNNBaseline\n",
    "# from surprise.model_selection import GridSearchCV\n",
    "\n",
    "\n",
    "#Read in Values as a Surprise Dataset:\n",
    "reader = Reader(rating_scale=(1,5))\n",
    "\n",
    "train_data = Dataset.load_from_df(heroes[['Battle_Tag', 'Hero', 'Ratings']], reader)\n",
    "\n",
    "# Train test split the dataset \n",
    "trainset, testset = train_test_split(train_data, test_size=.25)\n"
   ]
  },
  {
   "cell_type": "markdown",
   "metadata": {},
   "source": [
    "### 4.1 Training the Model"
   ]
  },
  {
   "cell_type": "code",
   "execution_count": 9,
   "metadata": {},
   "outputs": [
    {
     "name": "stdout",
     "output_type": "stream",
     "text": [
      "Estimating biases using als...\n",
      "Computing the cosine similarity matrix...\n",
      "Done computing similarity matrix.\n",
      "RMSE: 1.6819\n"
     ]
    },
    {
     "data": {
      "text/plain": [
       "1.6819185383841304"
      ]
     },
     "execution_count": 9,
     "metadata": {},
     "output_type": "execute_result"
    }
   ],
   "source": [
    "# # Instantiate KNN Baseline memory based model:\n",
    "# # ⏰ This cell may take a couple of minutes to run\n",
    "\n",
    "algobaseitems = KNNBaseline(sim_options={'name':'cosine', 'user_based':False})\n",
    "algobaseitems.fit(trainset)\n",
    "\n",
    "# Evaluating the model performance on testset and observing the model accuracy:\n",
    "predictions = algobaseitems.test(testset)\n",
    "accuracy.rmse(predictions)\n"
   ]
  },
  {
   "cell_type": "markdown",
   "metadata": {},
   "source": [
    "## 5. Making a Recommendation\n"
   ]
  },
  {
   "cell_type": "markdown",
   "metadata": {},
   "source": [
    "### 5.1 Interactive User Rating Input"
   ]
  },
  {
   "cell_type": "code",
   "execution_count": 10,
   "metadata": {},
   "outputs": [
    {
     "name": "stdout",
     "output_type": "stream",
     "text": [
      "            Hero    Role\n",
      "406143  Doomfist  Damage\n"
     ]
    },
    {
     "name": "stdin",
     "output_type": "stream",
     "text": [
      "How do you rate this Hero on a scale of 1-5?, press n if you do not want to give a rating :\n",
      " 3\n"
     ]
    },
    {
     "name": "stdout",
     "output_type": "stream",
     "text": [
      "            Hero     Role\n",
      "126220  Baptiste  Support\n"
     ]
    },
    {
     "name": "stdin",
     "output_type": "stream",
     "text": [
      "How do you rate this Hero on a scale of 1-5?, press n if you do not want to give a rating :\n",
      " 4\n"
     ]
    },
    {
     "name": "stdout",
     "output_type": "stream",
     "text": [
      "           Hero    Role\n",
      "1032525  Reaper  Damage\n"
     ]
    },
    {
     "name": "stdin",
     "output_type": "stream",
     "text": [
      "How do you rate this Hero on a scale of 1-5?, press n if you do not want to give a rating :\n",
      " 5\n"
     ]
    },
    {
     "name": "stdout",
     "output_type": "stream",
     "text": [
      "                  Hero  Role\n",
      "1710326  Wrecking Ball  Tank\n"
     ]
    },
    {
     "name": "stdin",
     "output_type": "stream",
     "text": [
      "How do you rate this Hero on a scale of 1-5?, press n if you do not want to give a rating :\n",
      " 3\n"
     ]
    },
    {
     "name": "stdout",
     "output_type": "stream",
     "text": [
      "          Hero  Role\n",
      "1782400  Zarya  Tank\n"
     ]
    },
    {
     "name": "stdin",
     "output_type": "stream",
     "text": [
      "How do you rate this Hero on a scale of 1-5?, press n if you do not want to give a rating :\n",
      " 5\n"
     ]
    }
   ],
   "source": [
    "## try out the interactive user rating function here!\n",
    "user_rating = hero_rater('Newuser2', roles, 5)"
   ]
  },
  {
   "cell_type": "code",
   "execution_count": 12,
   "metadata": {},
   "outputs": [
    {
     "data": {
      "text/plain": [
       "[{'Battle_Tag': 'Newuser2', 'Hero': 'Doomfist', 'Ratings': '3'},\n",
       " {'Battle_Tag': 'Newuser2', 'Hero': 'Baptiste', 'Ratings': '4'},\n",
       " {'Battle_Tag': 'Newuser2', 'Hero': 'Reaper', 'Ratings': '5'},\n",
       " {'Battle_Tag': 'Newuser2', 'Hero': 'Wrecking Ball', 'Ratings': '3'},\n",
       " {'Battle_Tag': 'Newuser2', 'Hero': 'Zarya', 'Ratings': '5'}]"
      ]
     },
     "execution_count": 12,
     "metadata": {},
     "output_type": "execute_result"
    }
   ],
   "source": [
    "# check the format of our user_rating\n",
    "user_rating"
   ]
  },
  {
   "cell_type": "markdown",
   "metadata": {},
   "source": [
    "### 5.2 Making Predictions with the new user ratings\n"
   ]
  },
  {
   "cell_type": "code",
   "execution_count": 13,
   "metadata": {},
   "outputs": [
    {
     "name": "stdout",
     "output_type": "stream",
     "text": [
      "Estimating biases using als...\n",
      "Computing the cosine similarity matrix...\n",
      "Done computing similarity matrix.\n"
     ]
    },
    {
     "data": {
      "text/plain": [
       "[('Widowmaker', 1.1974269204383985),\n",
       " ('Genji', 1.1775652767757296),\n",
       " ('McCree', 1.0691791238933401),\n",
       " ('Hanzo', 1.029629563781194),\n",
       " ('Ana', 0.6265660868767509),\n",
       " ('Reinhardt', 0.5393137476385463),\n",
       " ('Roadhog', 0.5057409003590368),\n",
       " ('Tracer', 0.5000239527047926),\n",
       " ('Soldier: 76', 0.48423073234481273),\n",
       " ('D.Va', 0.449974172666582),\n",
       " ('Mercy', 0.42236149146356183),\n",
       " ('Lúcio', 0.3447034353708307),\n",
       " ('Junkrat', 0.300277597099189),\n",
       " ('Sigma', 0.1851965029540185),\n",
       " ('Pharah', 0.1758969331266661),\n",
       " ('Zenyatta', 0.15545521309556637),\n",
       " ('Moira', 0.1382095814571166),\n",
       " ('Winston', 0.09183309551636876),\n",
       " ('Orisa', 0.02054644549572951),\n",
       " ('Brigitte', -0.044967888900961234),\n",
       " ('Mei', -0.04561354522803551),\n",
       " ('Torbjörn', -0.09057296388261515),\n",
       " ('Ashe', -0.09855819214975325),\n",
       " ('Bastion', -0.10758050758338061),\n",
       " ('Symmetra', -0.14137460748663344),\n",
       " ('Sombra', -0.19395536179511463)]"
      ]
     },
     "execution_count": 13,
     "metadata": {},
     "output_type": "execute_result"
    }
   ],
   "source": [
    "# Call our prediction function to predict a new hero for a new user\n",
    "prediction(user_rating, heroes, algobaseitems, all_heroes, reader)"
   ]
  },
  {
   "cell_type": "code",
   "execution_count": null,
   "metadata": {},
   "outputs": [],
   "source": []
  }
 ],
 "metadata": {
  "kernelspec": {
   "display_name": "Python 3",
   "language": "python",
   "name": "python3"
  },
  "language_info": {
   "codemirror_mode": {
    "name": "ipython",
    "version": 3
   },
   "file_extension": ".py",
   "mimetype": "text/x-python",
   "name": "python",
   "nbconvert_exporter": "python",
   "pygments_lexer": "ipython3",
   "version": "3.7.4"
  }
 },
 "nbformat": 4,
 "nbformat_minor": 4
}
