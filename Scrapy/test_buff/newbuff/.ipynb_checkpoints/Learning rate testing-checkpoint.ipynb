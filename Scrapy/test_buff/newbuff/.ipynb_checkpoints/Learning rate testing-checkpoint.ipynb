{
 "cells": [
  {
   "cell_type": "markdown",
   "metadata": {},
   "source": [
    "# Application of learning rate to big tag list"
   ]
  },
  {
   "cell_type": "code",
   "execution_count": 2,
   "metadata": {},
   "outputs": [],
   "source": [
    "import pandas as pd\n",
    "import numpy as np\n",
    "big_check = pd.read_csv('60k_Top5_heroes.csv')\n",
    "\n",
    "#Define the rating function:\n",
    "def rating(x, rating_new):\n",
    "    if x==1:\n",
    "        return rating_new\n",
    "    else:\n",
    "        return 0\n",
    "#Rating Implementation function:\n",
    "def apply_curation(df):\n",
    "    for col in df.columns:\n",
    "        if col[4]=='1':\n",
    "            df[col]=df[col].apply(lambda x: rating(x, 5))\n",
    "        elif col[4]=='2':\n",
    "            df[col]=df[col].apply(lambda x: rating(x, 4))\n",
    "        elif col[4]=='3':\n",
    "            df[col]=df[col].apply(lambda x: rating(x, 3))\n",
    "        elif col[4]=='4':\n",
    "            df[col]=df[col].apply(lambda x: rating(x, 2))\n",
    "        elif col[4]=='5':\n",
    "            df[col]=df[col].apply(lambda x: rating(x, 1))\n",
    "    return df\n",
    "#Preprocessing of dataframe to drop missing values and get dummies.\n",
    "def preprocessing(df):\n",
    "    if df.isna().any:\n",
    "        df.dropna(how='any', inplace=True)\n",
    "    else:\n",
    "        pass\n",
    "    #Get Dummies for all heroes\n",
    "    heroes = pd.get_dummies(df, columns=['Hero1', 'Hero2', 'Hero3', 'Hero4', 'Hero5'])\n",
    "    return heroes\n",
    "\n",
    "#Concatenate the columns reducing dimension to just 31 columns one per hero:\n",
    "def concat_melt(df):\n",
    "    \n",
    "    list_heroes = []\n",
    "    index = ['1', '2', '3', '4', '5']\n",
    "    \n",
    "    for col in df.columns:\n",
    "        list_heroes.append(col[6:])\n",
    "\n",
    "    for hero in list_heroes[1:32]:\n",
    "        df[hero] = df[f'Hero{index[0]}_{hero}'] + df[f'Hero{index[1]}_{hero}'] + df[f'Hero{index[2]}_{hero}'] + df[f'Hero{index[3]}_{hero}'] + df[f'Hero{index[4]}_{hero}']\n",
    "    \n",
    "    # Drop extra columns and Battle_tags\n",
    "    df.drop(labels=df.loc[:,'Hero1_Ana':'Hero5_Zenyatta'], axis=1, inplace=True)\n",
    "\n",
    "    df = df.melt(id_vars='Battle_Tag')\n",
    "    return df\n",
    "\n",
    "\n",
    "heroes_preprocessed = preprocessing(big_check)\n",
    "heroes_curated = apply_curation(heroes_preprocessed)\n",
    "\n",
    "heroes = concat_melt(heroes_curated)\n",
    "heroes.rename(columns={\"variable\":\"Hero\", \"value\":\"Ratings\"}, inplace = True)\n"
   ]
  },
  {
   "cell_type": "code",
   "execution_count": 3,
   "metadata": {},
   "outputs": [
    {
     "data": {
      "text/html": [
       "<div>\n",
       "<style scoped>\n",
       "    .dataframe tbody tr th:only-of-type {\n",
       "        vertical-align: middle;\n",
       "    }\n",
       "\n",
       "    .dataframe tbody tr th {\n",
       "        vertical-align: top;\n",
       "    }\n",
       "\n",
       "    .dataframe thead th {\n",
       "        text-align: right;\n",
       "    }\n",
       "</style>\n",
       "<table border=\"1\" class=\"dataframe\">\n",
       "  <thead>\n",
       "    <tr style=\"text-align: right;\">\n",
       "      <th></th>\n",
       "      <th>Battle_Tag</th>\n",
       "      <th>Hero</th>\n",
       "      <th>Ratings</th>\n",
       "    </tr>\n",
       "  </thead>\n",
       "  <tbody>\n",
       "    <tr>\n",
       "      <td>0</td>\n",
       "      <td>Morellio-1416</td>\n",
       "      <td>Ana</td>\n",
       "      <td>0</td>\n",
       "    </tr>\n",
       "    <tr>\n",
       "      <td>1</td>\n",
       "      <td>Zinux-1251</td>\n",
       "      <td>Ana</td>\n",
       "      <td>4</td>\n",
       "    </tr>\n",
       "    <tr>\n",
       "      <td>2</td>\n",
       "      <td>BluePillow-21338</td>\n",
       "      <td>Ana</td>\n",
       "      <td>0</td>\n",
       "    </tr>\n",
       "    <tr>\n",
       "      <td>3</td>\n",
       "      <td>Miyuna-21516</td>\n",
       "      <td>Ana</td>\n",
       "      <td>0</td>\n",
       "    </tr>\n",
       "    <tr>\n",
       "      <td>4</td>\n",
       "      <td>Mood-21538</td>\n",
       "      <td>Ana</td>\n",
       "      <td>2</td>\n",
       "    </tr>\n",
       "    <tr>\n",
       "      <td>...</td>\n",
       "      <td>...</td>\n",
       "      <td>...</td>\n",
       "      <td>...</td>\n",
       "    </tr>\n",
       "    <tr>\n",
       "      <td>1870783</td>\n",
       "      <td>Dot-11883</td>\n",
       "      <td>Zenyatta</td>\n",
       "      <td>0</td>\n",
       "    </tr>\n",
       "    <tr>\n",
       "      <td>1870784</td>\n",
       "      <td>hanayarawa55-1556</td>\n",
       "      <td>Zenyatta</td>\n",
       "      <td>4</td>\n",
       "    </tr>\n",
       "    <tr>\n",
       "      <td>1870785</td>\n",
       "      <td>blowedglass-1740</td>\n",
       "      <td>Zenyatta</td>\n",
       "      <td>0</td>\n",
       "    </tr>\n",
       "    <tr>\n",
       "      <td>1870786</td>\n",
       "      <td>FlashedDusk-2754</td>\n",
       "      <td>Zenyatta</td>\n",
       "      <td>0</td>\n",
       "    </tr>\n",
       "    <tr>\n",
       "      <td>1870787</td>\n",
       "      <td>HandOfOdin-1208</td>\n",
       "      <td>Zenyatta</td>\n",
       "      <td>0</td>\n",
       "    </tr>\n",
       "  </tbody>\n",
       "</table>\n",
       "<p>1870788 rows × 3 columns</p>\n",
       "</div>"
      ],
      "text/plain": [
       "                Battle_Tag      Hero  Ratings\n",
       "0            Morellio-1416       Ana        0\n",
       "1               Zinux-1251       Ana        4\n",
       "2         BluePillow-21338       Ana        0\n",
       "3             Miyuna-21516       Ana        0\n",
       "4               Mood-21538       Ana        2\n",
       "...                    ...       ...      ...\n",
       "1870783          Dot-11883  Zenyatta        0\n",
       "1870784  hanayarawa55-1556  Zenyatta        4\n",
       "1870785   blowedglass-1740  Zenyatta        0\n",
       "1870786   FlashedDusk-2754  Zenyatta        0\n",
       "1870787    HandOfOdin-1208  Zenyatta        0\n",
       "\n",
       "[1870788 rows x 3 columns]"
      ]
     },
     "execution_count": 3,
     "metadata": {},
     "output_type": "execute_result"
    }
   ],
   "source": [
    "heroes"
   ]
  },
  {
   "cell_type": "code",
   "execution_count": 8,
   "metadata": {},
   "outputs": [],
   "source": [
    "# # first attempt in learning oop\n",
    "# class learningRate():\n",
    "#     df = pd.read_csv('200k_Top5_heroes.csv')\n",
    "#     #Clean null values\n",
    "#     if df.isnull().sum().any():\n",
    "#         df.dropna(how='any', inplace=True)\n",
    "#     else:\n",
    "#         pass    \n",
    "    \n",
    "#     def __init__(self, test_size):\n",
    "# #         self.split = train_test_split(?)\n",
    "#         self._volume = round((1-test_size)*self.shape[0])\n",
    "#         self._train_size = str(round(1-test_size, 1)*100)+ '%'\n",
    "#         self._isnull = df.isnull().sum()\n"
   ]
  },
  {
   "cell_type": "markdown",
   "metadata": {},
   "source": [
    "# Implementing the Recommendation system"
   ]
  },
  {
   "cell_type": "code",
   "execution_count": 5,
   "metadata": {},
   "outputs": [],
   "source": [
    "# importing relevant libraries\n",
    "from surprise import Reader, Dataset, accuracy\n",
    "from surprise.model_selection import train_test_split\n",
    "\n",
    "from surprise.model_selection import cross_validate\n",
    "from surprise.prediction_algorithms import SVD\n",
    "from surprise.prediction_algorithms import KNNWithMeans, KNNBasic, KNNBaseline\n",
    "from surprise.model_selection import GridSearchCV\n",
    "\n",
    "\n",
    "#Read in Values as a Surprise Dataset:\n",
    "reader = Reader(rating_scale=(1,5))\n",
    "\n",
    "train_data = Dataset.load_from_df(heroes[['Battle_Tag', 'Hero', 'Ratings']], reader)\n",
    "\n",
    "trainset, testset = train_test_split(train_data, test_size=.25)"
   ]
  },
  {
   "cell_type": "code",
   "execution_count": 6,
   "metadata": {},
   "outputs": [
    {
     "name": "stdout",
     "output_type": "stream",
     "text": [
      "Computing the pearson similarity matrix...\n",
      "Done computing similarity matrix.\n"
     ]
    },
    {
     "data": {
      "text/plain": [
       "<surprise.prediction_algorithms.knns.KNNBasic at 0x1207a5b50>"
      ]
     },
     "execution_count": 6,
     "metadata": {},
     "output_type": "execute_result"
    }
   ],
   "source": [
    "# cross validating with KNNBasic pearsons similarity\n",
    "# ⏰ This cell may take several minutes to run\n",
    "\n",
    "algo = KNNBasic(sim_options={'name':'pearson', 'user_based':False})\n",
    "\n",
    "algo.fit(trainset)\n",
    "\n"
   ]
  },
  {
   "cell_type": "code",
   "execution_count": 48,
   "metadata": {},
   "outputs": [
    {
     "name": "stdout",
     "output_type": "stream",
     "text": [
      "RMSE: 1.3094\n"
     ]
    },
    {
     "data": {
      "text/plain": [
       "1.309427513523517"
      ]
     },
     "execution_count": 48,
     "metadata": {},
     "output_type": "execute_result"
    }
   ],
   "source": [
    "# predictions = algo.test(testset)\n",
    "accuracy.rmse(predictions)"
   ]
  },
  {
   "cell_type": "code",
   "execution_count": 7,
   "metadata": {},
   "outputs": [
    {
     "data": {
      "text/plain": [
       "Prediction(uid='Finn-22956', iid='Lúcio', r_ui=4, est=3.4105781600264233, details={'actual_k': 9, 'was_impossible': False})"
      ]
     },
     "execution_count": 7,
     "metadata": {},
     "output_type": "execute_result"
    }
   ],
   "source": [
    "algo.predict('Finn-22956', 'Lúcio', r_ui=4, clip=True)\n",
    "# print(len(testset), testset[11])"
   ]
  },
  {
   "cell_type": "code",
   "execution_count": null,
   "metadata": {},
   "outputs": [],
   "source": [
    "# #### ⏰ This cell may take many minutes to run\n",
    "# train_data = Dataset.load_from_df(heroes, reader = reader)\n",
    "\n",
    "# trainset = train_data.build_full_trainset()\n",
    "\n",
    "# param_grid = {\n",
    "# 'n_factors': [100, 200, 300],\n",
    "# 'lr_all': [0.002, 0.003, 0.004, 0.005],\n",
    "# 'reg_all': [0.02,0.01,0.05,0.1, 0.4, 0.6]}\n",
    "# svd = GridSearchCV(SVD, param_grid, measures=['rmse', 'mae'], cv=3, n_jobs = -1, joblib_verbose=2)\n",
    "\n",
    "# svd.fit(train_data)\n",
    "\n",
    "# print(\"RMSE score\", svd.best_score['rmse'])\n",
    "\n"
   ]
  },
  {
   "cell_type": "code",
   "execution_count": 68,
   "metadata": {},
   "outputs": [
    {
     "name": "stdout",
     "output_type": "stream",
     "text": [
      "Best Parameters {'n_factors': 200, 'lr_all': 0.003, 'reg_all': 0.05}\n"
     ]
    }
   ],
   "source": [
    "# print(\"Best Parameters\", svd.best_params['rmse'])\n",
    "# algo = svd.best_estimator['rmse']"
   ]
  },
  {
   "cell_type": "markdown",
   "metadata": {},
   "source": [
    "Best Parameters {'n_factors': 200, 'lr_all': 0.003, 'reg_all': 0.05}\n"
   ]
  },
  {
   "cell_type": "markdown",
   "metadata": {},
   "source": [
    "# Learn lab Codealong:\n"
   ]
  },
  {
   "cell_type": "code",
   "execution_count": 73,
   "metadata": {},
   "outputs": [],
   "source": [
    "import pandas as pd\n",
    "from sklearn.model_selection import train_test_split\n",
    "big_check1 = pd.read_csv('200k_Top5_heroes.csv')\n",
    "# big_check = big_check.head(20000)\n",
    "#Define the rating function:\n",
    "def rating(x, rating_new):\n",
    "    if x==1:\n",
    "        return rating_new\n",
    "    else:\n",
    "        return 0\n",
    "#Rating Implementation function:\n",
    "def apply_curation(df):\n",
    "    for col in df.columns:\n",
    "        if col[4]=='1':\n",
    "            df[col]=df[col].apply(lambda x: rating(x, 5))\n",
    "        elif col[4]=='2':\n",
    "            df[col]=df[col].apply(lambda x: rating(x, 4))\n",
    "        elif col[4]=='3':\n",
    "            df[col]=df[col].apply(lambda x: rating(x, 3))\n",
    "        elif col[4]=='4':\n",
    "            df[col]=df[col].apply(lambda x: rating(x, 2))\n",
    "        elif col[4]=='5':\n",
    "            df[col]=df[col].apply(lambda x: rating(x, 1))\n",
    "    return df\n",
    "#Preprocessing of dataframe to drop missing values and get dummies.\n",
    "def preprocessing(df):\n",
    "    if df.isna().any:\n",
    "        df.dropna(how='any', inplace=True)\n",
    "    else:\n",
    "        pass\n",
    "    #Get Dummies for all heroes\n",
    "    heroes = pd.get_dummies(df, columns=['Hero1', 'Hero2', 'Hero3', 'Hero4', 'Hero5'])\n",
    "    return heroes\n",
    "\n",
    "#Concatenate the columns reducing dimension to just 31 columns one per hero:\n",
    "def concat_melt(df):\n",
    "    \n",
    "    list_heroes = []\n",
    "    index = ['1', '2', '3', '4', '5']\n",
    "    \n",
    "    for col in df.columns:\n",
    "        list_heroes.append(col[6:])\n",
    "\n",
    "    for hero in list_heroes[1:32]:\n",
    "        df[hero] = df[f'Hero{index[0]}_{hero}'] + df[f'Hero{index[1]}_{hero}'] + df[f'Hero{index[2]}_{hero}'] + df[f'Hero{index[3]}_{hero}'] + df[f'Hero{index[4]}_{hero}']\n",
    "    \n",
    "    # Drop extra columns and Battle_tags\n",
    "    df.drop(labels=df.loc[:,'Hero1_Ana':'Hero5_Zenyatta'], axis=1, inplace=True)\n",
    "\n",
    "    df = df.melt(id_vars='Battle_Tag')\n",
    "    return df\n",
    "\n",
    "\n",
    "heroes_preprocessed = preprocessing(big_check1)\n",
    "heroes_curated = apply_curation(heroes_preprocessed)\n",
    "\n",
    "heroes1 = concat_melt(heroes_curated)\n",
    "heroes1.rename(columns={\"variable\":\"Hero\", \"value\":\"Ratings\"}, inplace = True)\n"
   ]
  },
  {
   "cell_type": "code",
   "execution_count": 151,
   "metadata": {},
   "outputs": [],
   "source": [
    "# Create Role category for each Hero;\n",
    "tanks = ['D.Va','Orisa', 'Reinhardt', 'Roadhog', 'Sigma', 'Winston', 'Wrecking Ball', 'Zarya']\n",
    "damage = ['Ashe','Bastion','Doomfist','Genji','Hanzo','Junkrat','McCree','Mei','Pharah','Reaper','Soldier: 76','Sombra','Symmetra','Torbjörn','Tracer','Widowmaker']\n",
    "support = ['Ana','Baptiste','Brigitte','Lúcio','Mercy','Moira','Zenyatta']\n",
    "\n",
    "\n",
    "heroes1['Role'] = ['Tank' if x in tanks else 'Damage' if x in damage else 'Support' for x in heroes1['Hero']] "
   ]
  },
  {
   "cell_type": "code",
   "execution_count": 477,
   "metadata": {},
   "outputs": [],
   "source": [
    "#Access df where Hero = Genji \n",
    "# heroes1[heroes1['Hero'] == \"Genji\"]\n",
    "heroes_roles = heroes1"
   ]
  },
  {
   "cell_type": "code",
   "execution_count": 113,
   "metadata": {},
   "outputs": [],
   "source": [
    "#Read in Values as a Surprise Dataset:\n",
    "from surprise import Reader, Dataset, accuracy\n",
    "from surprise.model_selection import train_test_split\n",
    "## importing relevant libraries\n",
    "from surprise.model_selection import cross_validate\n",
    "\n",
    "from surprise.prediction_algorithms import SVD\n",
    "from surprise.prediction_algorithms import KNNWithMeans, KNNBasic, KNNBaseline\n",
    "from surprise.model_selection import GridSearchCV\n",
    "import numpy as np\n",
    "\n",
    "reader = Reader(rating_scale=(1,5))\n",
    "\n",
    "train_data = Dataset.load_from_df(heroes1[['Battle_Tag', 'Hero', 'Ratings']], reader)\n",
    "\n",
    "dataset = train_data.build_full_trainset()\n",
    "\n",
    "trainset, testset = train_test_split(train_data, test_size=.25)"
   ]
  },
  {
   "cell_type": "code",
   "execution_count": 92,
   "metadata": {},
   "outputs": [],
   "source": [
    "sim_cos = {'name':'pearson', 'user_based':False}"
   ]
  },
  {
   "cell_type": "code",
   "execution_count": 101,
   "metadata": {},
   "outputs": [
    {
     "name": "stdout",
     "output_type": "stream",
     "text": [
      "Computing the pearson similarity matrix...\n",
      "Done computing similarity matrix.\n"
     ]
    },
    {
     "data": {
      "text/plain": [
       "<surprise.prediction_algorithms.knns.KNNBasic at 0x13188bfd0>"
      ]
     },
     "execution_count": 101,
     "metadata": {},
     "output_type": "execute_result"
    }
   ],
   "source": [
    "basic = KNNBasic(sim_options=sim_cos)\n",
    "basic.fit(trainset)"
   ]
  },
  {
   "cell_type": "code",
   "execution_count": 84,
   "metadata": {
    "collapsed": true,
    "jupyter": {
     "outputs_hidden": true
    }
   },
   "outputs": [
    {
     "data": {
      "text/plain": [
       "array([[1.        , 0.41020148, 0.22708472, 0.00851627, 0.0676569 ,\n",
       "        0.13766426, 0.41664226, 0.11689666, 0.12681802, 0.18221926,\n",
       "        0.15384455, 0.42692676, 0.08529154, 0.07813405, 0.01160304,\n",
       "        0.16524467, 0.08935204, 0.14462182, 0.0559751 , 0.12241347,\n",
       "        0.09906874, 0.0361861 , 0.15227984, 0.09847356, 0.02999183,\n",
       "        0.09479851, 0.45429971, 0.06180736, 0.06299493, 0.08570464,\n",
       "        0.19833363],\n",
       "       [0.41020148, 1.        , 0.16128545, 0.00378959, 0.04671446,\n",
       "        0.08456474, 0.31493913, 0.05795699, 0.10461391, 0.11931482,\n",
       "        0.13046323, 0.24091153, 0.09481857, 0.05012296, 0.00896182,\n",
       "        0.13750333, 0.04872116, 0.11739952, 0.07235986, 0.09646161,\n",
       "        0.0847714 , 0.03694936, 0.09919123, 0.08832518, 0.01941374,\n",
       "        0.09667596, 0.38371171, 0.04166226, 0.03711932, 0.06394112,\n",
       "        0.20638107],\n",
       "       [0.22708472, 0.16128545, 1.        , 0.02634406, 0.04291456,\n",
       "        0.07707856, 0.17458718, 0.07976847, 0.14518286, 0.07719998,\n",
       "        0.17545899, 0.1482038 , 0.16975239, 0.02627885, 0.07732168,\n",
       "        0.0977265 , 0.08661818, 0.12593527, 0.09259966, 0.05278157,\n",
       "        0.09262984, 0.09368307, 0.29291294, 0.28910445, 0.07265451,\n",
       "        0.2072547 , 0.1634704 , 0.16945856, 0.07660128, 0.15937337,\n",
       "        0.12233003],\n",
       "       [0.00851627, 0.00378959, 0.02634406, 1.        , 0.00549393,\n",
       "        0.01989496, 0.01266387, 0.02909857, 0.04560477, 0.03176785,\n",
       "        0.02115172, 0.01360925, 0.03537667, 0.00573007, 0.0598048 ,\n",
       "        0.00594408, 0.00329567, 0.00342636, 0.01903913, 0.00980087,\n",
       "        0.0074388 , 0.01995498, 0.01132718, 0.01080764, 0.08342587,\n",
       "        0.01866786, 0.00788055, 0.03473352, 0.07466517, 0.05738547,\n",
       "        0.00695677],\n",
       "       [0.0676569 , 0.04671446, 0.04291456, 0.00549393, 1.        ,\n",
       "        0.14512221, 0.06223224, 0.02180913, 0.09256718, 0.04291965,\n",
       "        0.074065  , 0.08725361, 0.0473422 , 0.09613125, 0.00625218,\n",
       "        0.09856434, 0.13914021, 0.04265784, 0.06377112, 0.08586603,\n",
       "        0.07573707, 0.03587823, 0.07807717, 0.04536558, 0.03840625,\n",
       "        0.11156809, 0.05086237, 0.05896555, 0.03603731, 0.10017512,\n",
       "        0.10241227],\n",
       "       [0.13766426, 0.08456474, 0.07707856, 0.01989496, 0.14512221,\n",
       "        1.        , 0.14323831, 0.03903404, 0.17106424, 0.06336545,\n",
       "        0.16000219, 0.20317296, 0.05971147, 0.11895122, 0.01138886,\n",
       "        0.17446127, 0.09798756, 0.04215792, 0.0753419 , 0.15600296,\n",
       "        0.10736676, 0.04720079, 0.13161471, 0.08832795, 0.0722469 ,\n",
       "        0.1679201 , 0.15575188, 0.1141337 , 0.04367614, 0.15799019,\n",
       "        0.17154503],\n",
       "       [0.41664226, 0.31493913, 0.17458718, 0.01266387, 0.06223224,\n",
       "        0.14323831, 1.        , 0.100621  , 0.20507826, 0.15614007,\n",
       "        0.07914564, 0.40860414, 0.11536843, 0.06454694, 0.01238661,\n",
       "        0.1392747 , 0.03319602, 0.06931064, 0.05884215, 0.18969506,\n",
       "        0.07514954, 0.02832856, 0.06684417, 0.09426961, 0.02349542,\n",
       "        0.10749463, 0.4910697 , 0.03980949, 0.04449753, 0.11364717,\n",
       "        0.26879839],\n",
       "       [0.11689666, 0.05795699, 0.07976847, 0.02909857, 0.02180913,\n",
       "        0.03903404, 0.100621  , 1.        , 0.0435121 , 0.06704586,\n",
       "        0.04444966, 0.08965795, 0.02596946, 0.02642091, 0.03944758,\n",
       "        0.04551713, 0.03422556, 0.04681977, 0.01592491, 0.04592042,\n",
       "        0.03238709, 0.04444635, 0.03243838, 0.0335966 , 0.0344795 ,\n",
       "        0.02497326, 0.0563391 , 0.07465082, 0.09046374, 0.03583795,\n",
       "        0.05032845],\n",
       "       [0.12681802, 0.10461391, 0.14518286, 0.04560477, 0.09256718,\n",
       "        0.17106424, 0.20507826, 0.0435121 , 1.        , 0.08945761,\n",
       "        0.12614435, 0.16827818, 0.1642967 , 0.08712071, 0.02046232,\n",
       "        0.13401677, 0.03680578, 0.03721931, 0.14748109, 0.14545188,\n",
       "        0.10434985, 0.05148057, 0.09130302, 0.11916312, 0.0769586 ,\n",
       "        0.14256979, 0.14904495, 0.07493048, 0.08728092, 0.23801294,\n",
       "        0.1801227 ],\n",
       "       [0.18221926, 0.11931482, 0.07719998, 0.03176785, 0.04291965,\n",
       "        0.06336545, 0.15614007, 0.06704586, 0.08945761, 1.        ,\n",
       "        0.02906108, 0.18252222, 0.04631774, 0.02101672, 0.01205141,\n",
       "        0.03953104, 0.02961519, 0.05396154, 0.05187603, 0.0651235 ,\n",
       "        0.03573728, 0.02820595, 0.0182244 , 0.04360858, 0.02397634,\n",
       "        0.06434721, 0.24057889, 0.02966585, 0.09233613, 0.07446711,\n",
       "        0.04782446],\n",
       "       [0.15384455, 0.13046323, 0.17545899, 0.02115172, 0.074065  ,\n",
       "        0.16000219, 0.07914564, 0.04444966, 0.12614435, 0.02906108,\n",
       "        1.        , 0.10127377, 0.12777164, 0.0959382 , 0.01569004,\n",
       "        0.14974678, 0.12496653, 0.09560101, 0.11305231, 0.10673622,\n",
       "        0.12876996, 0.10208688, 0.33227453, 0.12515264, 0.13289055,\n",
       "        0.16315316, 0.0874286 , 0.18534003, 0.0526515 , 0.18095536,\n",
       "        0.15162985],\n",
       "       [0.42692676, 0.24091153, 0.1482038 , 0.01360925, 0.08725361,\n",
       "        0.20317296, 0.40860414, 0.08965795, 0.16827818, 0.18252222,\n",
       "        0.10127377, 1.        , 0.07284785, 0.07501804, 0.01370533,\n",
       "        0.1494058 , 0.05506386, 0.06519026, 0.04993567, 0.17575724,\n",
       "        0.08032372, 0.03941298, 0.07526327, 0.0913993 , 0.02901763,\n",
       "        0.11998215, 0.49726527, 0.05878446, 0.05406927, 0.12290549,\n",
       "        0.19516561],\n",
       "       [0.08529154, 0.09481857, 0.16975239, 0.03537667, 0.0473422 ,\n",
       "        0.05971147, 0.11536843, 0.02596946, 0.1642967 , 0.04631774,\n",
       "        0.12777164, 0.07284785, 1.        , 0.0344704 , 0.02215597,\n",
       "        0.09041626, 0.04692703, 0.04366391, 0.13056866, 0.05490724,\n",
       "        0.06955238, 0.04479889, 0.10025848, 0.12228685, 0.06822284,\n",
       "        0.11446362, 0.09617771, 0.0677222 , 0.05371286, 0.15528402,\n",
       "        0.10692781],\n",
       "       [0.07813405, 0.05012296, 0.02627885, 0.00573007, 0.09613125,\n",
       "        0.11895122, 0.06454694, 0.02642091, 0.08712071, 0.02101672,\n",
       "        0.0959382 , 0.07501804, 0.0344704 , 1.        , 0.01006273,\n",
       "        0.12762926, 0.05053659, 0.02519457, 0.03761005, 0.11311795,\n",
       "        0.06570066, 0.03063637, 0.07797896, 0.04319674, 0.06806338,\n",
       "        0.05123002, 0.05476535, 0.05208821, 0.02954581, 0.10538013,\n",
       "        0.14311399],\n",
       "       [0.01160304, 0.00896182, 0.07732168, 0.0598048 , 0.00625218,\n",
       "        0.01138886, 0.01238661, 0.03944758, 0.02046232, 0.01205141,\n",
       "        0.01569004, 0.01370533, 0.02215597, 0.01006273, 1.        ,\n",
       "        0.01024097, 0.01492952, 0.01187213, 0.01480418, 0.00668374,\n",
       "        0.01172521, 0.04497586, 0.03853305, 0.04453707, 0.06203807,\n",
       "        0.04621214, 0.01048356, 0.07376707, 0.0337241 , 0.02145544,\n",
       "        0.01439976],\n",
       "       [0.16524467, 0.13750333, 0.0977265 , 0.00594408, 0.09856434,\n",
       "        0.17446127, 0.1392747 , 0.04551713, 0.13401677, 0.03953104,\n",
       "        0.14974678, 0.1494058 , 0.09041626, 0.12762926, 0.01024097,\n",
       "        1.        , 0.08398171, 0.05599648, 0.06305623, 0.11584088,\n",
       "        0.11730523, 0.03930483, 0.13617673, 0.07059354, 0.04808043,\n",
       "        0.09663224, 0.12760032, 0.07056077, 0.02900831, 0.1225488 ,\n",
       "        0.1857923 ],\n",
       "       [0.08935204, 0.04872116, 0.08661818, 0.00329567, 0.13914021,\n",
       "        0.09798756, 0.03319602, 0.03422556, 0.03680578, 0.02961519,\n",
       "        0.12496653, 0.05506386, 0.04692703, 0.05053659, 0.01492952,\n",
       "        0.08398171, 1.        , 0.12738246, 0.03914215, 0.04606316,\n",
       "        0.11505222, 0.0390962 , 0.2083103 , 0.0602559 , 0.04720292,\n",
       "        0.08095468, 0.0304033 , 0.09863265, 0.03014759, 0.05579732,\n",
       "        0.04764359],\n",
       "       [0.14462182, 0.11739952, 0.12593527, 0.00342636, 0.04265784,\n",
       "        0.04215792, 0.06931064, 0.04681977, 0.03721931, 0.05396154,\n",
       "        0.09560101, 0.06519026, 0.04366391, 0.02519457, 0.01187213,\n",
       "        0.05599648, 0.12738246, 1.        , 0.03365144, 0.03813165,\n",
       "        0.07884978, 0.03318302, 0.1102218 , 0.05117306, 0.03895874,\n",
       "        0.04771241, 0.07507477, 0.05996126, 0.04342333, 0.02837433,\n",
       "        0.05025742],\n",
       "       [0.0559751 , 0.07235986, 0.09259966, 0.01903913, 0.06377112,\n",
       "        0.0753419 , 0.05884215, 0.01592491, 0.14748109, 0.05187603,\n",
       "        0.11305231, 0.04993567, 0.13056866, 0.03761005, 0.01480418,\n",
       "        0.06305623, 0.03914215, 0.03365144, 1.        , 0.0488046 ,\n",
       "        0.05519177, 0.04274214, 0.07013139, 0.09602761, 0.11233466,\n",
       "        0.11656951, 0.07061496, 0.05683022, 0.09813672, 0.26483079,\n",
       "        0.08156163],\n",
       "       [0.12241347, 0.09646161, 0.05278157, 0.00980087, 0.08586603,\n",
       "        0.15600296, 0.18969506, 0.04592042, 0.14545188, 0.0651235 ,\n",
       "        0.10673622, 0.17575724, 0.05490724, 0.11311795, 0.00668374,\n",
       "        0.11584088, 0.04606316, 0.03813165, 0.0488046 , 1.        ,\n",
       "        0.08130562, 0.04928063, 0.07842958, 0.05353362, 0.03135899,\n",
       "        0.08146625, 0.17173534, 0.06464785, 0.03975909, 0.14248119,\n",
       "        0.17511066],\n",
       "       [0.09906874, 0.0847714 , 0.09262984, 0.0074388 , 0.07573707,\n",
       "        0.10736676, 0.07514954, 0.03238709, 0.10434985, 0.03573728,\n",
       "        0.12876996, 0.08032372, 0.06955238, 0.06570066, 0.01172521,\n",
       "        0.11730523, 0.11505222, 0.07884978, 0.05519177, 0.08130562,\n",
       "        1.        , 0.05518601, 0.14408269, 0.05726793, 0.04379779,\n",
       "        0.07912279, 0.06284498, 0.07718059, 0.0422605 , 0.09031103,\n",
       "        0.08974021],\n",
       "       [0.0361861 , 0.03694936, 0.09368307, 0.01995498, 0.03587823,\n",
       "        0.04720079, 0.02832856, 0.04444635, 0.05148057, 0.02820595,\n",
       "        0.10208688, 0.03941298, 0.04479889, 0.03063637, 0.04497586,\n",
       "        0.03930483, 0.0390962 , 0.03318302, 0.04274214, 0.04928063,\n",
       "        0.05518601, 1.        , 0.12355554, 0.07388318, 0.06869352,\n",
       "        0.06770912, 0.02401218, 0.16065499, 0.04614704, 0.10156276,\n",
       "        0.04575662],\n",
       "       [0.15227984, 0.09919123, 0.29291294, 0.01132718, 0.07807717,\n",
       "        0.13161471, 0.06684417, 0.03243838, 0.09130302, 0.0182244 ,\n",
       "        0.33227453, 0.07526327, 0.10025848, 0.07797896, 0.03853305,\n",
       "        0.13617673, 0.2083103 , 0.1102218 , 0.07013139, 0.07842958,\n",
       "        0.14408269, 0.12355554, 1.        , 0.17422627, 0.09760251,\n",
       "        0.23658345, 0.06097703, 0.24666005, 0.02595504, 0.16143499,\n",
       "        0.12325924],\n",
       "       [0.09847356, 0.08832518, 0.28910445, 0.01080764, 0.04536558,\n",
       "        0.08832795, 0.09426961, 0.0335966 , 0.11916312, 0.04360858,\n",
       "        0.12515264, 0.0913993 , 0.12228685, 0.04319674, 0.04453707,\n",
       "        0.07059354, 0.0602559 , 0.05117306, 0.09602761, 0.05353362,\n",
       "        0.05726793, 0.07388318, 0.17422627, 1.        , 0.08820639,\n",
       "        0.20335919, 0.07346019, 0.1310391 , 0.04313251, 0.12971025,\n",
       "        0.11096299],\n",
       "       [0.02999183, 0.01941374, 0.07265451, 0.08342587, 0.03840625,\n",
       "        0.0722469 , 0.02349542, 0.0344795 , 0.0769586 , 0.02397634,\n",
       "        0.13289055, 0.02901763, 0.06822284, 0.06806338, 0.06203807,\n",
       "        0.04808043, 0.04720292, 0.03895874, 0.11233466, 0.03135899,\n",
       "        0.04379779, 0.06869352, 0.09760251, 0.08820639, 1.        ,\n",
       "        0.07634621, 0.01280674, 0.17951714, 0.06406151, 0.15768989,\n",
       "        0.07747566],\n",
       "       [0.09479851, 0.09667596, 0.2072547 , 0.01866786, 0.11156809,\n",
       "        0.1679201 , 0.10749463, 0.02497326, 0.14256979, 0.06434721,\n",
       "        0.16315316, 0.11998215, 0.11446362, 0.05123002, 0.04621214,\n",
       "        0.09663224, 0.08095468, 0.04771241, 0.11656951, 0.08146625,\n",
       "        0.07912279, 0.06770912, 0.23658345, 0.20335919, 0.07634621,\n",
       "        1.        , 0.12533281, 0.12321428, 0.05536099, 0.18369487,\n",
       "        0.13626733],\n",
       "       [0.45429971, 0.38371171, 0.1634704 , 0.00788055, 0.05086237,\n",
       "        0.15575188, 0.4910697 , 0.0563391 , 0.14904495, 0.24057889,\n",
       "        0.0874286 , 0.49726527, 0.09617771, 0.05476535, 0.01048356,\n",
       "        0.12760032, 0.0304033 , 0.07507477, 0.07061496, 0.17173534,\n",
       "        0.06284498, 0.02401218, 0.06097703, 0.07346019, 0.01280674,\n",
       "        0.12533281, 1.        , 0.02399247, 0.05169133, 0.11679229,\n",
       "        0.17733108],\n",
       "       [0.06180736, 0.04166226, 0.16945856, 0.03473352, 0.05896555,\n",
       "        0.1141337 , 0.03980949, 0.07465082, 0.07493048, 0.02966585,\n",
       "        0.18534003, 0.05878446, 0.0677222 , 0.05208821, 0.07376707,\n",
       "        0.07056077, 0.09863265, 0.05996126, 0.05683022, 0.06464785,\n",
       "        0.07718059, 0.16065499, 0.24666005, 0.1310391 , 0.17951714,\n",
       "        0.12321428, 0.02399247, 1.        , 0.04974561, 0.10775343,\n",
       "        0.09866078],\n",
       "       [0.06299493, 0.03711932, 0.07660128, 0.07466517, 0.03603731,\n",
       "        0.04367614, 0.04449753, 0.09046374, 0.08728092, 0.09233613,\n",
       "        0.0526515 , 0.05406927, 0.05371286, 0.02954581, 0.0337241 ,\n",
       "        0.02900831, 0.03014759, 0.04342333, 0.09813672, 0.03975909,\n",
       "        0.0422605 , 0.04614704, 0.02595504, 0.04313251, 0.06406151,\n",
       "        0.05536099, 0.05169133, 0.04974561, 1.        , 0.11074488,\n",
       "        0.02587093],\n",
       "       [0.08570464, 0.06394112, 0.15937337, 0.05738547, 0.10017512,\n",
       "        0.15799019, 0.11364717, 0.03583795, 0.23801294, 0.07446711,\n",
       "        0.18095536, 0.12290549, 0.15528402, 0.10538013, 0.02145544,\n",
       "        0.1225488 , 0.05579732, 0.02837433, 0.26483079, 0.14248119,\n",
       "        0.09031103, 0.10156276, 0.16143499, 0.12971025, 0.15768989,\n",
       "        0.18369487, 0.11679229, 0.10775343, 0.11074488, 1.        ,\n",
       "        0.13604289],\n",
       "       [0.19833363, 0.20638107, 0.12233003, 0.00695677, 0.10241227,\n",
       "        0.17154503, 0.26879839, 0.05032845, 0.1801227 , 0.04782446,\n",
       "        0.15162985, 0.19516561, 0.10692781, 0.14311399, 0.01439976,\n",
       "        0.1857923 , 0.04764359, 0.05025742, 0.08156163, 0.17511066,\n",
       "        0.08974021, 0.04575662, 0.12325924, 0.11096299, 0.07747566,\n",
       "        0.13626733, 0.17733108, 0.09866078, 0.02587093, 0.13604289,\n",
       "        1.        ]])"
      ]
     },
     "execution_count": 84,
     "metadata": {},
     "output_type": "execute_result"
    }
   ],
   "source": [
    "basic.sim"
   ]
  },
  {
   "cell_type": "code",
   "execution_count": 102,
   "metadata": {},
   "outputs": [],
   "source": [
    "predictions = basic.test(testset)"
   ]
  },
  {
   "cell_type": "code",
   "execution_count": 103,
   "metadata": {},
   "outputs": [
    {
     "name": "stdout",
     "output_type": "stream",
     "text": [
      "RMSE: 1.4222\n",
      "1.422198230287453\n"
     ]
    }
   ],
   "source": [
    "print(accuracy.rmse(predictions))"
   ]
  },
  {
   "cell_type": "code",
   "execution_count": 97,
   "metadata": {},
   "outputs": [
    {
     "name": "stdout",
     "output_type": "stream",
     "text": [
      "Cosine:\n",
      "Basic: RMSE: 1.3486\n",
      "Baseline: RMSE: 1.3402\n",
      "Withmeans: RMSE: 1.3402 \n"
     ]
    }
   ],
   "source": [
    "print('Cosine:')\n",
    "print('Basic: RMSE: 1.3486')\n",
    "print('Baseline: RMSE: 1.3402')\n",
    "print('Withmeans: RMSE: 1.3402 ')"
   ]
  },
  {
   "cell_type": "code",
   "execution_count": 109,
   "metadata": {},
   "outputs": [
    {
     "name": "stdout",
     "output_type": "stream",
     "text": [
      "Pearson:\n",
      "Basic: RMSE: 1.4222\n",
      "Baseline: RMSE: 1.3999\n",
      "Withmeans: RMSE: 1.3999\n"
     ]
    }
   ],
   "source": [
    "print('Pearson:')\n",
    "print('Basic: RMSE: 1.4222')\n",
    "print('Baseline: RMSE: 1.3999')\n",
    "print('Withmeans: RMSE: 1.3999')"
   ]
  },
  {
   "cell_type": "markdown",
   "metadata": {},
   "source": [
    "## One more Grid search SVD"
   ]
  },
  {
   "cell_type": "code",
   "execution_count": 119,
   "metadata": {},
   "outputs": [],
   "source": [
    "## Perform a gridsearch with SVD\n",
    "# ⏰ This cell may take several minutes to run\n",
    "\n",
    "best_svd = SVD(n_factors=200, reg_all= 0.1)"
   ]
  },
  {
   "cell_type": "code",
   "execution_count": 120,
   "metadata": {},
   "outputs": [
    {
     "data": {
      "text/plain": [
       "<surprise.prediction_algorithms.matrix_factorization.SVD at 0x131943050>"
      ]
     },
     "execution_count": 120,
     "metadata": {},
     "output_type": "execute_result"
    }
   ],
   "source": [
    "# print out optimal parameters for SVD after GridSearch\n",
    "best_svd.fit(dataset)\n"
   ]
  },
  {
   "cell_type": "code",
   "execution_count": 157,
   "metadata": {},
   "outputs": [
    {
     "data": {
      "text/plain": [
       "Prediction(uid='FlashedDusk-2754', iid='Genji', r_ui=4, est=2.298501991483347, details={'was_impossible': False})"
      ]
     },
     "execution_count": 157,
     "metadata": {},
     "output_type": "execute_result"
    }
   ],
   "source": [
    "best_svd.predict('FlashedDusk-2754', 'Genji', r_ui=4, clip=True)"
   ]
  },
  {
   "cell_type": "markdown",
   "metadata": {},
   "source": [
    "# Making Recommendation\n"
   ]
  },
  {
   "cell_type": "markdown",
   "metadata": {},
   "source": [
    "### Hero URLS\n",
    "https://playoverwatch.com/en-us/heroes/ana/\n"
   ]
  },
  {
   "cell_type": "markdown",
   "metadata": {},
   "source": [
    "### Interactive input function"
   ]
  },
  {
   "cell_type": "code",
   "execution_count": 492,
   "metadata": {},
   "outputs": [],
   "source": [
    "# Create the hero rating input for users:\n",
    "def hero_rater(battle_tagid, heroes_df, num, role=None):\n",
    "    # Placeholder lists\n",
    "    rating_list = []\n",
    "    duplicate_list = []\n",
    "    \n",
    "    # I Want 5 ratings total, count num -1 each cycle.\n",
    "    while num > 0:\n",
    "        # Obtain a random dataframe entry:\n",
    "        if role:\n",
    "            hero = heroes_df[heroes_df['Role'].str.contains(role)].sample(1)\n",
    "        else:\n",
    "            hero = heroes_df.sample(1)\n",
    "            \n",
    "        # If Hero in sample has already been obtained then skip \n",
    "        if hero['Hero'].values[0] in duplicate_list:\n",
    "            continue\n",
    "        # Create hero id in duplicate list for above duplicate check.    \n",
    "        duplicate_list.append(hero['Hero'].values[0])\n",
    "        print(duplicate_list)\n",
    "        \n",
    "        # Ask for user input about hero / role\n",
    "        print(hero[['Hero', 'Role']])\n",
    "        rating = input('How do you rate this Hero on a scale of 1-5?, press n if you do not want to give a rating :\\n')\n",
    "        \n",
    "        # If rating 'n' continue to next hero.\n",
    "        # If outside range 1-5 Return error\n",
    "        # Otherwise provide dict entry in rating_list placeholder.\n",
    "        if rating == 'n':\n",
    "            continue\n",
    "        elif int(rating) > 5 or int(rating) < 1: \n",
    "            print('Error, not within rating scale')\n",
    "            continue\n",
    "        else:\n",
    "            rating_one_hero = {'Battle_Tag':battle_tagid, 'Hero':hero['Hero'].values[0], 'Ratings':rating}\n",
    "            rating_list.append(rating_one_hero) \n",
    "            num -= 1\n",
    "    return rating_list"
   ]
  },
  {
   "cell_type": "code",
   "execution_count": 493,
   "metadata": {},
   "outputs": [
    {
     "name": "stdout",
     "output_type": "stream",
     "text": [
      "['Widowmaker']\n",
      "               Hero    Role\n",
      "1618423  Widowmaker  Damage\n"
     ]
    },
    {
     "name": "stdin",
     "output_type": "stream",
     "text": [
      "How do you rate this Hero on a scale of 1-5?, press n if you do not want to give a rating :\n",
      " 1\n"
     ]
    },
    {
     "name": "stdout",
     "output_type": "stream",
     "text": [
      "['Widowmaker', 'Mercy']\n",
      "         Hero     Role\n",
      "828557  Mercy  Support\n"
     ]
    },
    {
     "name": "stdin",
     "output_type": "stream",
     "text": [
      "How do you rate this Hero on a scale of 1-5?, press n if you do not want to give a rating :\n",
      " 2\n"
     ]
    },
    {
     "name": "stdout",
     "output_type": "stream",
     "text": [
      "['Widowmaker', 'Mercy', 'Torbjörn']\n",
      "             Hero    Role\n",
      "1449004  Torbjörn  Damage\n"
     ]
    },
    {
     "name": "stdin",
     "output_type": "stream",
     "text": [
      "How do you rate this Hero on a scale of 1-5?, press n if you do not want to give a rating :\n",
      " 4\n"
     ]
    },
    {
     "name": "stdout",
     "output_type": "stream",
     "text": [
      "['Widowmaker', 'Mercy', 'Torbjörn', 'Doomfist']\n",
      "            Hero    Role\n",
      "375287  Doomfist  Damage\n"
     ]
    },
    {
     "name": "stdin",
     "output_type": "stream",
     "text": [
      "How do you rate this Hero on a scale of 1-5?, press n if you do not want to give a rating :\n",
      " 2\n"
     ]
    },
    {
     "name": "stdout",
     "output_type": "stream",
     "text": [
      "['Widowmaker', 'Mercy', 'Torbjörn', 'Doomfist', 'Sombra']\n",
      "           Hero    Role\n",
      "1356836  Sombra  Damage\n"
     ]
    },
    {
     "name": "stdin",
     "output_type": "stream",
     "text": [
      "How do you rate this Hero on a scale of 1-5?, press n if you do not want to give a rating :\n",
      " 5\n"
     ]
    }
   ],
   "source": [
    "## try out the new function here!\n",
    "user_rating = hero_rater('Joey-Bobs', heroes1, 5, )\n",
    "# Continue coding to understand if i need to return 1 sample for each role."
   ]
  },
  {
   "cell_type": "code",
   "execution_count": 494,
   "metadata": {},
   "outputs": [
    {
     "data": {
      "text/plain": [
       "[{'Battle_Tag': 'Joey-Bobs', 'Hero': 'Widowmaker', 'Ratings': '1'},\n",
       " {'Battle_Tag': 'Joey-Bobs', 'Hero': 'Mercy', 'Ratings': '2'},\n",
       " {'Battle_Tag': 'Joey-Bobs', 'Hero': 'Torbjörn', 'Ratings': '4'},\n",
       " {'Battle_Tag': 'Joey-Bobs', 'Hero': 'Doomfist', 'Ratings': '2'},\n",
       " {'Battle_Tag': 'Joey-Bobs', 'Hero': 'Sombra', 'Ratings': '5'}]"
      ]
     },
     "execution_count": 494,
     "metadata": {},
     "output_type": "execute_result"
    }
   ],
   "source": [
    "user_rating"
   ]
  },
  {
   "cell_type": "code",
   "execution_count": 497,
   "metadata": {},
   "outputs": [
    {
     "data": {
      "text/plain": [
       "[{'Battle_Tag': 'Joey-Bobs', 'Hero': 'Widowmaker', 'Ratings': '1'},\n",
       " {'Battle_Tag': 'Joey-Bobs', 'Hero': 'Mercy', 'Ratings': '2'},\n",
       " {'Battle_Tag': 'Joey-Bobs', 'Hero': 'Torbjörn', 'Ratings': '4'},\n",
       " {'Battle_Tag': 'Joey-Bobs', 'Hero': 'Doomfist', 'Ratings': '2'},\n",
       " {'Battle_Tag': 'Joey-Bobs', 'Hero': 'Sombra', 'Ratings': '5'}]"
      ]
     },
     "execution_count": 497,
     "metadata": {},
     "output_type": "execute_result"
    }
   ],
   "source": [
    "joey_bobs"
   ]
  },
  {
   "cell_type": "markdown",
   "metadata": {},
   "source": [
    "## Making Predictions With the New Ratings\n",
    "Now that you have new ratings, you can use them to make predictions for this new user. The proper way this should work is:\n",
    "\n",
    "- add the new ratings to the original ratings DataFrame, \n",
    "- read into a surprise dataset\n",
    "- train a model using the new combined DataFrame\n",
    "- make predictions for the user\n",
    "- order those predictions from highest rated to lowest rated\n",
    "- return the top n recommendations with the text of the actual movie (rather than just the index number)"
   ]
  },
  {
   "cell_type": "code",
   "execution_count": 499,
   "metadata": {},
   "outputs": [],
   "source": [
    "#Add new users ratings to the dataframe and read in the file\n",
    "new_ratings_df = heroes.append(user_rating, ignore_index=True, sort=False)\n",
    "new_data = Dataset.load_from_df(new_ratings_df, reader)\n"
   ]
  },
  {
   "cell_type": "code",
   "execution_count": 500,
   "metadata": {},
   "outputs": [
    {
     "data": {
      "text/plain": [
       "<surprise.prediction_algorithms.matrix_factorization.SVD at 0x16c951b90>"
      ]
     },
     "execution_count": 500,
     "metadata": {},
     "output_type": "execute_result"
    }
   ],
   "source": [
    "# train a model using the new combined DataFrame\n",
    "\n",
    "svd_.fit(new_data.build_full_trainset())"
   ]
  },
  {
   "cell_type": "code",
   "execution_count": 517,
   "metadata": {},
   "outputs": [
    {
     "data": {
      "text/plain": [
       "Prediction(uid='joey_bobs', iid='Genji', r_ui=None, est=1.3884788396919066, details={'was_impossible': False})"
      ]
     },
     "execution_count": 517,
     "metadata": {},
     "output_type": "execute_result"
    }
   ],
   "source": [
    "svd_.predict"
   ]
  },
  {
   "cell_type": "code",
   "execution_count": 518,
   "metadata": {},
   "outputs": [],
   "source": [
    "# Make predictions for the user\n",
    "#Want a list of Tuples inthe format (Hero, predicted Score)\n",
    "hero_prediction_list = []\n",
    "for h_id in new_ratings_df['Hero'].unique():\n",
    "    hero_prediction_list.append( (h_id, svd_.predict('Zinux-1251', h_id)[3]))\n",
    "\n",
    "#     list_of_movies.append( (m_id,svd_.predict(1000,m_id)[3]))"
   ]
  },
  {
   "cell_type": "code",
   "execution_count": 519,
   "metadata": {},
   "outputs": [],
   "source": [
    "# Sort returned heroes by estimation \n",
    "ranked_heroes = sorted(hero_prediction_list, key=lambda x:x[1], reverse=True)"
   ]
  },
  {
   "cell_type": "code",
   "execution_count": 521,
   "metadata": {},
   "outputs": [
    {
     "data": {
      "text/plain": [
       "[('Genji', 1.2422832185368622),\n",
       " ('Hanzo', 1.2076227926001972),\n",
       " ('Widowmaker', 1.1055935304181383),\n",
       " ('Ana', 1),\n",
       " ('Ashe', 1)]"
      ]
     },
     "execution_count": 521,
     "metadata": {},
     "output_type": "execute_result"
    }
   ],
   "source": [
    "ranked_heroes[:5]"
   ]
  },
  {
   "cell_type": "code",
   "execution_count": null,
   "metadata": {},
   "outputs": [],
   "source": []
  }
 ],
 "metadata": {
  "kernelspec": {
   "display_name": "Python 3",
   "language": "python",
   "name": "python3"
  },
  "language_info": {
   "codemirror_mode": {
    "name": "ipython",
    "version": 3
   },
   "file_extension": ".py",
   "mimetype": "text/x-python",
   "name": "python",
   "nbconvert_exporter": "python",
   "pygments_lexer": "ipython3",
   "version": "3.7.4"
  }
 },
 "nbformat": 4,
 "nbformat_minor": 4
}
