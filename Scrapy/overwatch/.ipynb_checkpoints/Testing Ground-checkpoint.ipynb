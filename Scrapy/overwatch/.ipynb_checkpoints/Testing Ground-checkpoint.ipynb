{
 "cells": [
  {
   "cell_type": "code",
   "execution_count": 178,
   "metadata": {},
   "outputs": [
    {
     "name": "stdout",
     "output_type": "stream",
     "text": [
      "Testing Ground.ipynb    \u001b[34moverwatch\u001b[m\u001b[m               tagnames.csv\r\n",
      "df_comp_elim_permin.csv scrapy.cfg\r\n"
     ]
    }
   ],
   "source": [
    "! ls\n"
   ]
  },
  {
   "cell_type": "code",
   "execution_count": 115,
   "metadata": {},
   "outputs": [],
   "source": [
    "import pandas as pd\n"
   ]
  },
  {
   "cell_type": "code",
   "execution_count": 151,
   "metadata": {},
   "outputs": [],
   "source": [
    "df = pd.read_csv('df_comp_elim_permin.csv')\n",
    "df.dropna(axis = 0, how='any', inplace=True)\n"
   ]
  },
  {
   "cell_type": "code",
   "execution_count": 162,
   "metadata": {},
   "outputs": [],
   "source": [
    "df = df.iloc[:, 1:]"
   ]
  },
  {
   "cell_type": "code",
   "execution_count": 164,
   "metadata": {},
   "outputs": [],
   "source": [
    "df['Battle_Tag']=df['Battle_Tag'].apply(lambda x: x.replace('#', '-'))"
   ]
  },
  {
   "cell_type": "code",
   "execution_count": 167,
   "metadata": {},
   "outputs": [],
   "source": [
    "df_tags = df['Battle_Tag']"
   ]
  },
  {
   "cell_type": "code",
   "execution_count": 194,
   "metadata": {},
   "outputs": [],
   "source": [
    "df_tags.to_csv('tagnames.csv', encoding='utf-8', index=False, header=True)\n"
   ]
  },
  {
   "cell_type": "code",
   "execution_count": 195,
   "metadata": {},
   "outputs": [],
   "source": [
    "df_check = pd.read_csv('tagnames.csv', header=0)"
   ]
  },
  {
   "cell_type": "code",
   "execution_count": 199,
   "metadata": {},
   "outputs": [
    {
     "data": {
      "text/html": [
       "<div>\n",
       "<style scoped>\n",
       "    .dataframe tbody tr th:only-of-type {\n",
       "        vertical-align: middle;\n",
       "    }\n",
       "\n",
       "    .dataframe tbody tr th {\n",
       "        vertical-align: top;\n",
       "    }\n",
       "\n",
       "    .dataframe thead th {\n",
       "        text-align: right;\n",
       "    }\n",
       "</style>\n",
       "<table border=\"1\" class=\"dataframe\">\n",
       "  <thead>\n",
       "    <tr style=\"text-align: right;\">\n",
       "      <th></th>\n",
       "      <th>Battle_Tag</th>\n",
       "    </tr>\n",
       "  </thead>\n",
       "  <tbody>\n",
       "    <tr>\n",
       "      <td>0</td>\n",
       "      <td>Morellio-1416</td>\n",
       "    </tr>\n",
       "    <tr>\n",
       "      <td>1</td>\n",
       "      <td>Zinux-1251</td>\n",
       "    </tr>\n",
       "    <tr>\n",
       "      <td>2</td>\n",
       "      <td>BluePillow-21338</td>\n",
       "    </tr>\n",
       "    <tr>\n",
       "      <td>3</td>\n",
       "      <td>Miyuna-21516</td>\n",
       "    </tr>\n",
       "    <tr>\n",
       "      <td>4</td>\n",
       "      <td>Mood-21538</td>\n",
       "    </tr>\n",
       "    <tr>\n",
       "      <td>...</td>\n",
       "      <td>...</td>\n",
       "    </tr>\n",
       "    <tr>\n",
       "      <td>1632</td>\n",
       "      <td>LOBBER-11224</td>\n",
       "    </tr>\n",
       "    <tr>\n",
       "      <td>1633</td>\n",
       "      <td>Frisk-31639</td>\n",
       "    </tr>\n",
       "    <tr>\n",
       "      <td>1634</td>\n",
       "      <td>Maple-21960</td>\n",
       "    </tr>\n",
       "    <tr>\n",
       "      <td>1635</td>\n",
       "      <td>PKBlizzard-21364</td>\n",
       "    </tr>\n",
       "    <tr>\n",
       "      <td>1636</td>\n",
       "      <td>Daaxyy-1605</td>\n",
       "    </tr>\n",
       "  </tbody>\n",
       "</table>\n",
       "<p>1637 rows × 1 columns</p>\n",
       "</div>"
      ],
      "text/plain": [
       "            Battle_Tag\n",
       "0        Morellio-1416\n",
       "1           Zinux-1251\n",
       "2     BluePillow-21338\n",
       "3         Miyuna-21516\n",
       "4           Mood-21538\n",
       "...                ...\n",
       "1632      LOBBER-11224\n",
       "1633       Frisk-31639\n",
       "1634       Maple-21960\n",
       "1635  PKBlizzard-21364\n",
       "1636       Daaxyy-1605\n",
       "\n",
       "[1637 rows x 1 columns]"
      ]
     },
     "execution_count": 199,
     "metadata": {},
     "output_type": "execute_result"
    }
   ],
   "source": [
    "df_check"
   ]
  },
  {
   "cell_type": "code",
   "execution_count": 200,
   "metadata": {},
   "outputs": [
    {
     "name": "stdout",
     "output_type": "stream",
     "text": [
      "Testing Ground.ipynb    \u001b[34moverwatch\u001b[m\u001b[m               tagnames.csv\r\n",
      "df_comp_elim_permin.csv scrapy.cfg\r\n"
     ]
    }
   ],
   "source": [
    "!ls"
   ]
  },
  {
   "cell_type": "code",
   "execution_count": 201,
   "metadata": {},
   "outputs": [
    {
     "name": "stdout",
     "output_type": "stream",
     "text": [
      "Testing Ground.ipynb     \u001b[34moverwatch\u001b[m\u001b[m/               tagnames.csv\r\n",
      "df_comp_elim_permin.csv  scrapy.cfg\r\n"
     ]
    }
   ],
   "source": [
    "ls"
   ]
  },
  {
   "cell_type": "code",
   "execution_count": 241,
   "metadata": {},
   "outputs": [
    {
     "data": {
      "text/html": [
       "<div>\n",
       "<style scoped>\n",
       "    .dataframe tbody tr th:only-of-type {\n",
       "        vertical-align: middle;\n",
       "    }\n",
       "\n",
       "    .dataframe tbody tr th {\n",
       "        vertical-align: top;\n",
       "    }\n",
       "\n",
       "    .dataframe thead th {\n",
       "        text-align: right;\n",
       "    }\n",
       "</style>\n",
       "<table border=\"1\" class=\"dataframe\">\n",
       "  <thead>\n",
       "    <tr style=\"text-align: right;\">\n",
       "      <th></th>\n",
       "      <th>Battle_Tag</th>\n",
       "      <th>Hero1</th>\n",
       "      <th>Hero2</th>\n",
       "      <th>Hero3</th>\n",
       "      <th>Hero4</th>\n",
       "      <th>Hero5</th>\n",
       "    </tr>\n",
       "  </thead>\n",
       "  <tbody>\n",
       "    <tr>\n",
       "      <td>0</td>\n",
       "      <td>Morellio-1416</td>\n",
       "      <td>Mercy</td>\n",
       "      <td>Reinhardt</td>\n",
       "      <td>Orisa</td>\n",
       "      <td>Moira</td>\n",
       "      <td>Winston</td>\n",
       "    </tr>\n",
       "    <tr>\n",
       "      <td>1</td>\n",
       "      <td>Ne0x-2676</td>\n",
       "      <td>Genji</td>\n",
       "      <td>Doomfist</td>\n",
       "      <td>Tracer</td>\n",
       "      <td>Hanzo</td>\n",
       "      <td>Zenyatta</td>\n",
       "    </tr>\n",
       "    <tr>\n",
       "      <td>2</td>\n",
       "      <td>Miyuna-21516</td>\n",
       "      <td>Widowmaker</td>\n",
       "      <td>Reinhardt</td>\n",
       "      <td>Pharah</td>\n",
       "      <td>Genji</td>\n",
       "      <td>Hanzo</td>\n",
       "    </tr>\n",
       "    <tr>\n",
       "      <td>3</td>\n",
       "      <td>Hunter18112-1984</td>\n",
       "      <td>Reinhardt</td>\n",
       "      <td>Mercy</td>\n",
       "      <td>Hanzo</td>\n",
       "      <td>Lúcio</td>\n",
       "      <td>Orisa</td>\n",
       "    </tr>\n",
       "    <tr>\n",
       "      <td>4</td>\n",
       "      <td>Zinux-1251</td>\n",
       "      <td>Hanzo</td>\n",
       "      <td>Ana</td>\n",
       "      <td>Torbjörn</td>\n",
       "      <td>Soldier: 76</td>\n",
       "      <td>Lúcio</td>\n",
       "    </tr>\n",
       "    <tr>\n",
       "      <td>...</td>\n",
       "      <td>...</td>\n",
       "      <td>...</td>\n",
       "      <td>...</td>\n",
       "      <td>...</td>\n",
       "      <td>...</td>\n",
       "      <td>...</td>\n",
       "    </tr>\n",
       "    <tr>\n",
       "      <td>1519</td>\n",
       "      <td>Alpha2Omega-11700</td>\n",
       "      <td>Lúcio</td>\n",
       "      <td>Sigma</td>\n",
       "      <td>Moira</td>\n",
       "      <td>Reinhardt</td>\n",
       "      <td>D.Va</td>\n",
       "    </tr>\n",
       "    <tr>\n",
       "      <td>1520</td>\n",
       "      <td>Kyfra-1768</td>\n",
       "      <td>Zenyatta</td>\n",
       "      <td>Tracer</td>\n",
       "      <td>Soldier: 76</td>\n",
       "      <td>Mercy</td>\n",
       "      <td>Moira</td>\n",
       "    </tr>\n",
       "    <tr>\n",
       "      <td>1521</td>\n",
       "      <td>LOBBER-11224</td>\n",
       "      <td>Roadhog</td>\n",
       "      <td>Soldier: 76</td>\n",
       "      <td>Ashe</td>\n",
       "      <td>Junkrat</td>\n",
       "      <td>Genji</td>\n",
       "    </tr>\n",
       "    <tr>\n",
       "      <td>1522</td>\n",
       "      <td>PKBlizzard-21364</td>\n",
       "      <td>Lúcio</td>\n",
       "      <td>Moira</td>\n",
       "      <td>Mercy</td>\n",
       "      <td>Orisa</td>\n",
       "      <td>Reinhardt</td>\n",
       "    </tr>\n",
       "    <tr>\n",
       "      <td>1523</td>\n",
       "      <td>Daaxyy-1605</td>\n",
       "      <td>Moira</td>\n",
       "      <td>Sombra</td>\n",
       "      <td>Ana</td>\n",
       "      <td>Mercy</td>\n",
       "      <td>McCree</td>\n",
       "    </tr>\n",
       "  </tbody>\n",
       "</table>\n",
       "<p>1524 rows × 6 columns</p>\n",
       "</div>"
      ],
      "text/plain": [
       "             Battle_Tag       Hero1        Hero2        Hero3        Hero4  \\\n",
       "0         Morellio-1416       Mercy    Reinhardt        Orisa        Moira   \n",
       "1             Ne0x-2676       Genji     Doomfist       Tracer        Hanzo   \n",
       "2          Miyuna-21516  Widowmaker    Reinhardt       Pharah        Genji   \n",
       "3      Hunter18112-1984   Reinhardt        Mercy        Hanzo        Lúcio   \n",
       "4            Zinux-1251       Hanzo          Ana     Torbjörn  Soldier: 76   \n",
       "...                 ...         ...          ...          ...          ...   \n",
       "1519  Alpha2Omega-11700       Lúcio        Sigma        Moira    Reinhardt   \n",
       "1520         Kyfra-1768    Zenyatta       Tracer  Soldier: 76        Mercy   \n",
       "1521       LOBBER-11224     Roadhog  Soldier: 76         Ashe      Junkrat   \n",
       "1522   PKBlizzard-21364       Lúcio        Moira        Mercy        Orisa   \n",
       "1523        Daaxyy-1605       Moira       Sombra          Ana        Mercy   \n",
       "\n",
       "          Hero5  \n",
       "0       Winston  \n",
       "1      Zenyatta  \n",
       "2         Hanzo  \n",
       "3         Orisa  \n",
       "4         Lúcio  \n",
       "...         ...  \n",
       "1519       D.Va  \n",
       "1520      Moira  \n",
       "1521      Genji  \n",
       "1522  Reinhardt  \n",
       "1523     McCree  \n",
       "\n",
       "[1524 rows x 6 columns]"
      ]
     },
     "execution_count": 241,
     "metadata": {},
     "output_type": "execute_result"
    }
   ],
   "source": [
    "test_df = pd.read_csv('heros_for_playerstop5.csv')\n",
    "test_df\n"
   ]
  },
  {
   "cell_type": "code",
   "execution_count": null,
   "metadata": {},
   "outputs": [],
   "source": []
  },
  {
   "cell_type": "code",
   "execution_count": null,
   "metadata": {},
   "outputs": [],
   "source": []
  }
 ],
 "metadata": {
  "kernelspec": {
   "display_name": "Python 3",
   "language": "python",
   "name": "python3"
  },
  "language_info": {
   "codemirror_mode": {
    "name": "ipython",
    "version": 3
   },
   "file_extension": ".py",
   "mimetype": "text/x-python",
   "name": "python",
   "nbconvert_exporter": "python",
   "pygments_lexer": "ipython3",
   "version": "3.6.9"
  }
 },
 "nbformat": 4,
 "nbformat_minor": 2
}
