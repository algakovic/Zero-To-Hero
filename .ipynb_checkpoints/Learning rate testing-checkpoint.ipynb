{
 "cells": [
  {
   "cell_type": "markdown",
   "metadata": {},
   "source": [
    "# Zero to Hero : An Overwatch Hero Recommender"
   ]
  },
  {
   "cell_type": "code",
   "execution_count": 116,
   "metadata": {},
   "outputs": [],
   "source": [
    "import pandas as pd\n",
    "import numpy as np\n",
    "import matplotlib as plt\n",
    "%matplotlib inline \n",
    "big_check = pd.read_csv('60k_Top5_heroes.csv')\n",
    "\n",
    "#Define the rating function:\n",
    "def rating(x, rating_new):\n",
    "    if x==1:\n",
    "        return rating_new\n",
    "    else:\n",
    "        return 0\n",
    "#Rating Implementation function:\n",
    "def apply_curation(df):\n",
    "    for col in df.columns:\n",
    "        if col[4]=='1':\n",
    "            df[col]=df[col].apply(lambda x: rating(x, 5))\n",
    "        elif col[4]=='2':\n",
    "            df[col]=df[col].apply(lambda x: rating(x, 4.8))\n",
    "        elif col[4]=='3':\n",
    "            df[col]=df[col].apply(lambda x: rating(x, 4.6))\n",
    "        elif col[4]=='4':\n",
    "            df[col]=df[col].apply(lambda x: rating(x, 4.4))\n",
    "        elif col[4]=='5':\n",
    "            df[col]=df[col].apply(lambda x: rating(x, 4.2))\n",
    "    return df\n",
    "#Preprocessing of dataframe to drop missing values and get dummies.\n",
    "def preprocessing(df):\n",
    "    if df.isna().any:\n",
    "        df.dropna(how='any', inplace=True)\n",
    "    else:\n",
    "        pass\n",
    "    #Get Dummies for all heroes\n",
    "    heroes = pd.get_dummies(df, columns=['Hero1', 'Hero2', 'Hero3', 'Hero4', 'Hero5'])\n",
    "    return heroes\n",
    "\n",
    "#Concatenate the columns reducing dimension to just 31 columns one per hero:\n",
    "def concat_melt(df):\n",
    "    \n",
    "    list_heroes = []\n",
    "    index = ['1', '2', '3', '4', '5']\n",
    "    \n",
    "    for col in df.columns:\n",
    "        list_heroes.append(col[6:])\n",
    "\n",
    "    for hero in list_heroes[1:32]:\n",
    "        df[hero] = df[f'Hero{index[0]}_{hero}'] + df[f'Hero{index[1]}_{hero}'] + df[f'Hero{index[2]}_{hero}'] + df[f'Hero{index[3]}_{hero}'] + df[f'Hero{index[4]}_{hero}']\n",
    "    \n",
    "    # Drop extra columns and Battle_tags\n",
    "    df.drop(labels=df.loc[:,'Hero1_Ana':'Hero5_Zenyatta'], axis=1, inplace=True)\n",
    "\n",
    "    df = df.melt(id_vars='Battle_Tag')\n",
    "    return df\n",
    "\n",
    "\n",
    "heroes_preprocessed = preprocessing(big_check)\n",
    "heroes_curated = apply_curation(heroes_preprocessed)\n",
    "\n",
    "heroes = concat_melt(heroes_curated)\n",
    "heroes.rename(columns={\"variable\":\"Hero\", \"value\":\"Ratings\"}, inplace = True)\n"
   ]
  },
  {
   "cell_type": "markdown",
   "metadata": {},
   "source": [
    "# Role Category creation"
   ]
  },
  {
   "cell_type": "code",
   "execution_count": 117,
   "metadata": {},
   "outputs": [],
   "source": [
    "# Create Role category for each Hero;\n",
    "tanks = ['D.Va','Orisa', 'Reinhardt', 'Roadhog', 'Sigma', 'Winston', 'Wrecking Ball', 'Zarya']\n",
    "damage = ['Ashe','Bastion','Doomfist','Genji','Hanzo','Junkrat','McCree','Mei','Pharah','Reaper','Soldier: 76','Sombra','Symmetra','Torbjörn','Tracer','Widowmaker']\n",
    "support = ['Ana','Baptiste','Brigitte','Lúcio','Mercy','Moira','Zenyatta']\n",
    "\n",
    "all_heroes = tanks+damage+support\n",
    "roles = heroes.copy()\n",
    "roles['Role'] = ['Tank' if x in tanks else 'Damage' if x in damage else 'Support' for x in heroes['Hero']] "
   ]
  },
  {
   "cell_type": "code",
   "execution_count": 118,
   "metadata": {},
   "outputs": [
    {
     "data": {
      "text/html": [
       "<div>\n",
       "<style scoped>\n",
       "    .dataframe tbody tr th:only-of-type {\n",
       "        vertical-align: middle;\n",
       "    }\n",
       "\n",
       "    .dataframe tbody tr th {\n",
       "        vertical-align: top;\n",
       "    }\n",
       "\n",
       "    .dataframe thead th {\n",
       "        text-align: right;\n",
       "    }\n",
       "</style>\n",
       "<table border=\"1\" class=\"dataframe\">\n",
       "  <thead>\n",
       "    <tr style=\"text-align: right;\">\n",
       "      <th></th>\n",
       "      <th>Battle_Tag</th>\n",
       "      <th>Hero</th>\n",
       "      <th>Ratings</th>\n",
       "    </tr>\n",
       "  </thead>\n",
       "  <tbody>\n",
       "    <tr>\n",
       "      <td>0</td>\n",
       "      <td>Morellio-1416</td>\n",
       "      <td>Ana</td>\n",
       "      <td>0.0</td>\n",
       "    </tr>\n",
       "    <tr>\n",
       "      <td>1</td>\n",
       "      <td>Zinux-1251</td>\n",
       "      <td>Ana</td>\n",
       "      <td>4.8</td>\n",
       "    </tr>\n",
       "    <tr>\n",
       "      <td>2</td>\n",
       "      <td>BluePillow-21338</td>\n",
       "      <td>Ana</td>\n",
       "      <td>0.0</td>\n",
       "    </tr>\n",
       "    <tr>\n",
       "      <td>3</td>\n",
       "      <td>Miyuna-21516</td>\n",
       "      <td>Ana</td>\n",
       "      <td>0.0</td>\n",
       "    </tr>\n",
       "    <tr>\n",
       "      <td>4</td>\n",
       "      <td>Mood-21538</td>\n",
       "      <td>Ana</td>\n",
       "      <td>4.4</td>\n",
       "    </tr>\n",
       "    <tr>\n",
       "      <td>...</td>\n",
       "      <td>...</td>\n",
       "      <td>...</td>\n",
       "      <td>...</td>\n",
       "    </tr>\n",
       "    <tr>\n",
       "      <td>1870783</td>\n",
       "      <td>Dot-11883</td>\n",
       "      <td>Zenyatta</td>\n",
       "      <td>0.0</td>\n",
       "    </tr>\n",
       "    <tr>\n",
       "      <td>1870784</td>\n",
       "      <td>hanayarawa55-1556</td>\n",
       "      <td>Zenyatta</td>\n",
       "      <td>4.8</td>\n",
       "    </tr>\n",
       "    <tr>\n",
       "      <td>1870785</td>\n",
       "      <td>blowedglass-1740</td>\n",
       "      <td>Zenyatta</td>\n",
       "      <td>0.0</td>\n",
       "    </tr>\n",
       "    <tr>\n",
       "      <td>1870786</td>\n",
       "      <td>FlashedDusk-2754</td>\n",
       "      <td>Zenyatta</td>\n",
       "      <td>0.0</td>\n",
       "    </tr>\n",
       "    <tr>\n",
       "      <td>1870787</td>\n",
       "      <td>HandOfOdin-1208</td>\n",
       "      <td>Zenyatta</td>\n",
       "      <td>0.0</td>\n",
       "    </tr>\n",
       "  </tbody>\n",
       "</table>\n",
       "<p>1870788 rows × 3 columns</p>\n",
       "</div>"
      ],
      "text/plain": [
       "                Battle_Tag      Hero  Ratings\n",
       "0            Morellio-1416       Ana      0.0\n",
       "1               Zinux-1251       Ana      4.8\n",
       "2         BluePillow-21338       Ana      0.0\n",
       "3             Miyuna-21516       Ana      0.0\n",
       "4               Mood-21538       Ana      4.4\n",
       "...                    ...       ...      ...\n",
       "1870783          Dot-11883  Zenyatta      0.0\n",
       "1870784  hanayarawa55-1556  Zenyatta      4.8\n",
       "1870785   blowedglass-1740  Zenyatta      0.0\n",
       "1870786   FlashedDusk-2754  Zenyatta      0.0\n",
       "1870787    HandOfOdin-1208  Zenyatta      0.0\n",
       "\n",
       "[1870788 rows x 3 columns]"
      ]
     },
     "execution_count": 118,
     "metadata": {},
     "output_type": "execute_result"
    }
   ],
   "source": [
    "# check the state of the dataframes: \n",
    "heroes\n",
    "# roles"
   ]
  },
  {
   "cell_type": "markdown",
   "metadata": {},
   "source": [
    "# Implementing the Recommendation system"
   ]
  },
  {
   "cell_type": "code",
   "execution_count": 119,
   "metadata": {},
   "outputs": [],
   "source": [
    "# importing relevant libraries\n",
    "from surprise import Reader, Dataset, accuracy\n",
    "from surprise.model_selection import train_test_split\n",
    "\n",
    "from surprise.model_selection import cross_validate\n",
    "from surprise.prediction_algorithms import SVD\n",
    "from surprise.prediction_algorithms import KNNWithMeans, KNNBasic, KNNBaseline\n",
    "from surprise.model_selection import GridSearchCV\n",
    "\n",
    "\n",
    "#Read in Values as a Surprise Dataset:\n",
    "reader = Reader(rating_scale=(1,5))\n",
    "\n",
    "train_data = Dataset.load_from_df(heroes[['Battle_Tag', 'Hero', 'Ratings']], reader)\n",
    "\n",
    "trainset, testset = train_test_split(train_data, test_size=.25)\n",
    "# trainset = train_data.build_full_trainset()"
   ]
  },
  {
   "cell_type": "code",
   "execution_count": 120,
   "metadata": {},
   "outputs": [
    {
     "name": "stdout",
     "output_type": "stream",
     "text": [
      "Estimating biases using als...\n",
      "Computing the cosine similarity matrix...\n",
      "Done computing similarity matrix.\n",
      "RMSE: 1.6897\n"
     ]
    },
    {
     "data": {
      "text/plain": [
       "1.6896834232940567"
      ]
     },
     "execution_count": 120,
     "metadata": {},
     "output_type": "execute_result"
    }
   ],
   "source": [
    "# # Instantiate two KNN Basic memory based model\n",
    "# # ⏰ This cell may take several minutes to run\n",
    "\n",
    "algobaseitems = KNNBaseline(sim_options={'name':'cosine', 'user_based':False})\n",
    "algobaseitems.fit(trainset)\n",
    "predictions = algobaseitems.test(testset)\n",
    "accuracy.rmse(predictions)\n"
   ]
  },
  {
   "cell_type": "markdown",
   "metadata": {},
   "source": [
    "# Making Recommendation\n"
   ]
  },
  {
   "cell_type": "markdown",
   "metadata": {},
   "source": [
    "### Hero URLS\n",
    "https://playoverwatch.com/en-us/heroes/ana/\n"
   ]
  },
  {
   "cell_type": "markdown",
   "metadata": {},
   "source": [
    "### Interactive input function"
   ]
  },
  {
   "cell_type": "code",
   "execution_count": 121,
   "metadata": {},
   "outputs": [],
   "source": [
    "# Create the hero rating input for users:\n",
    "from collections import Counter\n",
    "\n",
    "def hero_rater(battle_tagid, heroes_df, num, role=None):\n",
    "    # Placeholder lists\n",
    "    rating_list = []\n",
    "    duplicate_list = []\n",
    "    role_list = []\n",
    "    # I Want 5 ratings total, count num -1 each cycle.\n",
    "    while num > 0:\n",
    "        role_freq = Counter(role_list)\n",
    "        # Obtain a random dataframe entry:\n",
    "        if role:\n",
    "            hero = heroes_df[heroes_df['Role'].str.contains(role)].sample(1)\n",
    "        else:\n",
    "            hero = heroes_df.sample(1)\n",
    "\n",
    "        # If Hero in sample has already been obtained then skip \n",
    "        if hero['Hero'].values[0] in duplicate_list:\n",
    "            continue\n",
    "        # Count role type of heroes sampled: do not allow more than 2 of damage and Tank and 1 of support.   \n",
    "        if role_freq['Damage']==2 and hero['Role'].values[0] == 'Damage':\n",
    "            continue\n",
    "        elif role_freq['Tank']==2 and hero['Role'].values[0] == 'Tank':\n",
    "            continue\n",
    "        elif role_freq['Support']==1 and hero['Role'].values[0] == 'Support':\n",
    "            continue\n",
    "\n",
    "        # Create hero id in duplicate list for above duplicate check.    \n",
    "        duplicate_list.append(hero['Hero'].values[0])\n",
    "        role_list.append(hero['Role'].values[0])\n",
    "\n",
    "\n",
    "        # Ask for user input about hero / role\n",
    "        print(hero[['Hero', 'Role']])\n",
    "        rating = input('How do you rate this Hero on a scale of 1-5?, press n if you do not want to give a rating :\\n')\n",
    "\n",
    "        # If rating 'n' continue to next hero.\n",
    "        # If outside range 1-5 Return error\n",
    "        # Otherwise provide dict entry in rating_list placeholder.\n",
    "        if rating == 'n':\n",
    "            continue\n",
    "        elif float(rating) > 5 or float(rating) < 1: \n",
    "            print('Error, not within rating scale')\n",
    "            continue\n",
    "        else:\n",
    "            rating_one_hero = {'Battle_Tag':battle_tagid, 'Hero':hero['Hero'].values[0], 'Ratings':rating}\n",
    "            rating_list.append(rating_one_hero) \n",
    "            num -= 1\n",
    "    return rating_list"
   ]
  },
  {
   "cell_type": "code",
   "execution_count": 122,
   "metadata": {},
   "outputs": [
    {
     "name": "stdout",
     "output_type": "stream",
     "text": [
      "           Hero    Role\n",
      "182897  Bastion  Damage\n"
     ]
    },
    {
     "name": "stdin",
     "output_type": "stream",
     "text": [
      "How do you rate this Hero on a scale of 1-5?, press n if you do not want to give a rating :\n",
      " 1\n"
     ]
    },
    {
     "name": "stdout",
     "output_type": "stream",
     "text": [
      "       Hero    Role\n",
      "779216  Mei  Damage\n"
     ]
    },
    {
     "name": "stdin",
     "output_type": "stream",
     "text": [
      "How do you rate this Hero on a scale of 1-5?, press n if you do not want to give a rating :\n",
      " 4\n"
     ]
    },
    {
     "name": "stdout",
     "output_type": "stream",
     "text": [
      "      Hero     Role\n",
      "28847  Ana  Support\n"
     ]
    },
    {
     "name": "stdin",
     "output_type": "stream",
     "text": [
      "How do you rate this Hero on a scale of 1-5?, press n if you do not want to give a rating :\n",
      " 5\n"
     ]
    },
    {
     "name": "stdout",
     "output_type": "stream",
     "text": [
      "          Hero  Role\n",
      "1766546  Zarya  Tank\n"
     ]
    },
    {
     "name": "stdin",
     "output_type": "stream",
     "text": [
      "How do you rate this Hero on a scale of 1-5?, press n if you do not want to give a rating :\n",
      " 3\n"
     ]
    },
    {
     "name": "stdout",
     "output_type": "stream",
     "text": [
      "            Hero  Role\n",
      "1206372  Roadhog  Tank\n"
     ]
    },
    {
     "name": "stdin",
     "output_type": "stream",
     "text": [
      "How do you rate this Hero on a scale of 1-5?, press n if you do not want to give a rating :\n",
      " 2\n"
     ]
    }
   ],
   "source": [
    "## try out the new function here!\n",
    "user_rating = hero_rater('Newuser2', roles, 5)"
   ]
  },
  {
   "cell_type": "code",
   "execution_count": 123,
   "metadata": {},
   "outputs": [
    {
     "data": {
      "text/plain": [
       "[{'Battle_Tag': 'Newuser2', 'Hero': 'Bastion', 'Ratings': '1'},\n",
       " {'Battle_Tag': 'Newuser2', 'Hero': 'Mei', 'Ratings': '4'},\n",
       " {'Battle_Tag': 'Newuser2', 'Hero': 'Ana', 'Ratings': '5'},\n",
       " {'Battle_Tag': 'Newuser2', 'Hero': 'Zarya', 'Ratings': '3'},\n",
       " {'Battle_Tag': 'Newuser2', 'Hero': 'Roadhog', 'Ratings': '2'}]"
      ]
     },
     "execution_count": 123,
     "metadata": {},
     "output_type": "execute_result"
    }
   ],
   "source": [
    "user_rating"
   ]
  },
  {
   "cell_type": "markdown",
   "metadata": {},
   "source": [
    "## Making Predictions With the New Ratings\n",
    "Now that you have new ratings, you can use them to make predictions for this new user. The proper way this should work is:\n",
    "\n",
    "- add the new ratings to the original ratings DataFrame, \n",
    "- read into a surprise dataset\n",
    "- train a model using the new combined DataFrame\n",
    "- make predictions for the user\n",
    "- order those predictions from highest rated to lowest rated\n",
    "- return the top n recommendations with the text of the actual movie (rather than just the index number)"
   ]
  },
  {
   "cell_type": "code",
   "execution_count": 124,
   "metadata": {},
   "outputs": [
    {
     "name": "stdout",
     "output_type": "stream",
     "text": [
      "Estimating biases using als...\n",
      "Computing the cosine similarity matrix...\n",
      "Done computing similarity matrix.\n",
      "[('Ana', 1.3485512861922753), ('Mei', 1.0011787731546877), ('Zarya', 0.8517846004714036), ('Roadhog', 0.7864246532326393), ('Mercy', 0.7086552943912291), ('D.Va', 0.5986803715529885), ('Reinhardt', 0.5550490844576502), ('Tracer', 0.5526485448861923), ('Soldier: 76', 0.505186937821636), ('Lúcio', 0.4644819276929313), ('Zenyatta', 0.3821187959993916), ('Junkrat', 0.30784128738821004), ('Pharah', 0.255158916891816), ('Moira', 0.22924886289181706), ('Bastion', 0.11066097881349636), ('Winston', 0.10817689832425206), ('Symmetra', 0.055122587829667544), ('Reaper', 0.04293909530905099), ('Orisa', 0.019689715843679224), ('Baptiste', 0.005762585916230273), ('Brigitte', 0.002711484354992797), ('Sigma', -0.0381774184797585), ('Sombra', -0.04317447062031399), ('Wrecking Ball', -0.050773678538344594), ('Torbjörn', -0.06312598197351188), ('Ashe', -0.18155287395206327), ('Doomfist', -0.21094687195294826)]\n"
     ]
    }
   ],
   "source": [
    "# define new hero for New User predictions functions\n",
    "def new_hero_new_user_prediction(user_rating, df, algo, battle_tag=None):\n",
    "    hero_prediction_list = []\n",
    "    player_rated_list = [i['Hero'] for i in user_rating]\n",
    "    print('Player Rated List:', player_rated_list)\n",
    "\n",
    "    # check if user exists in dataframe and predict for them:\n",
    "    if battle_tag in list(df.Battle_Tag):\n",
    "        \n",
    "        for h_id in df['Hero'].unique():\n",
    "            if h_id not in player_rated_list and h_id not in ['Hanzo', 'Widowmaker', 'Genji', 'McCree']:\n",
    "                hero_prediction_list.append((h_id, algo.predict(battle_tag, h_id, clip=False)[3]))\n",
    "        ranked_heroes = sorted(hero_prediction_list, key=lambda x:x[1], reverse=True)\n",
    "        return ranked_heroes[:]\n",
    "    #Add new users ratings to the dataframe and read in the file\n",
    "    else: \n",
    "        zeroed_user_rating = user_rating + [{'Battle_Tag': user_rating[0]['Battle_Tag'], 'Hero': h, 'Ratings':0} for h in all_heroes if h not in player_rated_list]\n",
    "        new_ratings_df = df.append(user_rating, ignore_index=True, sort=False)\n",
    "        new_data = Dataset.load_from_df(new_ratings_df[['Battle_Tag', 'Hero', 'Ratings']], reader)\n",
    "        #fit algorithm to new data\n",
    "        algo1 = KNNBaseline(sim_options={'name':'cosine', 'user_based':False})\n",
    "        algo1.fit(new_data.build_full_trainset())\n",
    "        #return ranked predicted heroes that are not in the user rating list, or Hanzo, Widow, Genji or Mccree:\n",
    "        for h_id in new_ratings_df['Hero'].unique():\n",
    "            if h_id not in player_rated_list and h_id not in ['Hanzo', 'Widowmaker', 'Genji', 'McCree']:\n",
    "                hero_prediction_list.append((h_id, algo1.predict(user_rating[0]['Battle_Tag'], h_id, clip=False)[3]))\n",
    "        ranked_heroes = sorted(hero_prediction_list, key=lambda x:x[1], reverse=True)\n",
    "    \n",
    "        return ranked_heroes[:]\n",
    "# ---------------------------------------------------------------------------------------------------------------\n",
    "\n",
    "# define New_User predictions functions\n",
    "def new_user_prediction(user_rating, df, algo, battle_tag=None):\n",
    "    hero_prediction_list = []\n",
    "    player_rated_list = [i['Hero'] for i in user_rating]\n",
    "    # check if user exists in dataframe and predict for them:\n",
    "    if battle_tag in list(df.Battle_Tag):\n",
    "        for h_id in df['Hero'].unique():\n",
    "            if h_id not in ['Hanzo', 'Widowmaker', 'Genji', 'McCree']:\n",
    "                hero_prediction_list.append((h_id, algo.predict(battle_tag, h_id, clip=False)[3]))\n",
    "        ranked_heroes = sorted(hero_prediction_list, key=lambda x:x[1], reverse=True)\n",
    "        return ranked_heroes[:]\n",
    "    \n",
    "    else:\n",
    "        zeroed_user_rating = user_rating + [{'Battle_Tag': user_rating[0]['Battle_Tag'], 'Hero': h, 'Ratings':0} for h in all_heroes if h not in player_rated_list]\n",
    "        #Add new users ratings to the dataframe and read in the file\n",
    "        new_ratings_df = df.append(zeroed_user_rating, ignore_index=True, sort=False)\n",
    "        new_data = Dataset.load_from_df(new_ratings_df[['Battle_Tag', 'Hero', 'Ratings']], reader)\n",
    "        #fit algorithm to new data\n",
    "        algo1 = KNNBaseline(sim_options={'name':'cosine', 'user_based':False})\n",
    "        algo1.fit(new_data.build_full_trainset())\n",
    "        \n",
    "        #return ranked predicted heroes that are not in the user rating list:\n",
    "        for h_id in new_ratings_df['Hero'].unique():\n",
    "            if h_id not in ['Hanzo', 'Widowmaker', 'Genji', 'McCree']:\n",
    "                hero_prediction_list.append((h_id, algo1.predict(user_rating[0]['Battle_Tag'], h_id, clip=False)[3]))\n",
    "        ranked_heroes = sorted(hero_prediction_list, key=lambda x:x[1], reverse=True)\n",
    "        return ranked_heroes[:]\n",
    "\n",
    "# Test New user prediction:\n",
    "# new_user_prediction(user_rating, heroes, algobaseitems)\n",
    "\n",
    "# Test new hero new UserPrediction:\n",
    "# print(new_hero_new_user_prediction(user_rating, heroes, algobaseitems))\n",
    "print(new_user_prediction(user_rating, heroes, algobaseitems))"
   ]
  },
  {
   "cell_type": "code",
   "execution_count": 115,
   "metadata": {},
   "outputs": [
    {
     "data": {
      "text/html": [
       "<div>\n",
       "<style scoped>\n",
       "    .dataframe tbody tr th:only-of-type {\n",
       "        vertical-align: middle;\n",
       "    }\n",
       "\n",
       "    .dataframe tbody tr th {\n",
       "        vertical-align: top;\n",
       "    }\n",
       "\n",
       "    .dataframe thead th {\n",
       "        text-align: right;\n",
       "    }\n",
       "</style>\n",
       "<table border=\"1\" class=\"dataframe\">\n",
       "  <thead>\n",
       "    <tr style=\"text-align: right;\">\n",
       "      <th></th>\n",
       "      <th>Battle_Tag</th>\n",
       "      <th>Hero</th>\n",
       "      <th>Ratings</th>\n",
       "    </tr>\n",
       "  </thead>\n",
       "  <tbody>\n",
       "    <tr>\n",
       "      <td>0</td>\n",
       "      <td>Morellio-1416</td>\n",
       "      <td>Ana</td>\n",
       "      <td>0</td>\n",
       "    </tr>\n",
       "    <tr>\n",
       "      <td>1</td>\n",
       "      <td>Zinux-1251</td>\n",
       "      <td>Ana</td>\n",
       "      <td>4</td>\n",
       "    </tr>\n",
       "    <tr>\n",
       "      <td>2</td>\n",
       "      <td>BluePillow-21338</td>\n",
       "      <td>Ana</td>\n",
       "      <td>0</td>\n",
       "    </tr>\n",
       "    <tr>\n",
       "      <td>3</td>\n",
       "      <td>Miyuna-21516</td>\n",
       "      <td>Ana</td>\n",
       "      <td>0</td>\n",
       "    </tr>\n",
       "    <tr>\n",
       "      <td>4</td>\n",
       "      <td>Mood-21538</td>\n",
       "      <td>Ana</td>\n",
       "      <td>2</td>\n",
       "    </tr>\n",
       "    <tr>\n",
       "      <td>...</td>\n",
       "      <td>...</td>\n",
       "      <td>...</td>\n",
       "      <td>...</td>\n",
       "    </tr>\n",
       "    <tr>\n",
       "      <td>1870783</td>\n",
       "      <td>Dot-11883</td>\n",
       "      <td>Zenyatta</td>\n",
       "      <td>0</td>\n",
       "    </tr>\n",
       "    <tr>\n",
       "      <td>1870784</td>\n",
       "      <td>hanayarawa55-1556</td>\n",
       "      <td>Zenyatta</td>\n",
       "      <td>4</td>\n",
       "    </tr>\n",
       "    <tr>\n",
       "      <td>1870785</td>\n",
       "      <td>blowedglass-1740</td>\n",
       "      <td>Zenyatta</td>\n",
       "      <td>0</td>\n",
       "    </tr>\n",
       "    <tr>\n",
       "      <td>1870786</td>\n",
       "      <td>FlashedDusk-2754</td>\n",
       "      <td>Zenyatta</td>\n",
       "      <td>0</td>\n",
       "    </tr>\n",
       "    <tr>\n",
       "      <td>1870787</td>\n",
       "      <td>HandOfOdin-1208</td>\n",
       "      <td>Zenyatta</td>\n",
       "      <td>0</td>\n",
       "    </tr>\n",
       "  </tbody>\n",
       "</table>\n",
       "<p>1870788 rows × 3 columns</p>\n",
       "</div>"
      ],
      "text/plain": [
       "                Battle_Tag      Hero  Ratings\n",
       "0            Morellio-1416       Ana        0\n",
       "1               Zinux-1251       Ana        4\n",
       "2         BluePillow-21338       Ana        0\n",
       "3             Miyuna-21516       Ana        0\n",
       "4               Mood-21538       Ana        2\n",
       "...                    ...       ...      ...\n",
       "1870783          Dot-11883  Zenyatta        0\n",
       "1870784  hanayarawa55-1556  Zenyatta        4\n",
       "1870785   blowedglass-1740  Zenyatta        0\n",
       "1870786   FlashedDusk-2754  Zenyatta        0\n",
       "1870787    HandOfOdin-1208  Zenyatta        0\n",
       "\n",
       "[1870788 rows x 3 columns]"
      ]
     },
     "execution_count": 115,
     "metadata": {},
     "output_type": "execute_result"
    }
   ],
   "source": [
    "heroes"
   ]
  },
  {
   "cell_type": "markdown",
   "metadata": {},
   "source": [
    "# App Api"
   ]
  },
  {
   "cell_type": "code",
   "execution_count": 135,
   "metadata": {},
   "outputs": [
    {
     "name": "stdout",
     "output_type": "stream",
     "text": [
      "Requirement already satisfied: flask_cors in /usr/local/lib/python3.7/site-packages (3.0.8)\n",
      "Requirement already satisfied: Flask>=0.9 in /usr/local/lib/python3.7/site-packages (from flask_cors) (1.1.1)\n",
      "Requirement already satisfied: Six in /usr/local/lib/python3.7/site-packages (from flask_cors) (1.14.0)\n",
      "Requirement already satisfied: itsdangerous>=0.24 in /usr/local/lib/python3.7/site-packages (from Flask>=0.9->flask_cors) (1.1.0)\n",
      "Requirement already satisfied: click>=5.1 in /usr/local/lib/python3.7/site-packages (from Flask>=0.9->flask_cors) (7.0)\n",
      "Requirement already satisfied: Werkzeug>=0.15 in /usr/local/lib/python3.7/site-packages (from Flask>=0.9->flask_cors) (1.0.0)\n",
      "Requirement already satisfied: Jinja2>=2.10.1 in /usr/local/lib/python3.7/site-packages (from Flask>=0.9->flask_cors) (2.11.1)\n",
      "Requirement already satisfied: MarkupSafe>=0.23 in /usr/local/lib/python3.7/site-packages (from Jinja2>=2.10.1->Flask>=0.9->flask_cors) (1.1.1)\n"
     ]
    }
   ],
   "source": [
    "!pip3.7 install flask_cors\n",
    "# print(sys.version)"
   ]
  },
  {
   "cell_type": "code",
   "execution_count": 129,
   "metadata": {},
   "outputs": [
    {
     "name": "stdout",
     "output_type": "stream",
     "text": [
      "['/Users/ArkSealand/FIDS/Capstone/Zero-to-Hero', '/opt/anaconda3/lib/python37.zip', '/opt/anaconda3/lib/python3.7', '/opt/anaconda3/lib/python3.7/lib-dynload', '', '/opt/anaconda3/lib/python3.7/site-packages', '/opt/anaconda3/lib/python3.7/site-packages/aeosa', '/opt/anaconda3/lib/python3.7/site-packages/IPython/extensions', '/Users/ArkSealand/.ipython']\n"
     ]
    }
   ],
   "source": [
    "import sys\n",
    "print(sys.path)"
   ]
  },
  {
   "cell_type": "code",
   "execution_count": 127,
   "metadata": {},
   "outputs": [
    {
     "ename": "ModuleNotFoundError",
     "evalue": "No module named 'flask_cors'",
     "output_type": "error",
     "traceback": [
      "\u001b[0;31m---------------------------------------------------------------------------\u001b[0m",
      "\u001b[0;31mModuleNotFoundError\u001b[0m                       Traceback (most recent call last)",
      "\u001b[0;32m<ipython-input-127-a3537888a16c>\u001b[0m in \u001b[0;36m<module>\u001b[0;34m\u001b[0m\n\u001b[1;32m      3\u001b[0m \u001b[0;34m\u001b[0m\u001b[0m\n\u001b[1;32m      4\u001b[0m \u001b[0;31m# CORS is to allow us to access this API from a different server\u001b[0m\u001b[0;34m\u001b[0m\u001b[0;34m\u001b[0m\u001b[0;34m\u001b[0m\u001b[0m\n\u001b[0;32m----> 5\u001b[0;31m \u001b[0;32mfrom\u001b[0m \u001b[0mflask_cors\u001b[0m \u001b[0;32mimport\u001b[0m \u001b[0mCORS\u001b[0m\u001b[0;34m\u001b[0m\u001b[0;34m\u001b[0m\u001b[0m\n\u001b[0m\u001b[1;32m      6\u001b[0m \u001b[0;34m\u001b[0m\u001b[0m\n\u001b[1;32m      7\u001b[0m \u001b[0;31m# time lib only for me to use sleep method to simulate delay waiting for model to run - you can get rid of it\u001b[0m\u001b[0;34m\u001b[0m\u001b[0;34m\u001b[0m\u001b[0;34m\u001b[0m\u001b[0m\n",
      "\u001b[0;31mModuleNotFoundError\u001b[0m: No module named 'flask_cors'"
     ]
    }
   ],
   "source": [
    "# Flask for basic API routing, jsonify to 'translate' the data you send, request to 'translate' the data received!\n",
    "from flask import Flask, jsonify, request\n",
    "\n",
    "# CORS is to allow us to access this API from a different server\n",
    "from flask_cors import CORS\n",
    "\n",
    "# time lib only for me to use sleep method to simulate delay waiting for model to run - you can get rid of it\n",
    "import time\n",
    "\n",
    "app = Flask(__name__)\n",
    "# apply the cors config to allow access\n",
    "app.config['CORS_HEADERS'] = 'Content-Type'\n",
    "CORS(app)\n",
    "\n",
    "\n",
    "@app.route(\"/predict\", methods=[\"POST\"])\n",
    "def predict_top_hero():\n",
    "    user_ratings = request.get_json()\n",
    "    print(f'user ratings are {user_ratings}!') # user_rating should be formatted ready for you, check it and let me know\n",
    "    # database.add_this_person(user_ratings)\n",
    "    # result model.predict(whatever_you_need_for_that)\n",
    "    time.sleep(6) # get rid of this when using the actual model!\n",
    "    fakeResult = [('Ana', 4.3485512861922753), ('Mei', 3.0011787731546877), ('Zarya', 3.8517846004714036), ('Roadhog', 2.7864246532326393), ('Mercy', 1.7086552943912291)]\n",
    "    return jsonify(fakeResult)\n",
    "\n",
    "    \n",
    "# @app.route(\"/predict\", methods = ['POST'])\n",
    "# def predict():\n",
    "#     if request.method == 'POST':\n",
    "#         try: \n",
    "#             data = request.json()\n",
    "#             user_ratings = \n",
    "            \n",
    "if __name__ == '__main__':\n",
    "    app.run(debug=True)"
   ]
  }
 ],
 "metadata": {
  "kernelspec": {
   "display_name": "Python 3",
   "language": "python",
   "name": "python3"
  },
  "language_info": {
   "codemirror_mode": {
    "name": "ipython",
    "version": 3
   },
   "file_extension": ".py",
   "mimetype": "text/x-python",
   "name": "python",
   "nbconvert_exporter": "python",
   "pygments_lexer": "ipython3",
   "version": "3.7.4"
  }
 },
 "nbformat": 4,
 "nbformat_minor": 4
}
