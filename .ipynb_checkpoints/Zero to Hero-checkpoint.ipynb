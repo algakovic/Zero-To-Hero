{
 "cells": [
  {
   "cell_type": "markdown",
   "metadata": {},
   "source": [
    "# Zero to Hero - An Overwatch Hero Recommender "
   ]
  },
  {
   "cell_type": "markdown",
   "metadata": {},
   "source": [
    "## Contents"
   ]
  },
  {
   "cell_type": "markdown",
   "metadata": {},
   "source": [
    "# Importing Data:\n"
   ]
  },
  {
   "cell_type": "code",
   "execution_count": 1,
   "metadata": {},
   "outputs": [],
   "source": [
    "#Import necessary libraries:\n",
    "import pandas as pd\n",
    "from surprise import Reader, Dataset"
   ]
  },
  {
   "cell_type": "code",
   "execution_count": 69,
   "metadata": {},
   "outputs": [],
   "source": [
    "#Import small dataset\n",
    "data = pd.read_csv('heros_for_playerstop5.csv')"
   ]
  },
  {
   "cell_type": "code",
   "execution_count": 63,
   "metadata": {},
   "outputs": [
    {
     "name": "stderr",
     "output_type": "stream",
     "text": [
      "/opt/anaconda3/lib/python3.7/site-packages/IPython/core/interactiveshell.py:3058: DtypeWarning: Columns (1,2,5,8,9,12,13,14,15,16,17,20,24,25,26,27,28,29,30,33,34,38,40,42,43) have mixed types. Specify dtype option on import or set low_memory=False.\n",
      "  interactivity=interactivity, compiler=compiler, result=result)\n"
     ]
    }
   ],
   "source": [
    "#Import raw large dataset for userId extraction\n",
    "raw = pd.read_csv('df_comp_elim_permin.csv')\n",
    "#clean up userId's for scraping:\n",
    "raw.Battle_Tag = raw.Battle_Tag.apply(lambda x: x.replace('#','-'))\n",
    "tags = raw['Battle_Tag'] \n",
    "#create a csv file with the large userId's\n",
    "tags.to_csv('200kTags.csv', encoding='utf-8', index=False, header=True)"
   ]
  },
  {
   "cell_type": "code",
   "execution_count": 81,
   "metadata": {},
   "outputs": [
    {
     "data": {
      "text/html": [
       "<div>\n",
       "<style scoped>\n",
       "    .dataframe tbody tr th:only-of-type {\n",
       "        vertical-align: middle;\n",
       "    }\n",
       "\n",
       "    .dataframe tbody tr th {\n",
       "        vertical-align: top;\n",
       "    }\n",
       "\n",
       "    .dataframe thead th {\n",
       "        text-align: right;\n",
       "    }\n",
       "</style>\n",
       "<table border=\"1\" class=\"dataframe\">\n",
       "  <thead>\n",
       "    <tr style=\"text-align: right;\">\n",
       "      <th></th>\n",
       "      <th>Battle_Tag</th>\n",
       "      <th>Hero1</th>\n",
       "      <th>Hero2</th>\n",
       "      <th>Hero3</th>\n",
       "      <th>Hero4</th>\n",
       "      <th>Hero5</th>\n",
       "    </tr>\n",
       "  </thead>\n",
       "  <tbody>\n",
       "    <tr>\n",
       "      <td>0</td>\n",
       "      <td>Morellio-1416</td>\n",
       "      <td>Mercy</td>\n",
       "      <td>Reinhardt</td>\n",
       "      <td>Orisa</td>\n",
       "      <td>Moira</td>\n",
       "      <td>Winston</td>\n",
       "    </tr>\n",
       "    <tr>\n",
       "      <td>1</td>\n",
       "      <td>Zinux-1251</td>\n",
       "      <td>Hanzo</td>\n",
       "      <td>Ana</td>\n",
       "      <td>Torbjörn</td>\n",
       "      <td>Soldier: 76</td>\n",
       "      <td>Lúcio</td>\n",
       "    </tr>\n",
       "    <tr>\n",
       "      <td>2</td>\n",
       "      <td>BluePillow-21338</td>\n",
       "      <td>Hanzo</td>\n",
       "      <td>Genji</td>\n",
       "      <td>Widowmaker</td>\n",
       "      <td>McCree</td>\n",
       "      <td>Tracer</td>\n",
       "    </tr>\n",
       "    <tr>\n",
       "      <td>3</td>\n",
       "      <td>Miyuna-21516</td>\n",
       "      <td>Widowmaker</td>\n",
       "      <td>Reinhardt</td>\n",
       "      <td>Pharah</td>\n",
       "      <td>Genji</td>\n",
       "      <td>Hanzo</td>\n",
       "    </tr>\n",
       "    <tr>\n",
       "      <td>4</td>\n",
       "      <td>Mood-21538</td>\n",
       "      <td>Widowmaker</td>\n",
       "      <td>Tracer</td>\n",
       "      <td>Hanzo</td>\n",
       "      <td>Ana</td>\n",
       "      <td>Zenyatta</td>\n",
       "    </tr>\n",
       "  </tbody>\n",
       "</table>\n",
       "</div>"
      ],
      "text/plain": [
       "         Battle_Tag       Hero1      Hero2       Hero3        Hero4     Hero5\n",
       "0     Morellio-1416       Mercy  Reinhardt       Orisa        Moira   Winston\n",
       "1        Zinux-1251       Hanzo        Ana    Torbjörn  Soldier: 76     Lúcio\n",
       "2  BluePillow-21338       Hanzo      Genji  Widowmaker       McCree    Tracer\n",
       "3      Miyuna-21516  Widowmaker  Reinhardt      Pharah        Genji     Hanzo\n",
       "4        Mood-21538  Widowmaker     Tracer       Hanzo          Ana  Zenyatta"
      ]
     },
     "execution_count": 81,
     "metadata": {},
     "output_type": "execute_result"
    }
   ],
   "source": [
    "#check the content and format of the user id csv file.\n",
    "check = pd.read_csv('200k_Top_Test1.csv')\n",
    "check.head()"
   ]
  },
  {
   "cell_type": "code",
   "execution_count": 82,
   "metadata": {},
   "outputs": [
    {
     "data": {
      "text/html": [
       "<div>\n",
       "<style scoped>\n",
       "    .dataframe tbody tr th:only-of-type {\n",
       "        vertical-align: middle;\n",
       "    }\n",
       "\n",
       "    .dataframe tbody tr th {\n",
       "        vertical-align: top;\n",
       "    }\n",
       "\n",
       "    .dataframe thead th {\n",
       "        text-align: right;\n",
       "    }\n",
       "</style>\n",
       "<table border=\"1\" class=\"dataframe\">\n",
       "  <thead>\n",
       "    <tr style=\"text-align: right;\">\n",
       "      <th></th>\n",
       "      <th>Battle_Tag</th>\n",
       "      <th>Hero1</th>\n",
       "      <th>Hero2</th>\n",
       "      <th>Hero3</th>\n",
       "      <th>Hero4</th>\n",
       "      <th>Hero5</th>\n",
       "    </tr>\n",
       "  </thead>\n",
       "  <tbody>\n",
       "    <tr>\n",
       "      <td>0</td>\n",
       "      <td>Morellio-1416</td>\n",
       "      <td>Mercy</td>\n",
       "      <td>Reinhardt</td>\n",
       "      <td>Orisa</td>\n",
       "      <td>Moira</td>\n",
       "      <td>Winston</td>\n",
       "    </tr>\n",
       "    <tr>\n",
       "      <td>1</td>\n",
       "      <td>Ne0x-2676</td>\n",
       "      <td>Genji</td>\n",
       "      <td>Doomfist</td>\n",
       "      <td>Tracer</td>\n",
       "      <td>Hanzo</td>\n",
       "      <td>Zenyatta</td>\n",
       "    </tr>\n",
       "    <tr>\n",
       "      <td>2</td>\n",
       "      <td>Miyuna-21516</td>\n",
       "      <td>Widowmaker</td>\n",
       "      <td>Reinhardt</td>\n",
       "      <td>Pharah</td>\n",
       "      <td>Genji</td>\n",
       "      <td>Hanzo</td>\n",
       "    </tr>\n",
       "    <tr>\n",
       "      <td>3</td>\n",
       "      <td>Hunter18112-1984</td>\n",
       "      <td>Reinhardt</td>\n",
       "      <td>Mercy</td>\n",
       "      <td>Hanzo</td>\n",
       "      <td>Lúcio</td>\n",
       "      <td>Orisa</td>\n",
       "    </tr>\n",
       "    <tr>\n",
       "      <td>4</td>\n",
       "      <td>Zinux-1251</td>\n",
       "      <td>Hanzo</td>\n",
       "      <td>Ana</td>\n",
       "      <td>Torbjörn</td>\n",
       "      <td>Soldier: 76</td>\n",
       "      <td>Lúcio</td>\n",
       "    </tr>\n",
       "  </tbody>\n",
       "</table>\n",
       "</div>"
      ],
      "text/plain": [
       "         Battle_Tag       Hero1      Hero2     Hero3        Hero4     Hero5\n",
       "0     Morellio-1416       Mercy  Reinhardt     Orisa        Moira   Winston\n",
       "1         Ne0x-2676       Genji   Doomfist    Tracer        Hanzo  Zenyatta\n",
       "2      Miyuna-21516  Widowmaker  Reinhardt    Pharah        Genji     Hanzo\n",
       "3  Hunter18112-1984   Reinhardt      Mercy     Hanzo        Lúcio     Orisa\n",
       "4        Zinux-1251       Hanzo        Ana  Torbjörn  Soldier: 76     Lúcio"
      ]
     },
     "execution_count": 82,
     "metadata": {},
     "output_type": "execute_result"
    }
   ],
   "source": [
    "#Inspect data as it comes\n",
    "data.head()"
   ]
  },
  {
   "cell_type": "code",
   "execution_count": 72,
   "metadata": {},
   "outputs": [
    {
     "name": "stdout",
     "output_type": "stream",
     "text": [
      "<class 'pandas.core.frame.DataFrame'>\n",
      "RangeIndex: 18 entries, 0 to 17\n",
      "Data columns (total 6 columns):\n",
      "Battle_Tag    18 non-null object\n",
      "Hero1         18 non-null object\n",
      "Hero2         18 non-null object\n",
      "Hero3         18 non-null object\n",
      "Hero4         18 non-null object\n",
      "Hero5         18 non-null object\n",
      "dtypes: object(6)\n",
      "memory usage: 992.0+ bytes\n"
     ]
    }
   ],
   "source": [
    "#Inspect large dataset as it comes\n",
    "top_200k = pd.read_csv('Test_top_Heroes.csv')\n",
    "top_200k"
   ]
  },
  {
   "cell_type": "code",
   "execution_count": 4,
   "metadata": {},
   "outputs": [
    {
     "data": {
      "text/plain": [
       "Battle_Tag    0\n",
       "Hero1         0\n",
       "Hero2         0\n",
       "Hero3         0\n",
       "Hero4         0\n",
       "Hero5         0\n",
       "dtype: int64"
      ]
     },
     "execution_count": 4,
     "metadata": {},
     "output_type": "execute_result"
    }
   ],
   "source": [
    "#Check for null values\n",
    "data.isnull().sum()"
   ]
  },
  {
   "cell_type": "code",
   "execution_count": 5,
   "metadata": {},
   "outputs": [],
   "source": [
    "#Get Dummies for all heroes\n",
    "heroes = pd.get_dummies(data, columns=['Hero1', 'Hero2', 'Hero3', 'Hero4', 'Hero5'])"
   ]
  },
  {
   "cell_type": "code",
   "execution_count": 6,
   "metadata": {},
   "outputs": [
    {
     "data": {
      "text/html": [
       "<div>\n",
       "<style scoped>\n",
       "    .dataframe tbody tr th:only-of-type {\n",
       "        vertical-align: middle;\n",
       "    }\n",
       "\n",
       "    .dataframe tbody tr th {\n",
       "        vertical-align: top;\n",
       "    }\n",
       "\n",
       "    .dataframe thead th {\n",
       "        text-align: right;\n",
       "    }\n",
       "</style>\n",
       "<table border=\"1\" class=\"dataframe\">\n",
       "  <thead>\n",
       "    <tr style=\"text-align: right;\">\n",
       "      <th></th>\n",
       "      <th>Battle_Tag</th>\n",
       "      <th>Hero1_Ana</th>\n",
       "      <th>Hero1_Ashe</th>\n",
       "      <th>Hero1_Baptiste</th>\n",
       "      <th>Hero1_Bastion</th>\n",
       "      <th>Hero1_Brigitte</th>\n",
       "      <th>Hero1_D.Va</th>\n",
       "      <th>Hero1_Doomfist</th>\n",
       "      <th>Hero1_Genji</th>\n",
       "      <th>Hero1_Hanzo</th>\n",
       "      <th>...</th>\n",
       "      <th>Hero5_Soldier: 76</th>\n",
       "      <th>Hero5_Sombra</th>\n",
       "      <th>Hero5_Symmetra</th>\n",
       "      <th>Hero5_Torbjörn</th>\n",
       "      <th>Hero5_Tracer</th>\n",
       "      <th>Hero5_Widowmaker</th>\n",
       "      <th>Hero5_Winston</th>\n",
       "      <th>Hero5_Wrecking Ball</th>\n",
       "      <th>Hero5_Zarya</th>\n",
       "      <th>Hero5_Zenyatta</th>\n",
       "    </tr>\n",
       "  </thead>\n",
       "  <tbody>\n",
       "    <tr>\n",
       "      <td>0</td>\n",
       "      <td>Morellio-1416</td>\n",
       "      <td>0</td>\n",
       "      <td>0</td>\n",
       "      <td>0</td>\n",
       "      <td>0</td>\n",
       "      <td>0</td>\n",
       "      <td>0</td>\n",
       "      <td>0</td>\n",
       "      <td>0</td>\n",
       "      <td>0</td>\n",
       "      <td>...</td>\n",
       "      <td>0</td>\n",
       "      <td>0</td>\n",
       "      <td>0</td>\n",
       "      <td>0</td>\n",
       "      <td>0</td>\n",
       "      <td>0</td>\n",
       "      <td>1</td>\n",
       "      <td>0</td>\n",
       "      <td>0</td>\n",
       "      <td>0</td>\n",
       "    </tr>\n",
       "    <tr>\n",
       "      <td>1</td>\n",
       "      <td>Ne0x-2676</td>\n",
       "      <td>0</td>\n",
       "      <td>0</td>\n",
       "      <td>0</td>\n",
       "      <td>0</td>\n",
       "      <td>0</td>\n",
       "      <td>0</td>\n",
       "      <td>0</td>\n",
       "      <td>1</td>\n",
       "      <td>0</td>\n",
       "      <td>...</td>\n",
       "      <td>0</td>\n",
       "      <td>0</td>\n",
       "      <td>0</td>\n",
       "      <td>0</td>\n",
       "      <td>0</td>\n",
       "      <td>0</td>\n",
       "      <td>0</td>\n",
       "      <td>0</td>\n",
       "      <td>0</td>\n",
       "      <td>1</td>\n",
       "    </tr>\n",
       "    <tr>\n",
       "      <td>2</td>\n",
       "      <td>Miyuna-21516</td>\n",
       "      <td>0</td>\n",
       "      <td>0</td>\n",
       "      <td>0</td>\n",
       "      <td>0</td>\n",
       "      <td>0</td>\n",
       "      <td>0</td>\n",
       "      <td>0</td>\n",
       "      <td>0</td>\n",
       "      <td>0</td>\n",
       "      <td>...</td>\n",
       "      <td>0</td>\n",
       "      <td>0</td>\n",
       "      <td>0</td>\n",
       "      <td>0</td>\n",
       "      <td>0</td>\n",
       "      <td>0</td>\n",
       "      <td>0</td>\n",
       "      <td>0</td>\n",
       "      <td>0</td>\n",
       "      <td>0</td>\n",
       "    </tr>\n",
       "    <tr>\n",
       "      <td>3</td>\n",
       "      <td>Hunter18112-1984</td>\n",
       "      <td>0</td>\n",
       "      <td>0</td>\n",
       "      <td>0</td>\n",
       "      <td>0</td>\n",
       "      <td>0</td>\n",
       "      <td>0</td>\n",
       "      <td>0</td>\n",
       "      <td>0</td>\n",
       "      <td>0</td>\n",
       "      <td>...</td>\n",
       "      <td>0</td>\n",
       "      <td>0</td>\n",
       "      <td>0</td>\n",
       "      <td>0</td>\n",
       "      <td>0</td>\n",
       "      <td>0</td>\n",
       "      <td>0</td>\n",
       "      <td>0</td>\n",
       "      <td>0</td>\n",
       "      <td>0</td>\n",
       "    </tr>\n",
       "    <tr>\n",
       "      <td>4</td>\n",
       "      <td>Zinux-1251</td>\n",
       "      <td>0</td>\n",
       "      <td>0</td>\n",
       "      <td>0</td>\n",
       "      <td>0</td>\n",
       "      <td>0</td>\n",
       "      <td>0</td>\n",
       "      <td>0</td>\n",
       "      <td>0</td>\n",
       "      <td>1</td>\n",
       "      <td>...</td>\n",
       "      <td>0</td>\n",
       "      <td>0</td>\n",
       "      <td>0</td>\n",
       "      <td>0</td>\n",
       "      <td>0</td>\n",
       "      <td>0</td>\n",
       "      <td>0</td>\n",
       "      <td>0</td>\n",
       "      <td>0</td>\n",
       "      <td>0</td>\n",
       "    </tr>\n",
       "  </tbody>\n",
       "</table>\n",
       "<p>5 rows × 156 columns</p>\n",
       "</div>"
      ],
      "text/plain": [
       "         Battle_Tag  Hero1_Ana  Hero1_Ashe  Hero1_Baptiste  Hero1_Bastion  \\\n",
       "0     Morellio-1416          0           0               0              0   \n",
       "1         Ne0x-2676          0           0               0              0   \n",
       "2      Miyuna-21516          0           0               0              0   \n",
       "3  Hunter18112-1984          0           0               0              0   \n",
       "4        Zinux-1251          0           0               0              0   \n",
       "\n",
       "   Hero1_Brigitte  Hero1_D.Va  Hero1_Doomfist  Hero1_Genji  Hero1_Hanzo  ...  \\\n",
       "0               0           0               0            0            0  ...   \n",
       "1               0           0               0            1            0  ...   \n",
       "2               0           0               0            0            0  ...   \n",
       "3               0           0               0            0            0  ...   \n",
       "4               0           0               0            0            1  ...   \n",
       "\n",
       "   Hero5_Soldier: 76  Hero5_Sombra  Hero5_Symmetra  Hero5_Torbjörn  \\\n",
       "0                  0             0               0               0   \n",
       "1                  0             0               0               0   \n",
       "2                  0             0               0               0   \n",
       "3                  0             0               0               0   \n",
       "4                  0             0               0               0   \n",
       "\n",
       "   Hero5_Tracer  Hero5_Widowmaker  Hero5_Winston  Hero5_Wrecking Ball  \\\n",
       "0             0                 0              1                    0   \n",
       "1             0                 0              0                    0   \n",
       "2             0                 0              0                    0   \n",
       "3             0                 0              0                    0   \n",
       "4             0                 0              0                    0   \n",
       "\n",
       "   Hero5_Zarya  Hero5_Zenyatta  \n",
       "0            0               0  \n",
       "1            0               1  \n",
       "2            0               0  \n",
       "3            0               0  \n",
       "4            0               0  \n",
       "\n",
       "[5 rows x 156 columns]"
      ]
     },
     "execution_count": 6,
     "metadata": {},
     "output_type": "execute_result"
    }
   ],
   "source": [
    "heroes.head()"
   ]
  },
  {
   "cell_type": "code",
   "execution_count": 7,
   "metadata": {},
   "outputs": [],
   "source": [
    "#Define the rating function:\n",
    "def curate_ratings(x, rating_new):\n",
    "    if x==1:\n",
    "        return rating_new\n",
    "    else:\n",
    "        return 0"
   ]
  },
  {
   "cell_type": "code",
   "execution_count": 8,
   "metadata": {},
   "outputs": [],
   "source": [
    "#Iterate through the dataframe applying the ratings with the rating function above:\n",
    "def apply_curation():\n",
    "    for col in heroes.columns:\n",
    "        if col[4]=='1':\n",
    "            heroes[col]=heroes[col].apply(lambda x: rating(x, 5))\n",
    "        elif col[4]=='2':\n",
    "            heroes[col]=heroes[col].apply(lambda x: rating(x, 4))\n",
    "        elif col[4]=='3':\n",
    "            heroes[col]=heroes[col].apply(lambda x: rating(x, 3))\n",
    "        elif col[4]=='4':\n",
    "            heroes[col]=heroes[col].apply(lambda x: rating(x, 2))\n",
    "        elif col[4]=='5':\n",
    "            heroes[col]=heroes[col].apply(lambda x: rating(x, 1))"
   ]
  },
  {
   "cell_type": "code",
   "execution_count": 9,
   "metadata": {},
   "outputs": [
    {
     "data": {
      "text/plain": [
       "(0    1460\n",
       " 2      64\n",
       " Name: Hero4_Reinhardt, dtype: int64, 0    1518\n",
       " 4       6\n",
       " Name: Hero2_Baptiste, dtype: int64, 0    1346\n",
       " 5     178\n",
       " Name: Hero1_Widowmaker, dtype: int64)"
      ]
     },
     "execution_count": 9,
     "metadata": {},
     "output_type": "execute_result"
    }
   ],
   "source": [
    "#Inspect results and check value counts for various heroes:\n",
    "heroes.head()\n",
    "heroes.Hero4_Reinhardt.value_counts(), heroes.Hero2_Baptiste.value_counts(), heroes.Hero1_Widowmaker.value_counts()"
   ]
  },
  {
   "cell_type": "code",
   "execution_count": 10,
   "metadata": {},
   "outputs": [],
   "source": [
    "#Concatenate the columns reducing dimension to just 31 columns one per hero:\n",
    "list_heroes = []\n",
    "for col in heroes.columns:\n",
    "    list_heroes.append(col[6:])\n",
    "    \n",
    "list_heroes = list_heroes[1:32]\n",
    "index = ['1', '2', '3', '4', '5']\n",
    "for hero in list_heroes:\n",
    "    heroes[hero] = heroes[f'Hero{index[0]}_{hero}'] + heroes[f'Hero{index[1]}_{hero}'] + heroes[f'Hero{index[2]}_{hero}'] + heroes[f'Hero{index[3]}_{hero}'] + heroes[f'Hero{index[4]}_{hero}']"
   ]
  },
  {
   "cell_type": "code",
   "execution_count": 11,
   "metadata": {},
   "outputs": [],
   "source": [
    "#Check results\n",
    "# heroes.iloc[:, 156:].head(20)\n"
   ]
  },
  {
   "cell_type": "code",
   "execution_count": 12,
   "metadata": {},
   "outputs": [],
   "source": [
    "# Drop extra columns and Battle_tags\n",
    "heroes.drop(labels=heroes.loc[:,'Hero1_Ana':'Hero5_Zenyatta'], axis=1, inplace=True)\n",
    "\n"
   ]
  },
  {
   "cell_type": "code",
   "execution_count": 13,
   "metadata": {},
   "outputs": [
    {
     "data": {
      "text/html": [
       "<div>\n",
       "<style scoped>\n",
       "    .dataframe tbody tr th:only-of-type {\n",
       "        vertical-align: middle;\n",
       "    }\n",
       "\n",
       "    .dataframe tbody tr th {\n",
       "        vertical-align: top;\n",
       "    }\n",
       "\n",
       "    .dataframe thead th {\n",
       "        text-align: right;\n",
       "    }\n",
       "</style>\n",
       "<table border=\"1\" class=\"dataframe\">\n",
       "  <thead>\n",
       "    <tr style=\"text-align: right;\">\n",
       "      <th></th>\n",
       "      <th>Battle_Tag</th>\n",
       "      <th>Ana</th>\n",
       "      <th>Ashe</th>\n",
       "      <th>Baptiste</th>\n",
       "      <th>Bastion</th>\n",
       "      <th>Brigitte</th>\n",
       "      <th>D.Va</th>\n",
       "      <th>Doomfist</th>\n",
       "      <th>Genji</th>\n",
       "      <th>Hanzo</th>\n",
       "      <th>...</th>\n",
       "      <th>Soldier: 76</th>\n",
       "      <th>Sombra</th>\n",
       "      <th>Symmetra</th>\n",
       "      <th>Torbjörn</th>\n",
       "      <th>Tracer</th>\n",
       "      <th>Widowmaker</th>\n",
       "      <th>Winston</th>\n",
       "      <th>Wrecking Ball</th>\n",
       "      <th>Zarya</th>\n",
       "      <th>Zenyatta</th>\n",
       "    </tr>\n",
       "  </thead>\n",
       "  <tbody>\n",
       "    <tr>\n",
       "      <td>0</td>\n",
       "      <td>Morellio-1416</td>\n",
       "      <td>0</td>\n",
       "      <td>0</td>\n",
       "      <td>0</td>\n",
       "      <td>0</td>\n",
       "      <td>0</td>\n",
       "      <td>0</td>\n",
       "      <td>0</td>\n",
       "      <td>0</td>\n",
       "      <td>0</td>\n",
       "      <td>...</td>\n",
       "      <td>0</td>\n",
       "      <td>0</td>\n",
       "      <td>0</td>\n",
       "      <td>0</td>\n",
       "      <td>0</td>\n",
       "      <td>0</td>\n",
       "      <td>1</td>\n",
       "      <td>0</td>\n",
       "      <td>0</td>\n",
       "      <td>0</td>\n",
       "    </tr>\n",
       "    <tr>\n",
       "      <td>1</td>\n",
       "      <td>Ne0x-2676</td>\n",
       "      <td>0</td>\n",
       "      <td>0</td>\n",
       "      <td>0</td>\n",
       "      <td>0</td>\n",
       "      <td>0</td>\n",
       "      <td>0</td>\n",
       "      <td>4</td>\n",
       "      <td>5</td>\n",
       "      <td>2</td>\n",
       "      <td>...</td>\n",
       "      <td>0</td>\n",
       "      <td>0</td>\n",
       "      <td>0</td>\n",
       "      <td>0</td>\n",
       "      <td>3</td>\n",
       "      <td>0</td>\n",
       "      <td>0</td>\n",
       "      <td>0</td>\n",
       "      <td>0</td>\n",
       "      <td>1</td>\n",
       "    </tr>\n",
       "    <tr>\n",
       "      <td>2</td>\n",
       "      <td>Miyuna-21516</td>\n",
       "      <td>0</td>\n",
       "      <td>0</td>\n",
       "      <td>0</td>\n",
       "      <td>0</td>\n",
       "      <td>0</td>\n",
       "      <td>0</td>\n",
       "      <td>0</td>\n",
       "      <td>2</td>\n",
       "      <td>1</td>\n",
       "      <td>...</td>\n",
       "      <td>0</td>\n",
       "      <td>0</td>\n",
       "      <td>0</td>\n",
       "      <td>0</td>\n",
       "      <td>0</td>\n",
       "      <td>5</td>\n",
       "      <td>0</td>\n",
       "      <td>0</td>\n",
       "      <td>0</td>\n",
       "      <td>0</td>\n",
       "    </tr>\n",
       "    <tr>\n",
       "      <td>3</td>\n",
       "      <td>Hunter18112-1984</td>\n",
       "      <td>0</td>\n",
       "      <td>0</td>\n",
       "      <td>0</td>\n",
       "      <td>0</td>\n",
       "      <td>0</td>\n",
       "      <td>0</td>\n",
       "      <td>0</td>\n",
       "      <td>0</td>\n",
       "      <td>3</td>\n",
       "      <td>...</td>\n",
       "      <td>0</td>\n",
       "      <td>0</td>\n",
       "      <td>0</td>\n",
       "      <td>0</td>\n",
       "      <td>0</td>\n",
       "      <td>0</td>\n",
       "      <td>0</td>\n",
       "      <td>0</td>\n",
       "      <td>0</td>\n",
       "      <td>0</td>\n",
       "    </tr>\n",
       "    <tr>\n",
       "      <td>4</td>\n",
       "      <td>Zinux-1251</td>\n",
       "      <td>4</td>\n",
       "      <td>0</td>\n",
       "      <td>0</td>\n",
       "      <td>0</td>\n",
       "      <td>0</td>\n",
       "      <td>0</td>\n",
       "      <td>0</td>\n",
       "      <td>0</td>\n",
       "      <td>5</td>\n",
       "      <td>...</td>\n",
       "      <td>2</td>\n",
       "      <td>0</td>\n",
       "      <td>0</td>\n",
       "      <td>3</td>\n",
       "      <td>0</td>\n",
       "      <td>0</td>\n",
       "      <td>0</td>\n",
       "      <td>0</td>\n",
       "      <td>0</td>\n",
       "      <td>0</td>\n",
       "    </tr>\n",
       "  </tbody>\n",
       "</table>\n",
       "<p>5 rows × 32 columns</p>\n",
       "</div>"
      ],
      "text/plain": [
       "         Battle_Tag  Ana  Ashe  Baptiste  Bastion  Brigitte  D.Va  Doomfist  \\\n",
       "0     Morellio-1416    0     0         0        0         0     0         0   \n",
       "1         Ne0x-2676    0     0         0        0         0     0         4   \n",
       "2      Miyuna-21516    0     0         0        0         0     0         0   \n",
       "3  Hunter18112-1984    0     0         0        0         0     0         0   \n",
       "4        Zinux-1251    4     0         0        0         0     0         0   \n",
       "\n",
       "   Genji  Hanzo  ...  Soldier: 76  Sombra  Symmetra  Torbjörn  Tracer  \\\n",
       "0      0      0  ...            0       0         0         0       0   \n",
       "1      5      2  ...            0       0         0         0       3   \n",
       "2      2      1  ...            0       0         0         0       0   \n",
       "3      0      3  ...            0       0         0         0       0   \n",
       "4      0      5  ...            2       0         0         3       0   \n",
       "\n",
       "   Widowmaker  Winston  Wrecking Ball  Zarya  Zenyatta  \n",
       "0           0        1              0      0         0  \n",
       "1           0        0              0      0         1  \n",
       "2           5        0              0      0         0  \n",
       "3           0        0              0      0         0  \n",
       "4           0        0              0      0         0  \n",
       "\n",
       "[5 rows x 32 columns]"
      ]
     },
     "execution_count": 13,
     "metadata": {},
     "output_type": "execute_result"
    }
   ],
   "source": [
    "heroes.head()"
   ]
  },
  {
   "cell_type": "code",
   "execution_count": 14,
   "metadata": {},
   "outputs": [],
   "source": [
    "#Format the data for surprise library:\n",
    "# for tag in heroes.Battle_Tag:\n",
    "#     for col in heroes.columns[1:]:\n",
    "#         heroes['heroid'] = col\n",
    "#         heroes['Rating'] = 1\n",
    "\n"
   ]
  },
  {
   "cell_type": "code",
   "execution_count": 15,
   "metadata": {},
   "outputs": [
    {
     "data": {
      "text/html": [
       "<div>\n",
       "<style scoped>\n",
       "    .dataframe tbody tr th:only-of-type {\n",
       "        vertical-align: middle;\n",
       "    }\n",
       "\n",
       "    .dataframe tbody tr th {\n",
       "        vertical-align: top;\n",
       "    }\n",
       "\n",
       "    .dataframe thead th {\n",
       "        text-align: right;\n",
       "    }\n",
       "</style>\n",
       "<table border=\"1\" class=\"dataframe\">\n",
       "  <thead>\n",
       "    <tr style=\"text-align: right;\">\n",
       "      <th></th>\n",
       "      <th>Battle_Tag</th>\n",
       "      <th>Ana</th>\n",
       "      <th>Ashe</th>\n",
       "      <th>Baptiste</th>\n",
       "      <th>Bastion</th>\n",
       "      <th>Brigitte</th>\n",
       "      <th>D.Va</th>\n",
       "      <th>Doomfist</th>\n",
       "      <th>Genji</th>\n",
       "      <th>Hanzo</th>\n",
       "      <th>...</th>\n",
       "      <th>Soldier: 76</th>\n",
       "      <th>Sombra</th>\n",
       "      <th>Symmetra</th>\n",
       "      <th>Torbjörn</th>\n",
       "      <th>Tracer</th>\n",
       "      <th>Widowmaker</th>\n",
       "      <th>Winston</th>\n",
       "      <th>Wrecking Ball</th>\n",
       "      <th>Zarya</th>\n",
       "      <th>Zenyatta</th>\n",
       "    </tr>\n",
       "  </thead>\n",
       "  <tbody>\n",
       "    <tr>\n",
       "      <td>0</td>\n",
       "      <td>Morellio-1416</td>\n",
       "      <td>0</td>\n",
       "      <td>0</td>\n",
       "      <td>0</td>\n",
       "      <td>0</td>\n",
       "      <td>0</td>\n",
       "      <td>0</td>\n",
       "      <td>0</td>\n",
       "      <td>0</td>\n",
       "      <td>0</td>\n",
       "      <td>...</td>\n",
       "      <td>0</td>\n",
       "      <td>0</td>\n",
       "      <td>0</td>\n",
       "      <td>0</td>\n",
       "      <td>0</td>\n",
       "      <td>0</td>\n",
       "      <td>1</td>\n",
       "      <td>0</td>\n",
       "      <td>0</td>\n",
       "      <td>0</td>\n",
       "    </tr>\n",
       "    <tr>\n",
       "      <td>1</td>\n",
       "      <td>Ne0x-2676</td>\n",
       "      <td>0</td>\n",
       "      <td>0</td>\n",
       "      <td>0</td>\n",
       "      <td>0</td>\n",
       "      <td>0</td>\n",
       "      <td>0</td>\n",
       "      <td>4</td>\n",
       "      <td>5</td>\n",
       "      <td>2</td>\n",
       "      <td>...</td>\n",
       "      <td>0</td>\n",
       "      <td>0</td>\n",
       "      <td>0</td>\n",
       "      <td>0</td>\n",
       "      <td>3</td>\n",
       "      <td>0</td>\n",
       "      <td>0</td>\n",
       "      <td>0</td>\n",
       "      <td>0</td>\n",
       "      <td>1</td>\n",
       "    </tr>\n",
       "    <tr>\n",
       "      <td>2</td>\n",
       "      <td>Miyuna-21516</td>\n",
       "      <td>0</td>\n",
       "      <td>0</td>\n",
       "      <td>0</td>\n",
       "      <td>0</td>\n",
       "      <td>0</td>\n",
       "      <td>0</td>\n",
       "      <td>0</td>\n",
       "      <td>2</td>\n",
       "      <td>1</td>\n",
       "      <td>...</td>\n",
       "      <td>0</td>\n",
       "      <td>0</td>\n",
       "      <td>0</td>\n",
       "      <td>0</td>\n",
       "      <td>0</td>\n",
       "      <td>5</td>\n",
       "      <td>0</td>\n",
       "      <td>0</td>\n",
       "      <td>0</td>\n",
       "      <td>0</td>\n",
       "    </tr>\n",
       "    <tr>\n",
       "      <td>3</td>\n",
       "      <td>Hunter18112-1984</td>\n",
       "      <td>0</td>\n",
       "      <td>0</td>\n",
       "      <td>0</td>\n",
       "      <td>0</td>\n",
       "      <td>0</td>\n",
       "      <td>0</td>\n",
       "      <td>0</td>\n",
       "      <td>0</td>\n",
       "      <td>3</td>\n",
       "      <td>...</td>\n",
       "      <td>0</td>\n",
       "      <td>0</td>\n",
       "      <td>0</td>\n",
       "      <td>0</td>\n",
       "      <td>0</td>\n",
       "      <td>0</td>\n",
       "      <td>0</td>\n",
       "      <td>0</td>\n",
       "      <td>0</td>\n",
       "      <td>0</td>\n",
       "    </tr>\n",
       "    <tr>\n",
       "      <td>4</td>\n",
       "      <td>Zinux-1251</td>\n",
       "      <td>4</td>\n",
       "      <td>0</td>\n",
       "      <td>0</td>\n",
       "      <td>0</td>\n",
       "      <td>0</td>\n",
       "      <td>0</td>\n",
       "      <td>0</td>\n",
       "      <td>0</td>\n",
       "      <td>5</td>\n",
       "      <td>...</td>\n",
       "      <td>2</td>\n",
       "      <td>0</td>\n",
       "      <td>0</td>\n",
       "      <td>3</td>\n",
       "      <td>0</td>\n",
       "      <td>0</td>\n",
       "      <td>0</td>\n",
       "      <td>0</td>\n",
       "      <td>0</td>\n",
       "      <td>0</td>\n",
       "    </tr>\n",
       "  </tbody>\n",
       "</table>\n",
       "<p>5 rows × 32 columns</p>\n",
       "</div>"
      ],
      "text/plain": [
       "         Battle_Tag  Ana  Ashe  Baptiste  Bastion  Brigitte  D.Va  Doomfist  \\\n",
       "0     Morellio-1416    0     0         0        0         0     0         0   \n",
       "1         Ne0x-2676    0     0         0        0         0     0         4   \n",
       "2      Miyuna-21516    0     0         0        0         0     0         0   \n",
       "3  Hunter18112-1984    0     0         0        0         0     0         0   \n",
       "4        Zinux-1251    4     0         0        0         0     0         0   \n",
       "\n",
       "   Genji  Hanzo  ...  Soldier: 76  Sombra  Symmetra  Torbjörn  Tracer  \\\n",
       "0      0      0  ...            0       0         0         0       0   \n",
       "1      5      2  ...            0       0         0         0       3   \n",
       "2      2      1  ...            0       0         0         0       0   \n",
       "3      0      3  ...            0       0         0         0       0   \n",
       "4      0      5  ...            2       0         0         3       0   \n",
       "\n",
       "   Widowmaker  Winston  Wrecking Ball  Zarya  Zenyatta  \n",
       "0           0        1              0      0         0  \n",
       "1           0        0              0      0         1  \n",
       "2           5        0              0      0         0  \n",
       "3           0        0              0      0         0  \n",
       "4           0        0              0      0         0  \n",
       "\n",
       "[5 rows x 32 columns]"
      ]
     },
     "execution_count": 15,
     "metadata": {},
     "output_type": "execute_result"
    }
   ],
   "source": [
    "heroes.head()"
   ]
  },
  {
   "cell_type": "code",
   "execution_count": 34,
   "metadata": {},
   "outputs": [],
   "source": [
    "heroes_rs = heroes.melt(id_vars='Battle_Tag')"
   ]
  },
  {
   "cell_type": "code",
   "execution_count": 37,
   "metadata": {},
   "outputs": [
    {
     "data": {
      "text/html": [
       "<div>\n",
       "<style scoped>\n",
       "    .dataframe tbody tr th:only-of-type {\n",
       "        vertical-align: middle;\n",
       "    }\n",
       "\n",
       "    .dataframe tbody tr th {\n",
       "        vertical-align: top;\n",
       "    }\n",
       "\n",
       "    .dataframe thead th {\n",
       "        text-align: right;\n",
       "    }\n",
       "</style>\n",
       "<table border=\"1\" class=\"dataframe\">\n",
       "  <thead>\n",
       "    <tr style=\"text-align: right;\">\n",
       "      <th></th>\n",
       "      <th>Battle_Tag</th>\n",
       "      <th>variable</th>\n",
       "      <th>value</th>\n",
       "    </tr>\n",
       "  </thead>\n",
       "  <tbody>\n",
       "    <tr>\n",
       "      <td>29306</td>\n",
       "      <td>A7XViper-1268</td>\n",
       "      <td>Roadhog</td>\n",
       "      <td>0</td>\n",
       "    </tr>\n",
       "    <tr>\n",
       "      <td>43022</td>\n",
       "      <td>A7XViper-1268</td>\n",
       "      <td>Wrecking Ball</td>\n",
       "      <td>0</td>\n",
       "    </tr>\n",
       "    <tr>\n",
       "      <td>41498</td>\n",
       "      <td>A7XViper-1268</td>\n",
       "      <td>Winston</td>\n",
       "      <td>0</td>\n",
       "    </tr>\n",
       "    <tr>\n",
       "      <td>27782</td>\n",
       "      <td>A7XViper-1268</td>\n",
       "      <td>Reinhardt</td>\n",
       "      <td>4</td>\n",
       "    </tr>\n",
       "    <tr>\n",
       "      <td>12542</td>\n",
       "      <td>A7XViper-1268</td>\n",
       "      <td>Hanzo</td>\n",
       "      <td>0</td>\n",
       "    </tr>\n",
       "    <tr>\n",
       "      <td>...</td>\n",
       "      <td>...</td>\n",
       "      <td>...</td>\n",
       "      <td>...</td>\n",
       "    </tr>\n",
       "    <tr>\n",
       "      <td>4153</td>\n",
       "      <td>ｓｈｕｎｎｅｄ！-1159</td>\n",
       "      <td>Baptiste</td>\n",
       "      <td>0</td>\n",
       "    </tr>\n",
       "    <tr>\n",
       "      <td>25489</td>\n",
       "      <td>ｓｈｕｎｎｅｄ！-1159</td>\n",
       "      <td>Pharah</td>\n",
       "      <td>0</td>\n",
       "    </tr>\n",
       "    <tr>\n",
       "      <td>28537</td>\n",
       "      <td>ｓｈｕｎｎｅｄ！-1159</td>\n",
       "      <td>Reinhardt</td>\n",
       "      <td>0</td>\n",
       "    </tr>\n",
       "    <tr>\n",
       "      <td>22441</td>\n",
       "      <td>ｓｈｕｎｎｅｄ！-1159</td>\n",
       "      <td>Moira</td>\n",
       "      <td>0</td>\n",
       "    </tr>\n",
       "    <tr>\n",
       "      <td>46825</td>\n",
       "      <td>ｓｈｕｎｎｅｄ！-1159</td>\n",
       "      <td>Zenyatta</td>\n",
       "      <td>0</td>\n",
       "    </tr>\n",
       "  </tbody>\n",
       "</table>\n",
       "<p>47244 rows × 3 columns</p>\n",
       "</div>"
      ],
      "text/plain": [
       "          Battle_Tag       variable  value\n",
       "29306  A7XViper-1268        Roadhog      0\n",
       "43022  A7XViper-1268  Wrecking Ball      0\n",
       "41498  A7XViper-1268        Winston      0\n",
       "27782  A7XViper-1268      Reinhardt      4\n",
       "12542  A7XViper-1268          Hanzo      0\n",
       "...              ...            ...    ...\n",
       "4153   ｓｈｕｎｎｅｄ！-1159       Baptiste      0\n",
       "25489  ｓｈｕｎｎｅｄ！-1159         Pharah      0\n",
       "28537  ｓｈｕｎｎｅｄ！-1159      Reinhardt      0\n",
       "22441  ｓｈｕｎｎｅｄ！-1159          Moira      0\n",
       "46825  ｓｈｕｎｎｅｄ！-1159       Zenyatta      0\n",
       "\n",
       "[47244 rows x 3 columns]"
      ]
     },
     "execution_count": 37,
     "metadata": {},
     "output_type": "execute_result"
    }
   ],
   "source": [
    "heroes_rs.sort_values(by='Battle_Tag')"
   ]
  },
  {
   "cell_type": "code",
   "execution_count": 3,
   "metadata": {},
   "outputs": [
    {
     "ename": "NameError",
     "evalue": "name 'heroes_rs' is not defined",
     "output_type": "error",
     "traceback": [
      "\u001b[0;31m---------------------------------------------------------------------------\u001b[0m",
      "\u001b[0;31mNameError\u001b[0m                                 Traceback (most recent call last)",
      "\u001b[0;32m<ipython-input-3-e598e53b464f>\u001b[0m in \u001b[0;36m<module>\u001b[0;34m\u001b[0m\n\u001b[1;32m      5\u001b[0m \u001b[0;34m\u001b[0m\u001b[0m\n\u001b[1;32m      6\u001b[0m \u001b[0;34m\u001b[0m\u001b[0m\n\u001b[0;32m----> 7\u001b[0;31m \u001b[0mheroes_rs\u001b[0m\u001b[0;34m[\u001b[0m\u001b[0;34m'Role'\u001b[0m\u001b[0;34m]\u001b[0m \u001b[0;34m=\u001b[0m \u001b[0;34m[\u001b[0m\u001b[0;34m'Tank'\u001b[0m \u001b[0;32mif\u001b[0m \u001b[0mx\u001b[0m \u001b[0;32min\u001b[0m \u001b[0mtanks\u001b[0m \u001b[0;32melse\u001b[0m \u001b[0;34m'Damage'\u001b[0m \u001b[0;32mif\u001b[0m \u001b[0mx\u001b[0m \u001b[0;32min\u001b[0m \u001b[0mdamage\u001b[0m \u001b[0;32melse\u001b[0m \u001b[0;34m'Support'\u001b[0m \u001b[0;32mfor\u001b[0m \u001b[0mx\u001b[0m \u001b[0;32min\u001b[0m \u001b[0mheroes_rs\u001b[0m\u001b[0;34m[\u001b[0m\u001b[0;34m'Hero'\u001b[0m\u001b[0;34m]\u001b[0m\u001b[0;34m]\u001b[0m\u001b[0;34m\u001b[0m\u001b[0;34m\u001b[0m\u001b[0m\n\u001b[0m",
      "\u001b[0;31mNameError\u001b[0m: name 'heroes_rs' is not defined"
     ]
    }
   ],
   "source": [
    "# Create Role category for each Hero;\n",
    "tanks = ['D.Va','Orisa', 'Reinhardt', 'Roadhog', 'Sigma', 'Winston', 'Wrecking Ball', 'Zarya']\n",
    "damage = ['Ashe','Bastion','Doomfist','Genji','Hanzo','Junkrat','McCree','Mei','Pharah','Reaper','Soldier: 76','Sombra','Symmetra','Torbjörn','Tracer','Widowmaker']\n",
    "support = ['Ana','Baptiste','Brigitte','Lúcio','Mercy','Moira','Zenyatta']\n",
    "\n",
    "\n",
    "heroes_rs['Role'] = ['Tank' if x in tanks else 'Damage' if x in damage else 'Support' for x in heroes_rs['Hero']] "
   ]
  },
  {
   "cell_type": "markdown",
   "metadata": {},
   "source": [
    "# Exploratory Data Analysis"
   ]
  },
  {
   "cell_type": "code",
   "execution_count": 16,
   "metadata": {},
   "outputs": [],
   "source": [
    "#Plot histogram to observe distribution of data for each hero.\n",
    "# heroes.hist(figsize=(27,27))"
   ]
  },
  {
   "cell_type": "code",
   "execution_count": null,
   "metadata": {},
   "outputs": [],
   "source": []
  },
  {
   "cell_type": "markdown",
   "metadata": {},
   "source": [
    "# Building the Recommendation System"
   ]
  },
  {
   "cell_type": "code",
   "execution_count": 17,
   "metadata": {},
   "outputs": [],
   "source": [
    "#Shuffle User ID's for privacy compliance: \n",
    "\n",
    "# from random import shuffle\n",
    "# word = list(word)\n",
    "# shuffle(word)\n",
    "# word = \"\".join(word)\n",
    "# print(word)"
   ]
  },
  {
   "cell_type": "code",
   "execution_count": 83,
   "metadata": {},
   "outputs": [],
   "source": [
    "#Read in Values as a Surprise Dataset:\n",
    "reader = Reader()\n",
    "data_rs = Dataset.load_from_df(heroes_rs, reader)"
   ]
  },
  {
   "cell_type": "code",
   "execution_count": 135,
   "metadata": {},
   "outputs": [
    {
     "name": "stdout",
     "output_type": "stream",
     "text": [
      "Number of users: 1524 \n",
      "\n",
      "Number of items: 31\n"
     ]
    }
   ],
   "source": [
    "#Build full trainset and see how many users and items we have:\n",
    "dataset = data_rs.build_full_trainset()\n",
    "print('Number of users:', dataset.n_users, '\\n')\n",
    "print('Number of items:', dataset.n_items)"
   ]
  },
  {
   "cell_type": "code",
   "execution_count": 90,
   "metadata": {},
   "outputs": [],
   "source": [
    "# importing relevant libraries\n",
    "from surprise.model_selection import cross_validate\n",
    "from surprise.prediction_algorithms import SVD\n",
    "from surprise.prediction_algorithms import KNNWithMeans, KNNBasic, KNNBaseline\n",
    "from surprise.model_selection import GridSearchCV\n",
    "import numpy as np"
   ]
  },
  {
   "cell_type": "code",
   "execution_count": 86,
   "metadata": {},
   "outputs": [],
   "source": [
    "## Perform a gridsearch with SVD\n",
    "# ⏰ This cell may take several minutes to run\n",
    "params = {'n_factors': [20, 50, 100],\n",
    "          'reg_all': [0.02, 0.05, 0.1]}\n",
    "g_s_svd = GridSearchCV(SVD, param_grid=params, n_jobs= -1)\n",
    "g_s_svd.fit(data_rs)"
   ]
  },
  {
   "cell_type": "code",
   "execution_count": 87,
   "metadata": {},
   "outputs": [
    {
     "name": "stdout",
     "output_type": "stream",
     "text": [
      "{'rmse': {'n_factors': 100, 'reg_all': 0.1}, 'mae': {'n_factors': 100, 'reg_all': 0.1}} \n",
      "\n",
      "{'rmse': 1.3264689050721024, 'mae': 1.1644006950229897}\n"
     ]
    }
   ],
   "source": [
    "# print out optimal parameters for SVD after GridSearch\n",
    "print(g_s_svd.best_params, '\\n') \n",
    "print(g_s_svd.best_score)"
   ]
  },
  {
   "cell_type": "code",
   "execution_count": 88,
   "metadata": {},
   "outputs": [],
   "source": [
    "# cross validating with KNNBasic pearsons similarity\n",
    "knn_basic = KNNBasic(sim_options={'name':'pearson', 'user_based':True})\n",
    "cv_knn_basic = cross_validate(knn_basic, data_rs, n_jobs=-1)"
   ]
  },
  {
   "cell_type": "code",
   "execution_count": 95,
   "metadata": {},
   "outputs": [],
   "source": [
    "#Cross validating with KNN basic cosine similarity\n",
    "knn_basic_cos = KNNBasic(sim_options={'name':'cosine', 'user_based':True})\n",
    "cv_knn_basic_cos = cross_validate(knn_basic_cos, data_rs, n_jobs=-1)"
   ]
  },
  {
   "cell_type": "code",
   "execution_count": 94,
   "metadata": {},
   "outputs": [
    {
     "name": "stdout",
     "output_type": "stream",
     "text": [
      "('test_rmse', array([1.30160276, 1.30342869, 1.30365551, 1.3231148 , 1.29291238]))\n",
      "('test_mae', array([1.15785158, 1.15890252, 1.15982001, 1.17086337, 1.1544027 ]))\n",
      "('fit_time', (11.728589057922363, 12.497016906738281, 12.037712097167969, 11.656111240386963, 4.9089720249176025))\n",
      "('test_time', (20.48473286628723, 20.673447132110596, 20.084001064300537, 19.08134889602661, 6.864269018173218))\n",
      "-----------------------\n",
      "Mean RMSE: 1.3049428291027632\n",
      "Mean AME: 1.160368036657315\n"
     ]
    }
   ],
   "source": [
    "#FOR BASIC KNN pearsons sim:  print out the average RMSE and AME score for the test set\n",
    "\n",
    "for i in cv_knn_basic.items():\n",
    "    print(i)\n",
    "print('-----------------------')\n",
    "print('Mean RMSE:', np.mean(cv_knn_basic['test_rmse']))\n",
    "print('Mean AME:', np.mean(cv_knn_basic['test_mae']))"
   ]
  },
  {
   "cell_type": "code",
   "execution_count": 97,
   "metadata": {},
   "outputs": [
    {
     "name": "stdout",
     "output_type": "stream",
     "text": [
      "('test_rmse', array([1.29940975, 1.30326923, 1.2963655 , 1.31497359, 1.29832066]))\n",
      "('test_mae', array([1.15615153, 1.15802038, 1.15501874, 1.16524265, 1.15570137]))\n",
      "('fit_time', (5.364799976348877, 6.118090867996216, 6.716567039489746, 6.546181917190552, 5.757969856262207))\n",
      "('test_time', (19.506115198135376, 20.265190839767456, 20.45352292060852, 19.826094150543213, 8.526690006256104))\n",
      "-----------------------\n",
      "Mean RMSE: 1.3024677447674564\n",
      "Mean AME: 1.158026933453542\n"
     ]
    }
   ],
   "source": [
    "# for BASIC KNN cosine sim:  print out the average RMSE and AME score for the test set\n",
    "\n",
    "for i in cv_knn_basic_cos.items():\n",
    "    print(i)\n",
    "print('-----------------------')\n",
    "print('Mean RMSE:', np.mean(cv_knn_basic_cos['test_rmse']))\n",
    "print('Mean AME:', np.mean(cv_knn_basic_cos['test_mae']))"
   ]
  },
  {
   "cell_type": "code",
   "execution_count": 99,
   "metadata": {},
   "outputs": [
    {
     "name": "stdout",
     "output_type": "stream",
     "text": [
      "Estimating biases using als...\n",
      "Computing the cosine similarity matrix...\n"
     ]
    },
    {
     "name": "stderr",
     "output_type": "stream",
     "text": [
      "/opt/anaconda3/lib/python3.7/site-packages/surprise/prediction_algorithms/algo_base.py:248: RuntimeWarning: invalid value encountered in double_scalars\n",
      "  sim = construction_func[name](*args)\n"
     ]
    },
    {
     "name": "stdout",
     "output_type": "stream",
     "text": [
      "Done computing similarity matrix.\n",
      "Estimating biases using als...\n",
      "Computing the cosine similarity matrix...\n",
      "Done computing similarity matrix.\n",
      "Estimating biases using als...\n",
      "Computing the cosine similarity matrix...\n",
      "Done computing similarity matrix.\n",
      "Estimating biases using als...\n",
      "Computing the cosine similarity matrix...\n",
      "Done computing similarity matrix.\n",
      "Estimating biases using als...\n",
      "Computing the cosine similarity matrix...\n",
      "Done computing similarity matrix.\n"
     ]
    }
   ],
   "source": [
    "# Crossvalidating with Baseline \n",
    "knn_baseline = KNNBaseline(sim_options={'name':'cosine', 'user_based':True})\n",
    "cv_knn_baseline = cross_validate(knn_baseline,data_rs)"
   ]
  },
  {
   "cell_type": "code",
   "execution_count": 109,
   "metadata": {},
   "outputs": [
    {
     "name": "stdout",
     "output_type": "stream",
     "text": [
      "('test_rmse', array([1.32672007, 1.30757322, 1.31125531, 1.31025705, 1.30316798]))\n",
      "('test_mae', array([1.17340217, 1.16249781, 1.16300706, 1.16167806, 1.16007906]))\n",
      "('fit_time', (4.412320137023926, 6.245452165603638, 3.9241180419921875, 3.9462227821350098, 3.7220499515533447))\n",
      "('test_time', (11.631180047988892, 11.80039119720459, 9.446741104125977, 11.224421262741089, 10.945563793182373))\n",
      "-----------------------\n",
      "Mean RMSE: 1.3117947233113978\n",
      "Mean AME: 1.1641328332399152\n"
     ]
    }
   ],
   "source": [
    "# FOR BASELINE KNN print out the average RMSE and AME score for the test set\n",
    "for i in cv_knn_baseline.items():\n",
    "    print(i)\n",
    "print('-----------------------')\n",
    "print('Mean RMSE:', np.mean(cv_knn_baseline['test_rmse']))\n",
    "print('Mean AME:', np.mean(cv_knn_baseline['test_mae']))"
   ]
  },
  {
   "cell_type": "code",
   "execution_count": 1,
   "metadata": {},
   "outputs": [
    {
     "ename": "NameError",
     "evalue": "name 'KNNWithMeans' is not defined",
     "output_type": "error",
     "traceback": [
      "\u001b[0;31m---------------------------------------------------------------------------\u001b[0m",
      "\u001b[0;31mNameError\u001b[0m                                 Traceback (most recent call last)",
      "\u001b[0;32m<ipython-input-1-eb39d50f32b7>\u001b[0m in \u001b[0;36m<module>\u001b[0;34m\u001b[0m\n\u001b[1;32m      1\u001b[0m \u001b[0;31m#Crossvalidate KNN with means:\u001b[0m\u001b[0;34m\u001b[0m\u001b[0;34m\u001b[0m\u001b[0;34m\u001b[0m\u001b[0m\n\u001b[1;32m      2\u001b[0m \u001b[0msim_cosine\u001b[0m \u001b[0;34m=\u001b[0m \u001b[0;34m{\u001b[0m\u001b[0;34m'name'\u001b[0m\u001b[0;34m:\u001b[0m\u001b[0;34m'cosine'\u001b[0m\u001b[0;34m,\u001b[0m \u001b[0;34m'user_based'\u001b[0m\u001b[0;34m:\u001b[0m\u001b[0;32mFalse\u001b[0m\u001b[0;34m}\u001b[0m\u001b[0;34m\u001b[0m\u001b[0;34m\u001b[0m\u001b[0m\n\u001b[0;32m----> 3\u001b[0;31m \u001b[0mknn_means\u001b[0m \u001b[0;34m=\u001b[0m \u001b[0mKNNWithMeans\u001b[0m\u001b[0;34m(\u001b[0m\u001b[0msim_options\u001b[0m\u001b[0;34m=\u001b[0m\u001b[0msim_cosine\u001b[0m\u001b[0;34m)\u001b[0m\u001b[0;34m\u001b[0m\u001b[0;34m\u001b[0m\u001b[0m\n\u001b[0m\u001b[1;32m      4\u001b[0m \u001b[0mcv_knn_means\u001b[0m \u001b[0;34m=\u001b[0m \u001b[0mcross_validate\u001b[0m\u001b[0;34m(\u001b[0m\u001b[0mknn_means\u001b[0m\u001b[0;34m,\u001b[0m \u001b[0mdata_rs\u001b[0m\u001b[0;34m,\u001b[0m \u001b[0mn_jobs\u001b[0m\u001b[0;34m=\u001b[0m\u001b[0;34m-\u001b[0m\u001b[0;36m1\u001b[0m\u001b[0;34m)\u001b[0m\u001b[0;34m\u001b[0m\u001b[0;34m\u001b[0m\u001b[0m\n",
      "\u001b[0;31mNameError\u001b[0m: name 'KNNWithMeans' is not defined"
     ]
    }
   ],
   "source": [
    "#Crossvalidate KNN with means:\n",
    "sim_cosine = {'name':'cosine', 'user_based':False}\n",
    "knn_means = KNNWithMeans(sim_options=sim_cosine)\n",
    "cv_knn_means = cross_validate(knn_means, data_rs, n_jobs=-1)\n"
   ]
  },
  {
   "cell_type": "code",
   "execution_count": 112,
   "metadata": {},
   "outputs": [
    {
     "name": "stdout",
     "output_type": "stream",
     "text": [
      "('test_rmse', array([1.33339021, 1.34078632, 1.32568397, 1.33738157, 1.33175626]))\n",
      "('test_mae', array([1.17022912, 1.17820921, 1.16780135, 1.17429205, 1.17100421]))\n",
      "('fit_time', (0.024574995040893555, 0.02240777015686035, 0.024407148361206055, 0.03447294235229492, 0.02077198028564453))\n",
      "('test_time', (0.5237538814544678, 0.4572148323059082, 0.4230787754058838, 0.45990991592407227, 0.3926992416381836))\n",
      "-----------------------\n",
      "Mean RMSE: 1.3337996651903492\n",
      "Mean AME: 1.1723071870850867\n"
     ]
    }
   ],
   "source": [
    "# for MEANS KNN print average RMSE \n",
    "for i in cv_knn_means.items():\n",
    "    print(i)\n",
    "print('-----------------------')\n",
    "print('Mean RMSE:', np.mean(cv_knn_means['test_rmse']))\n",
    "print('Mean AME:', np.mean(cv_knn_means['test_mae']))"
   ]
  },
  {
   "cell_type": "code",
   "execution_count": 114,
   "metadata": {},
   "outputs": [
    {
     "data": {
      "text/plain": [
       "'--------------------------------------------------------------------'"
      ]
     },
     "execution_count": 114,
     "metadata": {},
     "output_type": "execute_result"
    }
   ],
   "source": [
    "'''--------------------------------------------------------------------'''"
   ]
  },
  {
   "cell_type": "code",
   "execution_count": 115,
   "metadata": {},
   "outputs": [],
   "source": [
    "# ## Perform a gridsearch2 with SVD with modifications\n",
    "# # ⏰ This cell may take several minutes to run\n",
    "# params = {'n_factors': [100, 130],\n",
    "#           'reg_all': [0.1, 0.15]}\n",
    "# g_s_svd = GridSearchCV(SVD, param_grid=params, n_jobs= -1)\n",
    "# g_s_svd.fit(data_rs)"
   ]
  },
  {
   "cell_type": "code",
   "execution_count": 116,
   "metadata": {},
   "outputs": [
    {
     "name": "stdout",
     "output_type": "stream",
     "text": [
      "{'rmse': {'n_factors': 100, 'reg_all': 0.1}, 'mae': {'n_factors': 100, 'reg_all': 0.1}} \n",
      "\n",
      "{'rmse': 1.3281975010503686, 'mae': 1.1652831317759267}\n"
     ]
    }
   ],
   "source": [
    "# # print out optimal parameters for SVD after GridSearch2 \n",
    "# print(g_s_svd.best_params, '\\n') \n",
    "# print(g_s_svd.best_score)"
   ]
  },
  {
   "cell_type": "code",
   "execution_count": 117,
   "metadata": {},
   "outputs": [],
   "source": [
    "#They are the same as before..."
   ]
  },
  {
   "cell_type": "markdown",
   "metadata": {},
   "source": [
    "## Making the first predictions:"
   ]
  },
  {
   "cell_type": "code",
   "execution_count": 138,
   "metadata": {},
   "outputs": [
    {
     "name": "stdout",
     "output_type": "stream",
     "text": [
      "Computing the pearson similarity matrix...\n",
      "Done computing similarity matrix.\n"
     ]
    },
    {
     "data": {
      "text/plain": [
       "<surprise.prediction_algorithms.knns.KNNBasic at 0x119868e50>"
      ]
     },
     "execution_count": 138,
     "metadata": {},
     "output_type": "execute_result"
    }
   ],
   "source": [
    "knn_basic.fit(dataset)\n"
   ]
  },
  {
   "cell_type": "code",
   "execution_count": 155,
   "metadata": {},
   "outputs": [
    {
     "data": {
      "text/plain": [
       "Prediction(uid='Zinux-1251', iid='Hanzo', r_ui=None, est=4.092555901500139, details={'actual_k': 40, 'was_impossible': False})"
      ]
     },
     "execution_count": 155,
     "metadata": {},
     "output_type": "execute_result"
    }
   ],
   "source": [
    "knn_basic.predict('Zinux-1251', 'Hanzo')"
   ]
  },
  {
   "cell_type": "markdown",
   "metadata": {},
   "source": [
    "# Making Recommendations"
   ]
  },
  {
   "cell_type": "markdown",
   "metadata": {},
   "source": [
    "## Obtaining User Ratings"
   ]
  },
  {
   "cell_type": "markdown",
   "metadata": {},
   "source": [
    "https://playoverwatch.com/en-us/heroes/ana/\n"
   ]
  },
  {
   "cell_type": "code",
   "execution_count": null,
   "metadata": {},
   "outputs": [],
   "source": []
  }
 ],
 "metadata": {
  "kernelspec": {
   "display_name": "Python 3",
   "language": "python",
   "name": "python3"
  },
  "language_info": {
   "codemirror_mode": {
    "name": "ipython",
    "version": 3
   },
   "file_extension": ".py",
   "mimetype": "text/x-python",
   "name": "python",
   "nbconvert_exporter": "python",
   "pygments_lexer": "ipython3",
   "version": "3.7.4"
  }
 },
 "nbformat": 4,
 "nbformat_minor": 4
}
